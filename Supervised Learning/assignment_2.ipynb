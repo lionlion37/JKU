{
 "cells": [
  {
   "cell_type": "markdown",
   "metadata": {},
   "source": [
    "<h1 style=\"color:rgb(0,120,170)\">Assignment 2: Gaussian Classifier, Bias-Variance Decomposition, Evaluation </h1>"
   ]
  },
  {
   "cell_type": "markdown",
   "metadata": {},
   "source": [
    "This material, no matter whether in printed or electronic form,\n",
    "may be used for personal and non-commercial educational use\n",
    "only. Any reproduction of this material, no matter whether as a\n",
    "whole or in parts, no matter whether in printed or in electronic\n",
    "form, requires explicit prior acceptance of the authors."
   ]
  },
  {
   "cell_type": "markdown",
   "metadata": {},
   "source": [
    "<h2 style=\"color:rgb(0,120,170)\">Automatic Testing Guidelines</h2>\n",
    "\n",
    "Automatic unittesting requiers you, as a student, to submit notebook which contains strictly defined objects.\n",
    "Strictness of definition consists of unified shapes, dtypes, variable names and more.<br>\n",
    "Within the notebook we provide detailed instruction which you may want to follow in order to maximise your final grade.\n",
    "\n",
    "**Name your notebook properly**, follow the pattern in template name:\n",
    "\n",
    "**Assignment_N_NameSurname_matrnumber**\n",
    "<ol>\n",
    "    <li>N - number of assignment</li>\n",
    "    <li>NameSurname - your full name where evry part of the name strats from capital letter, no spaces</li>\n",
    "    <li>matrnumber - you student number on ID card (without k)</li>\n",
    "</ol>\n",
    "\n",
    "Don't add any cells but use the ones provided by us.\n",
    "You may notice, that most cells are tagged, that is the way for unittest routine to recognise them.\n",
    "We highly recommend you to develop your code within provided cells. You can implement helper functions where needed unless you put them in the same cell they are actually called. Always make sure, that implemented functions have the correct output and given variables contain the correct data type. **NOTE:** Never use variables you defined in another cell in your functions directly - always pass them to the function as an parameter. In the unitest they won't be available either...\n",
    "\n",
    "**Please be careful**, and may force be with you."
   ]
  },
  {
   "cell_type": "markdown",
   "metadata": {},
   "source": [
    "<h2 style=\"color:rgb(0,120,170)\">Task 1: Gaussian classifier: visualization & parameter estimation</h2>\n",
    "\n",
    "* Visualize the data stored in `Normal.csv` with two different colors using a scatter plot and store it in the given variable. Always label the axes of all your plots.\n",
    "* We assume that the data are distributed according to a two-dimensional multivariate normal distribution. Write a function that estimates the means and covariance matrices as well as $p(y=+1)$ and $p(y=-1)$\n",
    "from data given as a parameter and return a tuple containing the results (the resulting list should be of length 6)."
   ]
  },
  {
   "cell_type": "markdown",
   "metadata": {},
   "source": [
    "<h3 style=\"color:rgb(210,90,80)\">1.1. Code (10 points):</h3>"
   ]
  },
  {
   "cell_type": "code",
   "execution_count": 1,
   "metadata": {
    "tags": [
     "imports"
    ]
   },
   "outputs": [],
   "source": [
    "import sklearn\n",
    "import numpy as np\n",
    "import pandas as pd\n",
    "import matplotlib.pyplot as plt\n",
    "from scipy.stats import multivariate_normal\n",
    "from mpl_toolkits.mplot3d import Axes3D\n",
    "import random\n",
    "%matplotlib inline  "
   ]
  },
  {
   "cell_type": "code",
   "execution_count": 2,
   "metadata": {
    "scrolled": true,
    "tags": [
     "Plot1"
    ]
   },
   "outputs": [
    {
     "data": {
      "image/png": "[encoded data removed]",
      "text/plain": [
       "<Figure size 432x288 with 1 Axes>"
      ]
     },
     "metadata": {
      "needs_background": "light"
     },
     "output_type": "display_data"
    }
   ],
   "source": [
    "# read data, split into X (features) and y (labels)\n",
    "Z = np.genfromtxt('normal.csv', delimiter=',')\n",
    "X, y = Z[:,:-1], Z[:,-1]\n",
    "\n",
    "#Your code\n",
    "plot1 = plt.subplots()\n",
    "plt.xlabel('x_1')\n",
    "plt.ylabel('x_2')\n",
    "plt.title('Normal.csv')\n",
    "cdict = {1: 'blue', -1: 'orange'}\n",
    "for g in np.unique(y):\n",
    "    ix = np.where(y == g)\n",
    "    plot1[1].scatter(X[ix,0], X[ix,1], c = cdict[g], label = int(g))\n",
    "plot1[1].legend()\n",
    "plt.show()"
   ]
  },
  {
   "cell_type": "code",
   "execution_count": 3,
   "metadata": {
    "tags": [
     "est_mean_cov"
    ]
   },
   "outputs": [
    {
     "name": "stdout",
     "output_type": "stream",
     "text": [
      "Positive class (blue):\n",
      "\n",
      "Covarianve:\n",
      "\n",
      "          x1        x2\n",
      "x1  8.442267  2.017815\n",
      "x2  2.017815  0.953326 \n",
      "\n",
      "Mean = [-0.14820707 -0.03790113] \n",
      "\n",
      "p(y=+1) = 0.5 \n",
      "\n",
      "\n",
      "Negative class (orange):\n",
      "\n",
      "Covarianve:\n",
      "\n",
      "          x1         x2\n",
      "x1  0.198607  -0.161064\n",
      "x2 -0.161064  12.553366 \n",
      "\n",
      "Mean = [0.0340324  0.16727881] \n",
      "\n",
      "p(y=+1) = 0.5 \n",
      "\n"
     ]
    }
   ],
   "source": [
    "\"\"\"\n",
    "Function that estimates the means and covariance matrices from the given data as well as the probability to encounter\n",
    "a positive/negative example respectively\n",
    "@param X_, np ndarray, data matrix\n",
    "@param y_, np ndarray, data vector\n",
    "\"\"\"\n",
    "def est_mean_cov(X_,y_):  \n",
    "    #replace the following line with your lines of code\n",
    "    \n",
    "    # p(y)\n",
    "\n",
    "    p_ypos = np.count_nonzero(y_ == 1) / len(y_)\n",
    "    p_yneg = np.count_nonzero(y_ == -1) / len(y_)\n",
    "    \n",
    "    # X\n",
    "    \n",
    "    meanXpos = np.array([np.mean(X_[np.where(y_ == 1), 0]), np.mean(X_[np.where(y_ == 1), 1])])\n",
    "    meanXneg = np.array([np.mean(X_[np.where(y_ == -1), 0]), np.mean(X_[np.where(y_ == -1), 1])])\n",
    "    \n",
    "    covXpos = np.cov(X[np.where(y == 1), 0], X[np.where(y == 1), 1])\n",
    "    covXneg = np.cov(X[np.where(y == -1), 0], X[np.where(y == -1), 1])\n",
    "    \n",
    "    return covXpos, meanXpos,p_ypos,covXneg,meanXneg,p_yneg\n",
    "    \n",
    "    \n",
    "covXpos, meanXpos,p_ypos,covXneg,meanXneg,p_yneg = est_mean_cov(X,y)\n",
    "    \n",
    "#print corresponding values\n",
    "print(\"Positive class (blue):\\n\")\n",
    "print(\"Covarianve:\\n\")\n",
    "print(pd.DataFrame(covXpos,columns=[\"x1\",\"x2\"],index=[\"x1\",\"x2\"]),\"\\n\")\n",
    "print(\"Mean =\", meanXpos, \"\\n\")\n",
    "print(\"p(y=+1) =\", p_ypos, \"\\n\\n\")\n",
    "print(\"Negative class (orange):\\n\")\n",
    "print(\"Covarianve:\\n\")\n",
    "print(pd.DataFrame(covXneg,columns=[\"x1\",\"x2\"],index=[\"x1\",\"x2\"]),\"\\n\")\n",
    "print(\"Mean =\", meanXneg, \"\\n\")\n",
    "print(\"p(y=+1) =\", p_yneg, \"\\n\")"
   ]
  },
  {
   "cell_type": "markdown",
   "metadata": {},
   "source": [
    "<h2 style=\"color:rgb(0,120,170)\">Task 2: Gaussian classifier: compute classifier & visualization</h2>\n",
    "\n",
    "* Compute an optimal classification function $g$ (see slide 17 from lectures Unit 2) by calculating the values of the corresponding parameters $\\mathbf{A}$, $\\mathbf{b}$ and $\\mathbf{c}$ and store the results in the given parameters par_A,par,b, par_c and func_g. To do this, add the respective calculations to the provided functions. Print the solutions. **Note:** You can reuse the results from the previous exercise here.\n",
    "* Visualize the classification function and the decision boundaries in a two-dimensional plot.\n"
   ]
  },
  {
   "cell_type": "markdown",
   "metadata": {},
   "source": [
    "<h3 style=\"color:rgb(210,90,80)\">2.1 Code (20 points):</h3>"
   ]
  },
  {
   "cell_type": "code",
   "execution_count": 4,
   "metadata": {
    "scrolled": true,
    "tags": [
     "parameters"
    ]
   },
   "outputs": [
    {
     "data": {
      "image/png": "[encoded data removed]",
      "text/plain": [
       "<Figure size 432x288 with 1 Axes>"
      ]
     },
     "metadata": {
      "needs_background": "light"
     },
     "output_type": "display_data"
    }
   ],
   "source": [
    "\"\"\"\n",
    "These functions should contain the calculations for the respective Parameter and return the result.\n",
    "@param covXpos, np ndarray, covariance matrix of positive examples\n",
    "@param meanXpos, np ndarray, mean of positive examples\n",
    "@param covXneg, np ndarray, covariance matrix of negativ examples\n",
    "@param meanXneg, np ndarray, mean of negative examples\n",
    "\"\"\"\n",
    "def calc_par_A(covXpos, meanXpos,covXneg,meanXneg,p_ypos,p_yneg):\n",
    "    #replace the following line with your lines of code\n",
    "    return np.linalg.inv(covXpos) - np.linalg.inv(covXneg)\n",
    "\n",
    "def calc_par_b(covXpos, meanXpos,covXneg,meanXneg,p_ypos,p_yneg):\n",
    "    #replace the following line with your lines of code\n",
    "    return np.matmul(np.linalg.inv(covXpos), meanXpos) - np.matmul(np.linalg.inv(covXneg), meanXneg)\n",
    "\n",
    "def calc_par_c(covXpos, meanXpos,covXneg,meanXneg,p_ypos,p_yneg):\n",
    "    #replace the following line with your lines of code\n",
    "    result = -(1/2) * np.matmul(np.matmul(meanXpos.transpose(), np.linalg.inv(covXpos)), meanXpos) + \\\n",
    "              (1/2) * np.matmul(np.matmul(meanXneg.transpose(), np.linalg.inv(covXneg)), meanXneg) - \\\n",
    "              (1/2) * np.log(np.linalg.det(covXpos)) + (1/2) * np.log(np.linalg.det(covXneg)) + np.log(p_ypos) - np.log(p_yneg)\n",
    "            \n",
    "    return result\n",
    "    \n",
    "\"\"\"\n",
    "Combine the previously calculates parameters to the optimal classification function g.\n",
    "@param points, np.array, the points the function g should be applied to\n",
    "\"\"\"\n",
    "def calc_func_g(par_A, par_b,par_c,points):\n",
    "    #replace the following line with your lines of code\n",
    "    func_vals = []\n",
    "    for point in points:\n",
    "        func_vals.append(np.sign(-(1/2) * np.matmul(np.matmul(point.transpose(), par_A), point) + np.matmul(par_b.transpose(), point) + par_c))\n",
    "    \n",
    "    return np.array(func_vals)\n",
    "\n",
    "#Some code that should help you\n",
    "X1, X2 = np.mgrid[-10.5:10.5:500j, -10.5:10.5:500j]\n",
    "points = np.c_[X1.ravel(), X2.ravel()]\n",
    "\n",
    "\n",
    "    \n",
    "par_A = calc_par_A(covXpos, meanXpos,covXneg,meanXneg,p_ypos,p_yneg)\n",
    "par_b = calc_par_b(covXpos, meanXpos,covXneg,meanXneg,p_ypos,p_yneg)\n",
    "par_c = calc_par_c(covXpos, meanXpos,covXneg,meanXneg,p_ypos,p_yneg)\n",
    "func_g = calc_func_g(par_A, par_b,par_c,points)\n",
    "\n",
    "#your Code\n",
    "plot2 = plt.subplots()\n",
    "plt.xlabel('x_1')\n",
    "plt.ylabel('x_2')\n",
    "plt.title('Gaussian Classifier')\n",
    "cdict = {1: 'blue', -1: 'orange'}\n",
    "for g in np.unique(func_g):\n",
    "    ix = np.where(func_g == g)\n",
    "    plot2[1].scatter(points[ix,0], points[ix,1], c = cdict[g], label = int(g), s=0.05)\n",
    "plot2[1].legend(markerscale=20)\n",
    "plt.show()"
   ]
  },
  {
   "cell_type": "markdown",
   "metadata": {},
   "source": [
    "<h2 style=\"color:rgb(0,120,170)\">Task 3: Details for bias-variance decomposition for quadratic loss </h2>\n",
    "\n",
    "Also an explicit formula of the bias variance decomposition for the quadratic loss was mentioned in the lecture. In this task, you will be asked to fill in some details that haven't been discussed there. To this end, let us introduce some notation:\n",
    "\n",
    "$Z_l$ denotes a data matrix of $l$ elements from our data set $Z =(X,\\mathbf{y})$ with $X$ the feature matrix and $\\mathbf{y}$ the label vector. $g(\\mathbf{x}_0;\\mathbf{w}(Z_l)))$ denotes the model, with a parameter vector $\\mathbf{w}(Z_l)$ originating from $Z_l$, and $y$ is the label corresponding to a feature vector $\\mathbf{x}_0$. \n",
    "\n",
    "Our object of interest is the expected prediction error (EPE) for\n",
    "$\\mathbf{x}_0\\in X$ in case of the quadratic loss, i.e.:\n",
    "\n",
    "$$\\mathrm{EPE}(\\mathbf{x}_0) = \\mathrm{E}_{y\\mid\n",
    "\\mathbf{x}_0,Z_l}\\big(L_{\\mathbf{q}}(y,g(\\mathbf{x}_0;\\mathbf{w}(Z_l)))\\big)\n",
    "= \\mathrm{E}_{y\\mid\n",
    "\\mathbf{x}_0,Z_l}\\big((y-g(\\mathbf{x}_0;\\mathbf{w}(Z_l)))^2\\big)$$\n",
    "\n",
    "We assume that $y\\mid\\mathbf{x}_0$ and the selection of training samples $Z_l$ are\n",
    "independent which results in the following reformulation of the total expected prediction error:\n",
    "\n",
    "$$\\mathrm{EPE}(\\mathbf{x}_0) = \\mathrm{E}_{y\\mid\n",
    "\\mathbf{x}_0}\\Big(\\mathrm{E}_{Z_l}\\big((y-g(\\mathbf{x}_0;\\mathbf{w}(Z_l)))^2\\big)\\Big)$$\n",
    "\n",
    "Show that we can obtain the following bias-variance decomposition:\n",
    "\n",
    "\\begin{align*}\n",
    "\\mathrm{EPE}(\\mathbf{x}_0)=&\\,\\operatorname{Var}(y\\mid\\mathbf{x}_0)\\\\\n",
    "&+\\Big(\\mathrm{E}_{y\\mid\\mathbf{x}_0}(y)-E_{Z_l}\\big(g(\\mathbf{x}_0;\\mathbf{w}(Z_l))\\big)\\Big)^2\\\\\n",
    "&+\\mathrm{E}_{Z_l}\\Big(\\big(g(\\mathbf{x}_0;\\mathbf{w}(Z_l))-E_{Z_l}(g(\\mathbf{x}_0;\\mathbf{w}(Z_l)))\\big)^2\\Big)\n",
    "\\end{align*}\n",
    "\n",
    "For your calculation please use the given notation."
   ]
  },
  {
   "cell_type": "markdown",
   "metadata": {},
   "source": [
    "<h3 style=\"color:rgb(210,90,80)\">3.1 Calculation (5 points): Expand the quardratic loss.</h3>"
   ]
  },
  {
   "cell_type": "markdown",
   "metadata": {
    "tags": [
     "Calculation1"
    ]
   },
   "source": [
    "$$\\mathrm{EPE}(\\mathbf{x}_0) = \\mathrm{E}_{y\\mid\\mathbf{x}_0}\\Big(\\mathrm{E}_{Z_l}\\big((y-g(\\mathbf{x}_0;\\mathbf{w}(Z_l)))^2\\big)\\Big)=$$\n",
    "\n",
    "$$=\\mathrm{E}_{y|x_0}\\Big(\\mathrm{E}_{Z_l}\\big(y²-2*y*g(\\mathbf{x}_0;\\mathbf{w}(Z_l))+g(\\mathbf{x}_0;\\mathbf{w}(Z_l))^2\\big)\\Big)=$$\n",
    "\n",
    "$$=\\mathrm{E}_{y|x_0}\\Big(y^2-2*y*\\mathrm{E}_{Z_l}(g(\\mathbf{x}_0;\\mathbf{w}(Z_l)))+\\mathrm{E}_{Z_l}(g(\\mathbf{x}_0;\\mathbf{w}(Z_l))^2)\\Big)=$$\n",
    "\n",
    "$$=\\mathrm{E}_{y|x_0}(y^2)-2*\\mathrm{E}_{y|x_0}(y)*\\mathrm{E}_{Z_l}(g(\\mathbf{x}_0;\\mathbf{w}(Z_l)))+\\mathrm{E}_{Z_l}(g(\\mathbf{x}_0;\\mathbf{w}(Z_l))^2)=$$\n",
    "\n",
    "$$=\\mathrm{E}_{y|x_0}(y^2)-\\mathrm{E}_{y|x_0}(y)^2+\\mathrm{E}_{y|x_0}(y)^2-2*\\mathrm{E}_{y|x_0}(y)*\\mathrm{E}_{Z_l}(g(\\mathbf{x}_0;\\mathbf{w}(Z_l)))+\\mathrm{E}_{Z_l}(g(\\mathbf{x}_0;\\mathbf{w}(Z_l)))^2+\\mathrm{E}_{Z_l}(g(\\mathbf{x}_0;\\mathbf{w}(Z_l))^2)-\\mathrm{E}_{Z_l}(g(\\mathbf{x}_0;\\mathbf{w}(Z_l)))^2$$"
   ]
  },
  {
   "cell_type": "markdown",
   "metadata": {},
   "source": [
    "<h3 style=\"color:rgb(210,90,80)\">3.2 Calculation (2 points): Rewrite $\\operatorname{Var}(y\\mid\\mathbf{x}_0)$ using expected values. </h3>"
   ]
  },
  {
   "cell_type": "markdown",
   "metadata": {
    "tags": [
     "Calculation2"
    ]
   },
   "source": [
    "$$\\operatorname{Var}(y\\mid\\mathbf{x}_0) =$$\n",
    "\n",
    "$$=\\mathrm{E}_{y|x_0}(y^2)-\\mathrm{E}_{y|x_0}(y)^2$$"
   ]
  },
  {
   "cell_type": "markdown",
   "metadata": {},
   "source": [
    "<h3 style=\"color:rgb(210,90,80)\">3.3. Calculation (3 points): Expand the squared bias.</h3>"
   ]
  },
  {
   "cell_type": "markdown",
   "metadata": {
    "tags": [
     "Calculation3"
    ]
   },
   "source": [
    "$$\\Big(\\mathrm{E}_{y\\mid\\mathbf{x}_0}(y)-E_{Z_l}\\big(g(\\mathbf{x}_0;\\mathbf{w}(Z_l))\\big)\\Big)^2 =$$\n",
    "\n",
    "$$=\\mathrm{E}_{y\\mid\\mathbf{x}_0}(y)^2 - 2*\\mathrm{E}_{y\\mid\\mathbf{x}_0}(y)*E_{Z_l}\\big(g(\\mathbf{x}_0;\\mathbf{w}(Z_l))\\big) + E_{Z_l}\\big(g(\\mathbf{x}_0;\\mathbf{w}(Z_l))\\big)^2$$"
   ]
  },
  {
   "cell_type": "markdown",
   "metadata": {},
   "source": [
    "<h3 style=\"color:rgb(210,90,80)\">3.4 Calculation (5 points): Expand the variance of the model.</h3>"
   ]
  },
  {
   "cell_type": "markdown",
   "metadata": {
    "tags": [
     "Calculation4"
    ]
   },
   "source": [
    "$$\\mathrm{E}_{Z_l}\\Big(\\big(g(\\mathbf{x}_0;\\mathbf{w}(Z_l))-E_{Z_l}\\big(g(\\mathbf{x}_0;\\mathbf{w}(Z_l))\\big)\\big)^2\\Big) =$$\n",
    "\n",
    "$$=\\mathrm{E}_{Z_l}\\Big(g(\\mathbf{x}_0;\\mathbf{w}(Z_l))^2 - 2*g(\\mathbf{x}_0;\\mathbf{w}(Z_l))*E_{Z_l}\\big(g(\\mathbf{x}_0;\\mathbf{w}(Z_l))\\big) + E_{Z_l}\\big(g(\\mathbf{x}_0;\\mathbf{w}(Z_l))\\big)^2\\Big)=$$\n",
    "\n",
    "$$=\\mathrm{E}_{Z_l}(g(\\mathbf{x}_0;\\mathbf{w}(Z_l))^2)-2*\\mathrm{E}_{Z_l}(g(\\mathbf{x}_0;\\mathbf{w}(Z_l)))^2+\\mathrm{E}_{Z_l}(g(\\mathbf{x}_0;\\mathbf{w}(Z_l)))^2=$$\n",
    "\n",
    "$$=\\mathrm{E}_{Z_l}(g(\\mathbf{x}_0;\\mathbf{w}(Z_l))^2)-\\mathrm{E}_{Z_l}(g(\\mathbf{x}_0;\\mathbf{w}(Z_l)))^2$$"
   ]
  },
  {
   "cell_type": "markdown",
   "metadata": {},
   "source": [
    "<h2 style=\"color:rgb(0,120,170)\">Task 4: Bias-variance decomposition for regression </h2>"
   ]
  },
  {
   "cell_type": "markdown",
   "metadata": {},
   "source": [
    "<h3 style=\"color:rgb(210,90,80)\">4.1 Question (5 points):</h3>\n",
    "\n",
    "Consider the following one-dimensional regression task: inputs $x$ are\n",
    "sampled from the uniform distribution in $[−1, 3] \\subset \\mathbb{R}$ and targets $y$ are given as\n",
    "\n",
    "\\begin{align*}\n",
    "f(x) &= 0.6\\,x^4 + 2\\,x^3 - 8\\,x^2 \\\\\n",
    "y &= f(x) + \\varepsilon,\n",
    "\\end{align*}\n",
    "\n",
    "where $\\varepsilon$ is independent normally distributied noise with $\\mu=0$ and $\\sigma^2 = 0.09$. \n",
    "\n",
    "* What are $E(y \\mid x_0)$ and the unavoidable error $\\operatorname{Var}(y \\mid x_0)$ for a fixed $x_0$ in this setting?\n",
    "\n",
    "a_)  $E(y \\mid x_0) = 0.6x_0^4 + 2x_0^3 - 8x_0^2 \\text{ and }\\operatorname{Var}(y \\mid x_0) = \\sigma^2$. <br>\n",
    "b_)   $E(y \\mid x_0) = 0.6\\sigma^4 + 2\\sigma^3 - 8\\sigma^2 \\text{    and    } \\operatorname{Var}(y \\mid x_0) = x_0^2$. <br>\n",
    "c_)   $E(y \\mid x_0) = 0 \\text{ and }  \\operatorname{Var}(y \\mid x_0) = \\sigma^2$. <br>\n",
    "d_)   $E(y \\mid x_0) = 0.6x_0^4 + 2x_0^3 - 8x_0^2 \\text{    and    } \\operatorname{Var}(y \\mid x_0) = 0.6x_0^4 + 2x_0^3 - 8x_0^2+\\sigma^2$.<br>\n",
    "\n",
    "To answer the question assign to variables in the nex cell **True** or **False** boolean values. \n",
    "To earn points **assign values to all variables**.<br>\n",
    "**NOTE** Do not reuse these variable names. They are used for testing.\n"
   ]
  },
  {
   "cell_type": "code",
   "execution_count": 5,
   "metadata": {
    "tags": [
     "Q1"
    ]
   },
   "outputs": [],
   "source": [
    "#examples for you\n",
    "example_of_true_variable = True\n",
    "example_of_false_variable = False\n",
    "\n",
    "#your answers go here ↓↓↓\n",
    "a_=True\n",
    "b_=False\n",
    "c_=False\n",
    "d_=False"
   ]
  },
  {
   "cell_type": "markdown",
   "metadata": {},
   "source": [
    "We intend to perform polynomial regression to illustrate the bias-variance decomposition for the regression task described before. To this end, perform the following steps.\n",
    " * Implement the function \"create_train_X\", it should return $k=200$ training sets with $l=20$ samples in form of a numpy array.\n",
    " * Implement the function \"create_train_y\" according to the function described at the beginning of this task.\n",
    " * Below, we provide the code for a function that trains a polynomial regression model with degree $m$ on a given training set and returns the prediction for a given test set.\n",
    " Use this function to produce <em>one</em> plot that simultaneously visualizes the training data as dots (plot only the <em>first</em> instance of the $k$ training sets) and the corresponding models for $m=1,4,11$. Don't forget to label the axes. **Note:** Make sure to produce the plot in the correct (second) cell. \n",
    " * Implement the function bias_var that estimates for each degree $m=1,...,11$ the squared bias and the variance from the predictions for each of the $k=200$ training sets at $x_0=1.8$ and stores them in the lists sqbias and variance (which are already initiated as empty lists). Each of these two lists should then only contain $11$ elements. Finally visualize your results in <em>one</em> plot where the dependence of the variance and squared bias versus $m$ is shown. Again, the axes should be labeled appropriately."
   ]
  },
  {
   "cell_type": "markdown",
   "metadata": {},
   "source": [
    "<h3 style=\"color:rgb(210,90,80)\">4.2 Code (30 points):</h3>"
   ]
  },
  {
   "cell_type": "code",
   "execution_count": 6,
   "metadata": {
    "tags": [
     "poly_reg"
    ]
   },
   "outputs": [],
   "source": [
    "from sklearn.linear_model import LinearRegression\n",
    "from sklearn.preprocessing import PolynomialFeatures\n",
    "\n",
    "#some code that should help you\n",
    "np.random.seed(14)\n",
    "\n",
    "def pol_reg_pred(X_train,y_train,X_test,m):\n",
    "    poly_reg = PolynomialFeatures(m)\n",
    "    X_poly_train = poly_reg.fit_transform(X_train.reshape(-1, 1))\n",
    "    X_poly_test= poly_reg.fit_transform(X_test.reshape(-1, 1))\n",
    "    lin_reg = LinearRegression()\n",
    "    lin_reg.fit(X_poly_train, y_train)\n",
    "    y_pred = lin_reg.predict(X_poly_test)\n",
    "    return y_pred\n",
    "\n",
    "def f(x):\n",
    "    return 0.6 * x**4 + 2 * x**3 - 8 * x**2\n",
    "\n",
    "#Your Code\n",
    "def create_train_X():\n",
    "    #replace the following line with your lines of code\n",
    "    return np.random.uniform(low=-1, high=3, size=(200, 20))\n",
    "    \n",
    "def create_train_y(X):\n",
    "    #replace the following line with your lines of code\n",
    "    return f(X) + np.random.normal(loc=0, scale=0.3, size=X.shape)\n",
    "    \n",
    "X_train = create_train_X()\n",
    "y_train = create_train_y(X_train)\n",
    "\n",
    "def bias_var(): \n",
    "    x0 = np.array([1.8])\n",
    "    sqbias = []\n",
    "    variance = []\n",
    "    \n",
    "    #replace the following line with your lines of code\n",
    "    for degree in range(1, 12):\n",
    "        y_preds = []\n",
    "        for x_set, y_set in zip(X_train, y_train):\n",
    "            y_preds.append(pol_reg_pred(x_set, y_set, x0, degree))\n",
    "            \n",
    "        variance.append(np.mean(np.power(y_preds, 2)) - np.power(np.mean(y_preds), 2))\n",
    "        sqbias.append(np.power((f(x0) - np.mean(y_preds)), 2))\n",
    "            \n",
    "    \n",
    "    return (sqbias,variance)\n",
    "    \n",
    "sqbias, variance = bias_var()\n"
   ]
  },
  {
   "cell_type": "code",
   "execution_count": 7,
   "metadata": {
    "tags": [
     "plots2"
    ]
   },
   "outputs": [
    {
     "data": {
      "text/plain": [
       "<matplotlib.legend.Legend at 0x7f4d4dfcc2b0>"
      ]
     },
     "execution_count": 7,
     "metadata": {},
     "output_type": "execute_result"
    },
    {
     "data": {
      "image/png": "[encoded data removed]",
      "text/plain": [
       "<Figure size 432x288 with 1 Axes>"
      ]
     },
     "metadata": {
      "needs_background": "light"
     },
     "output_type": "display_data"
    },
    {
     "data": {
      "image/png": "[encoded data removed]",
      "text/plain": [
       "<Figure size 432x288 with 1 Axes>"
      ]
     },
     "metadata": {
      "needs_background": "light"
     },
     "output_type": "display_data"
    }
   ],
   "source": [
    "#Your code\n",
    "plot3 = plt.subplots()\n",
    "\n",
    "plot3[1].scatter(X_train[0], y_train[0], label=\"training data\")\n",
    "\n",
    "x_plot = np.linspace(-1, 3)\n",
    "colors = [\"green\", \"red\", \"blue\"]\n",
    "for n, degree in enumerate([1, 4, 11]):\n",
    "    y_pred = pol_reg_pred(X_train[0], y_train[0], x_plot, degree)\n",
    "    plot3[1].plot(x_plot, y_pred, c=colors[n], label=f\"degree {degree}\")\n",
    "\n",
    "plt.xlabel(\"x\")\n",
    "plt.ylabel(\"y\")\n",
    "plt.title(\"Polynomial regression with different degrees m\")\n",
    "plt.legend()\n",
    "\n",
    "\n",
    "plot4 = plt.subplots()\n",
    "\n",
    "m_degree = list(range(1, 12))\n",
    "plot4[1].plot(m_degree, sqbias, label=\"bias²\")\n",
    "plot4[1].plot(m_degree, variance, label=\"variance\")\n",
    "plt.xlabel(\"m\")\n",
    "plt.ylabel(\"bias² / variance\")\n",
    "plt.title(\"Bias² vs Variance for different degrees m\")\n",
    "plt.legend()"
   ]
  },
  {
   "attachments": {
    "Bias_variance.jpg": {
     "image/jpeg": "[encoded data removed]"
    }
   },
   "cell_type": "markdown",
   "metadata": {},
   "source": [
    "<h3 style=\"color:rgb(210,90,80)\">4.3 Question (5 points):</h3>\n",
    "\n",
    "If you did the previous task correctly, the resulting plot should look like this:\n",
    "![Bias_variance.jpg](attachment:Bias_variance.jpg)    \n",
    "\n",
    "\n",
    "What observations can you make from this plot? Tick the correct boxes (several may be correct):\n",
    "\n",
    "\n",
    "e_)   For appropriate complexity, i.e. $3 \\leq m < 7$, both model variance and bias are low, which indicates good generalization abilities. <br>\n",
    "f_) The variance is lowest for models which are too simple, i.e. $m<3$.<br>\n",
    "g_)   As the model becomes too complex, i.e. $m \\geq 7$, the variance increases again while the bias still decreases. This is an indication for underfitting.<br>\n",
    "h_) For models with $m \\geq 7$, the bias is still low (i.e. close to $0$) because the independent noise has zero mean and high individual biases cancel in expectation. <br>\n",
    "i_)  For models with $m \\geq 7$, the variance is high (i.e. significantly larger than $0$) because the independent noise has zero mean and high individual biases cancel in expectation. <br>"
   ]
  },
  {
   "cell_type": "code",
   "execution_count": 8,
   "metadata": {
    "tags": [
     "Q2"
    ]
   },
   "outputs": [],
   "source": [
    "#examples for you\n",
    "example_of_true_variable = True\n",
    "example_of_false_variable = False\n",
    "\n",
    "#your answers go here ↓↓↓\n",
    "e_=True\n",
    "f_=False\n",
    "g_=False\n",
    "h_=False\n",
    "i_=True"
   ]
  },
  {
   "cell_type": "markdown",
   "metadata": {},
   "source": [
    "<h2 style=\"color:rgb(0,120,170)\">Task 5: Evaluation Metrics for imbalanced Data Sets </h2>"
   ]
  },
  {
   "cell_type": "markdown",
   "metadata": {},
   "source": [
    "Consider a classifier with discriminant function $\\bar g$.\n",
    "For a given labeled data set, the following results are obtained:\n",
    "$$\\begin{array}{|r|r|}\n",
    "\\hline\n",
    "y & \\bar g(x)\\\\\n",
    "\\hline \\hline\n",
    " +1 & 0.93 \\\\\n",
    " +1 & 0.55 \\\\\n",
    " +1 & 0.48 \\\\\n",
    " +1 & 0.13 \\\\\n",
    " -1 & 0.02 \\\\\n",
    " -1 & -0.11 \\\\\n",
    " -1 & -0.25 \\\\\n",
    " +1 & -0.39 \\\\\n",
    " -1 & -0.41 \\\\\n",
    " -1 & -1.68 \\\\\n",
    " -1 & -2.23 \\\\\n",
    "\\hline\n",
    "\\end{array}$$\n",
    "\n",
    "Compute the confusion matrix using the usual zero threshold.\n",
    "Complete the given function to calculate the following evaluation measures:\n",
    "ACC, TPR, TNR, FPR, FNR, PREC, and $F_1$ and store the exact results in the respective variables."
   ]
  },
  {
   "cell_type": "markdown",
   "metadata": {},
   "source": [
    "<h3 style=\"color:rgb(210,90,80)\">5.1 Calculation (8 points):</h3>"
   ]
  },
  {
   "cell_type": "markdown",
   "metadata": {},
   "source": [
    "* Confusion Matrix: Assume that the rows correspond to $g(x)$, the columns to the true labels $y$.\n",
    "\n",
    "$$\n",
    "\\begin{array}{|r|r|r|}\n",
    "\\hline\n",
    " &\\bar g(x)=+1  & \\bar g(x)=-1\\\\\n",
    " \\hline\n",
    " y=+1 &  & \\\\\n",
    " \\hline\n",
    " y=-1 &  & \\\\\n",
    "\\hline\n",
    "\\end{array}\n",
    "$$\n",
    "\n",
    "* ACC: \n",
    "\n",
    "* TPR:\n",
    "\n",
    "* TNR:\n",
    "\n",
    "* FPR:\n",
    "\n",
    "* FNR:\n",
    "\n",
    "* PREC:\n",
    "\n",
    "* BACC:\n",
    "\n",
    "* F1: \n"
   ]
  },
  {
   "cell_type": "code",
   "execution_count": 9,
   "metadata": {
    "tags": [
     "calculation1"
    ]
   },
   "outputs": [
    {
     "name": "stdout",
     "output_type": "stream",
     "text": [
      "ACC: 0.8181818181818182\n",
      "TPR: 0.8\n",
      "TNR: 0.8333333333333334\n",
      "FPR: 0.16666666666666666\n",
      "FNR: 0.2\n",
      "PREC: 0.8\n",
      "BACC: 0.8166666666666667\n",
      "F1: 0.8000000000000002\n"
     ]
    }
   ],
   "source": [
    "#confusion matrix\n",
    "_TP = 4\n",
    "_TN = 5\n",
    "_FP = 1\n",
    "_FN = 1\n",
    "\n",
    "#evaluation measures\n",
    "def evaluate_measures(TP,TN,FP,FN):\n",
    "    #replace the following line with your lines of code\n",
    "    ACC = (TP + TN) / (TP + TN + FP + FN)\n",
    "    \n",
    "    TPR = TP / (TP + FN)\n",
    "    TNR = TN / (TN + FP)\n",
    "    \n",
    "    FPR = FP / (TN + FP)\n",
    "    FNR = FN / (TP + FN)\n",
    "    \n",
    "    PREC = TP / (TP + FP)\n",
    "    BACC = (TPR + TNR) / 2\n",
    "    F1 = 2 * (PREC * TPR) / (PREC + TPR)\n",
    "    \n",
    "    return (ACC,TPR,TNR,FPR,FNR,PREC,BACC,F1)\n",
    "    \n",
    "_ACC,_TPR,_TNR,_FPR,_FNR,_PREC,_BACC,_F1 = evaluate_measures(_TP,_TN,_FP,_FN)\n",
    "\n",
    "print(\"ACC: {}\\nTPR: {}\\nTNR: {}\\nFPR: {}\\nFNR: {}\\nPREC: {}\\nBACC: {}\\nF1: {}\".format(_ACC,_TPR,_TNR,_FPR,_FNR,_PREC,_BACC,_F1))"
   ]
  },
  {
   "cell_type": "markdown",
   "metadata": {},
   "source": [
    "Let's say we have a population of 1000 people and we know that 50 are infected with the corona virus.\n",
    "* Assume that the population is tested with an assay that has a certain specificity and sensitivity. What is the probability that a person isn't infected if diagnosed as ill by the test? Write a function that returns the desired value (rounded to 3 decimal points). Then check your calculation using specificity of $98 \\%$ and sensitivity of $99 \\%$."
   ]
  },
  {
   "cell_type": "markdown",
   "metadata": {},
   "source": [
    "<h3 style=\"color:rgb(210,90,80)\">5.2 Calculation (7 points):</h3>"
   ]
  },
  {
   "cell_type": "code",
   "execution_count": 10,
   "metadata": {
    "tags": [
     "calculation2"
    ]
   },
   "outputs": [
    {
     "name": "stdout",
     "output_type": "stream",
     "text": [
      "The probability that a person isn't infected if tested positive is 0.2773722627737228\n"
     ]
    }
   ],
   "source": [
    "\"\"\"\n",
    "This function should return the desired percentage. \n",
    "@param spec, float, specificity\n",
    "@param sens, float, sensitivity\n",
    "\"\"\"\n",
    "def calc_prob(spec,sens):\n",
    "    population = 1000\n",
    "    infected = 50\n",
    "\n",
    "    #replace the following line with your lines of code\n",
    "    p_infected = infected / population\n",
    "    p_healthy = 1 - p_infected\n",
    "    \n",
    "    return ((1 - spec) * p_healthy) / ((1 - spec) * p_healthy + sens * p_infected)\n",
    "    \n",
    "_result = calc_prob(0.98,0.99)\n",
    "print(\"The probability that a person isn't infected if tested positive is {}\".format(_result))"
   ]
  },
  {
   "cell_type": "code",
   "execution_count": 11,
   "metadata": {
    "tags": [
     "exec"
    ]
   },
   "outputs": [
    {
     "name": "stdout",
     "output_type": "stream",
     "text": [
      "Executable\n"
     ]
    }
   ],
   "source": [
    "#executability check\n",
    "est_mean_cov(X,y)\n",
    "calc_par_A(np.eye(2),np.ones(shape=2),np.eye(2),np.ones(shape=2),1,1)\n",
    "calc_par_b(np.eye(2),np.ones(shape=2),np.eye(2),np.ones(shape=2),1,1)\n",
    "calc_par_c(np.eye(2),np.ones(shape=2),np.eye(2),np.ones(shape=2),1,1)\n",
    "calc_func_g(np.ones(shape=(2,2)),np.ones(2),1,np.ones(shape=(250000,2)))\n",
    "create_train_X()\n",
    "create_train_y(np.ones(shape=(200,20)))\n",
    "bias_var()\n",
    "evaluate_measures(1,1,1,1)\n",
    "calc_prob(1,1)\n",
    "\n",
    "print(\"Executable\")"
   ]
  }
 ],
 "metadata": {
  "celltoolbar": "Tags",
  "kernelspec": {
   "display_name": "deeplearning",
   "language": "python",
   "name": "deeplearning"
  },
  "language_info": {
   "codemirror_mode": {
    "name": "ipython",
    "version": 3
   },
   "file_extension": ".py",
   "mimetype": "text/x-python",
   "name": "python",
   "nbconvert_exporter": "python",
   "pygments_lexer": "ipython3",
   "version": "3.8.10"
  }
 },
 "nbformat": 4,
 "nbformat_minor": 4
}
