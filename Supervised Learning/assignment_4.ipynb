{
 "cells": [
  {
   "cell_type": "markdown",
   "metadata": {},
   "source": [
    "<h1 style=\"color:rgb(0,120,170)\">Assignment 4: Decision Trees</h1>"
   ]
  },
  {
   "cell_type": "markdown",
   "metadata": {},
   "source": [
    "This material, no matter whether in printed or electronic form,\n",
    "may be used for personal and non-commercial educational use\n",
    "only. Any reproduction of this material, no matter whether as a\n",
    "whole or in parts, no matter whether in printed or in electronic\n",
    "form, requires explicit prior acceptance of the authors."
   ]
  },
  {
   "cell_type": "markdown",
   "metadata": {},
   "source": [
    "<h2 style=\"color:rgb(0,120,170)\">Automatic Testing Guidelines</h2>\n",
    "\n",
    "Automatic unittesting requires you, as a student, to submit a notebook which contains strictly defined objects.\n",
    "Strictness of definition consists of unified shapes, dtypes, variable names and more.\n",
    "\n",
    "Within the notebook, we provide detailed instruction which you should follow in order to maximise your final grade.\n",
    "\n",
    "**Name your notebook properly**, follow the pattern in the template name:\n",
    "\n",
    "**Assignment_N_NameSurname_matrnumber**\n",
    "<ol>\n",
    "    <li>N - number of assignment</li>\n",
    "    <li>NameSurname - your full name where every part of the name starts with a capital letter, no spaces</li>\n",
    "    <li>matrnumber - you student number on ID card (without k, potenitially with a leading zero)</li>\n",
    "</ol>\n",
    "\n",
    "Don't add any cells but use the ones provided by us. You may notice that most cells are tagged such that the unittest routine can recognise them.\n",
    "\n",
    "We highly recommend you to develop your code within the provided cells. You can implement helper functions where needed unless you put them in the same cell they are actually called. Always make sure that implemented functions have the correct output and given variables contain the correct data type.\n",
    "\n",
    "**Note:** Never use variables you defined in another cell in your functions directly; always pass them to the function as a parameter. In the unitest they won't be available either."
   ]
  },
  {
   "cell_type": "markdown",
   "metadata": {},
   "source": [
    "As a starting point: For the notebook to compile without problems, make sure that the required data set provided with the link to Google drive is stored in a folder \"dataset\"; also make sure that this folder and the additional Python file provided via moodle are in the same folder as the notebook! Unfortunately the data set is too big to upload it to moodle directly..."
   ]
  },
  {
   "cell_type": "markdown",
   "metadata": {},
   "source": [
    "<h2 style=\"color:rgb(0,120,170)\">Task 1: Gini Impurity</h2>\n",
    "\n",
    "In this task we will recall the most important concepts of decision trees by walking you through a simple example. On the way you have to solve some exercises to gain basic insights. We will start with a toy dataset for one tree.\n",
    "<br> <br>"
   ]
  },
  {
   "cell_type": "code",
   "execution_count": 1,
   "metadata": {
    "tags": [
     "imports"
    ]
   },
   "outputs": [],
   "source": [
    "#Nothing to do here\n",
    "import numpy as np\n",
    "import pandas as pd\n",
    "import sys\n",
    "import time\n",
    "import numpy as np\n",
    "from sklearn.tree import DecisionTreeClassifier\n",
    "from sklearn import model_selection, svm\n",
    "from sklearn.ensemble import RandomForestClassifier\n",
    "from sklearn.neighbors import KNeighborsClassifier\n",
    "from mnist_loader import MNIST\n",
    "%matplotlib inline \n",
    "import matplotlib.pyplot as plt\n",
    "from matplotlib import style\n",
    "from sklearn.metrics import accuracy_score, confusion_matrix\n",
    "from sklearn.model_selection import RandomizedSearchCV\n",
    "# Set random seed to ensure reproducible runs\n",
    "RSEED = 50"
   ]
  },
  {
   "cell_type": "code",
   "execution_count": 2,
   "metadata": {},
   "outputs": [],
   "source": [
    "# A simple data set for demonstration \n",
    "# Nothing to do here\n",
    "X = np.array([[2, 2], \n",
    "              [2, 1],\n",
    "              [2, 3], \n",
    "              [1, 2], \n",
    "              [1, 1],\n",
    "              [3, 3],\n",
    "              [3, 2]])\n",
    "\n",
    "y = np.array([0, 1, 1, 1, 0, 1, 0])"
   ]
  },
  {
   "cell_type": "code",
   "execution_count": 3,
   "metadata": {},
   "outputs": [
    {
     "data": {
      "text/plain": [
       "Text(0.5, 1.0, 'Demonstration Data')"
      ]
     },
     "execution_count": 3,
     "metadata": {},
     "output_type": "execute_result"
    },
    {
     "data": {
      "image/png": "[encoded data removed]",
      "text/plain": [
       "<Figure size 432x288 with 1 Axes>"
      ]
     },
     "metadata": {
      "needs_background": "light"
     },
     "output_type": "display_data"
    }
   ],
   "source": [
    "#Nothing to do here. Just execute the command to gain a proper visualization!\n",
    "%matplotlib inline\n",
    "\n",
    "# Plot each point as the label\n",
    "for x1, x2, label in zip(X[:, 0], X[:, 1], y):\n",
    "    plt.text(x1, x2, str(label), fontsize = 40, color = 'r',\n",
    "             ha='center', va='center')\n",
    "    \n",
    "# Plot formatting\n",
    "plt.grid(None);\n",
    "plt.xlim((0, 3.5));\n",
    "plt.ylim((0, 3.5));\n",
    "plt.xlabel('x1', size = 20); plt.ylabel('x2', size = 20); plt.title('Demonstration Data', size = 24)"
   ]
  },
  {
   "cell_type": "markdown",
   "metadata": {},
   "source": [
    "A Decision Tree Classifier (DTC) builds a decision tree based on the features of the data. This is equivalent to subdividing the feature space. Let's consider the example above and apply a simple heuristics. In the first step we try to subdivide the space such that we obtain the largest possible leaf (subdivision) that contains only one class.\n",
    "<br>\n",
    "We first look at the feature $x_2$, i.e. a horizontal division of the space. For example, we could divide the space at the specific threshold $x_2 = 2.5$. Then we end up having a group of samples with features $x_2 > 2.5$ and homogenous class label 1, i.e. the two points with coordinates $\\{ (2,3), (3,3) \\}$ . If we instead look at the feature $x_1$, corresponding to a vertical division of the space, we cannot find an equally large or larger group of samples with the same label. Therefore, our first node in the tree is: $x_2 \\leq 2.5$, i.e. we split the space and repeat the same procedure on each of the two leafs. In our case we are done with the top leaf (since both samples have the same class) and only need to repeat the procedure on the bottom leaf."
   ]
  },
  {
   "cell_type": "markdown",
   "metadata": {},
   "source": [
    "Our simple heuristics from above fails on the bottom node. We need a better criterion to decide which splits to make. Nowadays the most frequently used one is called the Gini Impurity. \n",
    "\n",
    "The Gini impurity is a measure of how often a randomly chosen element from the set would be incorrectly labeled if it was randomly labeled according to the distribution of labels in the subset.\n",
    "<br>\n",
    "What does that mean? Let us suppose we have $2$ labels and let $p_1, p_2$ be the fractions of points labeld with labels $1$ and $2$ (note: $p_1 + p_2 = 1$) . The probabilty to choose a point with label $1$ is $p_1$. \n",
    "The probability to choose label $2$ is $p_2 = 1-p_1$. Therefore, the probability to label a point of label $1$ with label $2$ is $p_1 \\cdot p_2 = p_1 \\cdot (1-p_1) = p_1 - p_1^2$. \n",
    "<br>\n",
    "Analogously, the probability for points with label $2$ to be labeld with $1$ is $p_2 \\cdot (1-p_2) = p_2 - p_2^2$. The Gini impurity is the sum over both: $p_1 - p_1^2 + p_2 - p_2^2 = p_1 + p_2 - p_1^2 - p_2^2 = 1 - p_1^2 -p_2^2$\n",
    "<br>\n",
    "The above reasoning is easy to generalize to the case where the number of labels $M$ is larger then two: $M > 2$ . The formula for the given dataset $Z$ is simply\n",
    "$$I_G(Z) = 1 - \\sum_{k = 1}^M p_k(Z)^2,$$ where $p_k(Z)$ is the frequency of points with labels $k$ in the dataset $Z$. Your task will now be to apply these techniques explicitly to the toy data set introduced above.\n",
    "<br>\n",
    "\n",
    "The Gini impurity Gain is the amount of \"impurity\" we get rid of for a specific split $s$.\n",
    "Let's assume that we get the partition $Z_{s,1}, \\ldots, Z_{s,K_s}$ of $Z$ after applying $s$. Then the impurity gain is\n",
    "$$g_G(Z,s) = I_G(Z) - \\sum_{t=1}^{K_s} \\frac{|Z_{s,t}|}{|Z|} \\cdot I_G(Z_{s,t})$$\n",
    "\n",
    "*  Calculate the Gini impurity for our toy dataset\n",
    "* Calculate the Gini impurity for the top and bottom leaf in our split (split $x_2$ at $2.5$)\n",
    "* Calculate the Gini information gain for our split in the toy dataset \n",
    "\n",
    "To do this, implement the necessary calculations into the function \"calc_gini\" and return the 4 solutions. **Note:** Your implementation should work for any dataset similar to the toy dataset (i.e. binary labels, two dimensional)!"
   ]
  },
  {
   "cell_type": "markdown",
   "metadata": {},
   "source": [
    "<h3 style=\"color:rgb(210,90,80)\">1.1 Calculation (20 points):</h3>"
   ]
  },
  {
   "cell_type": "code",
   "execution_count": 4,
   "metadata": {
    "tags": [
     "gini_calc"
    ]
   },
   "outputs": [],
   "source": [
    "\"\"\"\n",
    "Function that calculates the gini impurity of the whole dataset and of the two datasets after a split is performed.\n",
    "Returns also the information gain from this specific split.\n",
    "@param X, np ndarray, data matrix\n",
    "@param y, np ndarray, data vector\n",
    "@param split, float, value for splitting\n",
    "@param entry, int, indicating at which entry/axis/dimension the split should be performed\n",
    "\"\"\"\n",
    "def calc_gini(X,y,split,entry):\n",
    "    #replace the following line with your lines of code\n",
    "    \n",
    "    # gini impurity\n",
    "    gini_impurity = 1\n",
    "    for label in np.unique(y):\n",
    "        gini_impurity -= np.power(len(np.where(y == label)[0]) / len(y), 2)\n",
    "    \n",
    "    # split dataset\n",
    "    top_labels = y[np.where(X[:, entry] >= split)]\n",
    "    bottom_labels = y[np.where(X[:, entry] < split)]\n",
    "    \n",
    "    # gini impurity of leaves\n",
    "    gini_top = 1\n",
    "    gini_bottom = 1\n",
    "    \n",
    "    for label in np.unique(y):\n",
    "        gini_top -= np.power(len(np.where(top_labels == label)[0]) / len(top_labels), 2)\n",
    "        gini_bottom -= np.power(len(np.where(bottom_labels == label)[0]) / len(bottom_labels), 2)\n",
    "        \n",
    "    # information gain\n",
    "    leaves = [[top_labels, gini_top], [bottom_labels, gini_bottom]]\n",
    "        \n",
    "    information_gain = gini_impurity\n",
    "    for leaf in leaves:\n",
    "        information_gain -= (len(leaf[0]) / len(y)) * leaf[1]\n",
    "    \n",
    "    return gini_impurity, gini_top, gini_bottom, information_gain"
   ]
  },
  {
   "cell_type": "code",
   "execution_count": 5,
   "metadata": {},
   "outputs": [
    {
     "name": "stdout",
     "output_type": "stream",
     "text": [
      "Gini impurity: 0.489795918367347\n",
      "Gini impurity top leaf: 0.0\n",
      "Gini impurity bottom leaf: 0.48\n",
      "Information gain: 0.14693877551020412\n"
     ]
    }
   ],
   "source": [
    "gini_impurity, gini_top, gini_bottom, information_gain = calc_gini(X,y,2.5,1)\n",
    "print(\"Gini impurity: {}\\nGini impurity top leaf: {}\\nGini impurity bottom leaf: {}\\nInformation gain: {}\".format(gini_impurity, gini_top, gini_bottom, information_gain))"
   ]
  },
  {
   "cell_type": "markdown",
   "metadata": {},
   "source": [
    "<h2 style=\"color:rgb(0,120,170)\">Task 2: Train a simple decision tree </h2>"
   ]
  },
  {
   "cell_type": "markdown",
   "metadata": {},
   "source": [
    "Next you should provide a Python routine for the previous example. In the cells below there is the function \"dec_tree\", here you have to implement the following:\n",
    "* Train a decision tree on the dataset $X$ from Task 1. Also pass the random seed RSEED defined in the beginning.\n",
    "* Return the number of tree nodes, the maximum depth of the tree and the accuracy"
   ]
  },
  {
   "cell_type": "markdown",
   "metadata": {},
   "source": [
    "<h3 style=\"color:rgb(210,90,80)\">2.1 Code (10 points):</h3>"
   ]
  },
  {
   "cell_type": "code",
   "execution_count": 6,
   "metadata": {
    "tags": [
     "dec_tree"
    ]
   },
   "outputs": [],
   "source": [
    "\"\"\"\n",
    "Trains a decision tree and returns certain attributes of the received model.\n",
    "@param seed, int, seed for preserving reducibility of random events\n",
    "@param X, np ndarray, data matrix\n",
    "@param y, np ndarray, data vector\n",
    "\"\"\"\n",
    "def dec_tree(seed,X,y):\n",
    "    #replace the following line with your lines of code\n",
    "    \n",
    "    # initialize and fit Decision Tree\n",
    "    clf = DecisionTreeClassifier(random_state=seed)\n",
    "    clf.fit(X, y)\n",
    "    \n",
    "    # Get attributes\n",
    "    max_depth = clf.get_depth()\n",
    "    nr_nodes = clf.tree_.node_count\n",
    "    acc = clf.score(X, y)\n",
    "    \n",
    "    return nr_nodes, max_depth, acc"
   ]
  },
  {
   "cell_type": "code",
   "execution_count": 7,
   "metadata": {},
   "outputs": [
    {
     "name": "stdout",
     "output_type": "stream",
     "text": [
      "Decision tree has 11 nodes with maximum depth 4.\n",
      "Model Accuracy: 1.0\n"
     ]
    }
   ],
   "source": [
    "#Print number of tree nodes and the maximum depth of tree\n",
    "nr_nodes, max_depth, acc = dec_tree(RSEED,X,y)\n",
    "print(f'Decision tree has {nr_nodes} nodes with maximum depth {max_depth}.')\n",
    "print(f'Model Accuracy: {acc}')"
   ]
  },
  {
   "cell_type": "markdown",
   "metadata": {},
   "source": [
    "<h2 style=\"color:rgb(0,120,170)\">Task 3: Decision tree on a real data set</h2>"
   ]
  },
  {
   "cell_type": "markdown",
   "metadata": {},
   "source": [
    "Now we will apply the different classifiers we have encountered so far to a real-world benachmark data set, which is often used in applications, namely the \"Fashion MNIST\" data set. It consits of images of clothing, like sneakers and shirts. It was created to be an alternative to the famous MNIST benchmark dataset, which is nowadays considered as too easy for the most recent algorithms. Let us first load the train and test set, using the files provided in moodle. The train and test data are represented as pixel arrays, and the label vector indicates the different classes (0 to 9)."
   ]
  },
  {
   "cell_type": "code",
   "execution_count": 8,
   "metadata": {},
   "outputs": [],
   "source": [
    "#nothing to do here. Just execute the command!\n",
    "data = MNIST('./dataset/')\n",
    "img_train, labels_train = data.load_training()\n",
    "x_train = np.array(img_train)\n",
    "y_train = np.array(labels_train)\n",
    "\n",
    "img_test, labels_test = data.load_testing()\n",
    "x_test = np.array(img_test)\n",
    "y_test = np.array(labels_test)"
   ]
  },
  {
   "cell_type": "markdown",
   "metadata": {},
   "source": [
    "Let us plot some of the images so that you see, how these data look like."
   ]
  },
  {
   "cell_type": "code",
   "execution_count": 9,
   "metadata": {},
   "outputs": [
    {
     "data": {
      "image/png": "[encoded data removed]",
      "text/plain": [
       "<Figure size 432x288 with 1 Axes>"
      ]
     },
     "metadata": {
      "needs_background": "light"
     },
     "output_type": "display_data"
    },
    {
     "data": {
      "image/png": "[encoded data removed]",
      "text/plain": [
       "<Figure size 432x288 with 1 Axes>"
      ]
     },
     "metadata": {
      "needs_background": "light"
     },
     "output_type": "display_data"
    },
    {
     "data": {
      "image/png": "[encoded data removed]",
      "text/plain": [
       "<Figure size 432x288 with 1 Axes>"
      ]
     },
     "metadata": {
      "needs_background": "light"
     },
     "output_type": "display_data"
    },
    {
     "data": {
      "image/png": "[encoded data removed]",
      "text/plain": [
       "<Figure size 432x288 with 1 Axes>"
      ]
     },
     "metadata": {
      "needs_background": "light"
     },
     "output_type": "display_data"
    },
    {
     "data": {
      "image/png": "[encoded data removed]",
      "text/plain": [
       "<Figure size 432x288 with 1 Axes>"
      ]
     },
     "metadata": {
      "needs_background": "light"
     },
     "output_type": "display_data"
    },
    {
     "data": {
      "image/png": "[encoded data removed]",
      "text/plain": [
       "<Figure size 432x288 with 1 Axes>"
      ]
     },
     "metadata": {
      "needs_background": "light"
     },
     "output_type": "display_data"
    },
    {
     "data": {
      "image/png": "[encoded data removed]",
      "text/plain": [
       "<Figure size 432x288 with 1 Axes>"
      ]
     },
     "metadata": {
      "needs_background": "light"
     },
     "output_type": "display_data"
    },
    {
     "data": {
      "image/png": "[encoded data removed]",
      "text/plain": [
       "<Figure size 432x288 with 1 Axes>"
      ]
     },
     "metadata": {
      "needs_background": "light"
     },
     "output_type": "display_data"
    },
    {
     "data": {
      "image/png": "[encoded data removed]",
      "text/plain": [
       "<Figure size 432x288 with 1 Axes>"
      ]
     },
     "metadata": {
      "needs_background": "light"
     },
     "output_type": "display_data"
    },
    {
     "data": {
      "image/png": "[encoded data removed]",
      "text/plain": [
       "<Figure size 432x288 with 1 Axes>"
      ]
     },
     "metadata": {
      "needs_background": "light"
     },
     "output_type": "display_data"
    },
    {
     "data": {
      "image/png": "[encoded data removed]",
      "text/plain": [
       "<Figure size 432x288 with 1 Axes>"
      ]
     },
     "metadata": {
      "needs_background": "light"
     },
     "output_type": "display_data"
    },
    {
     "data": {
      "image/png": "[encoded data removed]",
      "text/plain": [
       "<Figure size 432x288 with 1 Axes>"
      ]
     },
     "metadata": {
      "needs_background": "light"
     },
     "output_type": "display_data"
    },
    {
     "data": {
      "image/png": "[encoded data removed]",
      "text/plain": [
       "<Figure size 432x288 with 1 Axes>"
      ]
     },
     "metadata": {
      "needs_background": "light"
     },
     "output_type": "display_data"
    },
    {
     "data": {
      "image/png": "[encoded data removed]",
      "text/plain": [
       "<Figure size 432x288 with 1 Axes>"
      ]
     },
     "metadata": {
      "needs_background": "light"
     },
     "output_type": "display_data"
    },
    {
     "data": {
      "image/png": "[encoded data removed]",
      "text/plain": [
       "<Figure size 432x288 with 1 Axes>"
      ]
     },
     "metadata": {
      "needs_background": "light"
     },
     "output_type": "display_data"
    }
   ],
   "source": [
    "#nothing to do here. Just execute the command!\n",
    "arr = ['T-Shirt/Top','Trouser','Pullover','Dress','Coat','Sandal','Shirt','Sneaker','Bag','Ankle Boot']\n",
    "a = np.random.randint(1,40,15)\n",
    "for i in a:\n",
    "    two_d = (np.reshape(x_train[i], (28, 28)) * 255).astype(np.uint8)\n",
    "    plt.title('Label: {0}'.format(arr[y_train[i]]))\n",
    "    plt.imshow(two_d, interpolation='nearest',cmap='gray')\n",
    "    plt.show()"
   ]
  },
  {
   "cell_type": "markdown",
   "metadata": {},
   "source": [
    "Here we provide you a routine that trains a decision tree for the given training set. The function get_evaluation should additionally help you to compute accuracies and provide confusion matrices and appropriate heat maps."
   ]
  },
  {
   "cell_type": "code",
   "execution_count": 10,
   "metadata": {},
   "outputs": [
    {
     "name": "stdout",
     "output_type": "stream",
     "text": [
      "\n",
      "Preparing Classifier\n"
     ]
    },
    {
     "data": {
      "text/plain": [
       "DecisionTreeClassifier(max_depth=50, random_state=50)"
      ]
     },
     "execution_count": 10,
     "metadata": {},
     "output_type": "execute_result"
    }
   ],
   "source": [
    "#nothing to do here. Just execute the command!\n",
    "print('\\nPreparing Classifier')\n",
    "model=DecisionTreeClassifier(criterion=\"gini\",max_depth=50,splitter=\"best\",random_state=RSEED)\n",
    "model.fit(x_train,y_train)"
   ]
  },
  {
   "cell_type": "code",
   "execution_count": 11,
   "metadata": {
    "tags": [
     "get_evaluation"
    ]
   },
   "outputs": [],
   "source": [
    "#nothing to do here. Just execute the command!\n",
    "\"\"\"\n",
    "Evaluates the model and returns accuracy as well as a confusion matrix. Also the time for prediction can is calculated.\n",
    "@param model, sklearn model,trained model\n",
    "@param x_test, np ndarray, data matrix\n",
    "@param y_test, np ndarray, data vector\n",
    "\"\"\"\n",
    "def get_evaluation(model, x_test, y_test):\n",
    "    start = time.time()\n",
    "    y_pred = model.predict(x_test)\n",
    "    accuracy = accuracy_score(y_test, y_pred)\n",
    "    conf_mat = confusion_matrix(y_test, y_pred)\n",
    "\n",
    "    print('\\nPredicted Values: ', y_pred)\n",
    "    print('\\nAccuracy of Classifier on Test Image Data: ', accuracy)\n",
    "    print('\\nConfusion Matrix: \\n', conf_mat)\n",
    "\n",
    "    plt.matshow(conf_mat)\n",
    "    plt.title('Confusion Matrix')\n",
    "    plt.colorbar()\n",
    "    plt.ylabel('True label')\n",
    "    plt.xlabel('Predicted label')\n",
    "    return time.time()-start"
   ]
  },
  {
   "cell_type": "code",
   "execution_count": 12,
   "metadata": {},
   "outputs": [
    {
     "name": "stdout",
     "output_type": "stream",
     "text": [
      "\n",
      "Predicted Values:  [0 1 6 ... 8 8 2]\n",
      "\n",
      "Accuracy of Classifier on Test Image Data:  0.7983\n",
      "\n",
      "Confusion Matrix: \n",
      " [[735   5  14  43   8   3 179   1  12   0]\n",
      " [  5 965   3  16   4   0   5   0   2   0]\n",
      " [ 24   4 682  18 140   3 119   0   9   1]\n",
      " [ 43  33  17 818  48   1  36   0   4   0]\n",
      " [ 10   2 147  43 687   1 103   0   6   1]\n",
      " [  2   1   1   2   2 876   1  61  21  33]\n",
      " [172   8  99  41 107   3 553   0  16   1]\n",
      " [  1   0   0   0   0  52   2 865   5  75]\n",
      " [ 18   2  17   6  13  11  19   6 905   3]\n",
      " [  1   0   1   2   1  27   3  66   2 897]]\n"
     ]
    },
    {
     "data": {
      "image/png": "[encoded data removed]",
      "text/plain": [
       "<Figure size 288x288 with 2 Axes>"
      ]
     },
     "metadata": {
      "needs_background": "light"
     },
     "output_type": "display_data"
    }
   ],
   "source": [
    "#nothing to do here. Just execute the command!\n",
    "_ = get_evaluation(model, x_test, y_test)"
   ]
  },
  {
   "cell_type": "markdown",
   "metadata": {},
   "source": [
    "In order to obtain a better performance, we apply a hyperparameter search. \n",
    "* To this end create a parameter grid (dictionary) which iterates over the following quantities: criterion: 'gini' and 'entropy', max_depth: 10,50 and 100, splitter: 'random' and 'best'. **Hint:** Have a look at the documenation of sklearn.model_selection.RandomizedSearchCV to get an idea of how this parameter grid should look like.\n",
    "* Use a decision tree classifier and grid search with 5 iterations and 3 fold cross validation. Use the built-in routines from sklearn for this. Also don't forget to pass random_sate=RSEED.\n",
    "* Evaluate the best parameter combination from this model.\n",
    "* Print the accuracy and plot the confusion matrices and heat maps of the model evaluated at the test set (use the previously implemented routine get_evaluation for this).\n",
    "\n",
    "Don't forget to pass the seed. Warning: this may take several minutes ;)"
   ]
  },
  {
   "cell_type": "markdown",
   "metadata": {},
   "source": [
    "<h3 style=\"color:rgb(210,90,80)\">3.1 Code (25 points):</h3>"
   ]
  },
  {
   "cell_type": "code",
   "execution_count": 13,
   "metadata": {
    "tags": [
     "dec_tree"
    ]
   },
   "outputs": [],
   "source": [
    "#Your Solution\n",
    "param_grid = {'criterion': ['gini', 'entropy'], 'max_depth': [10, 50, 100], 'splitter': ['random', 'best']}\n",
    "\n",
    "\"\"\"\n",
    "Trains a decision tree using cross-validation and returns certain attributes of the received model including the best\n",
    "parameter combination.\n",
    "@param x_train, np ndarray, data matrix\n",
    "@param y_train, np ndarray, data vector\n",
    "@param param_grid, dict, grid holding the paramaters for search\n",
    "@param seed, int , seed for preserving reducibility of random events\n",
    "@param n_iter, int, number of iterations (RandomizedSearchCV)\n",
    "@param cv, in, number of folds (RandomizedSearchCV)\n",
    "\"\"\"\n",
    "def train_dec_tree(x_train,y_train,param_grid,seed,n_iter,cv):\n",
    "    #replace the following line with your lines of code\n",
    "    \n",
    "    clf = RandomizedSearchCV(estimator=DecisionTreeClassifier(random_state=seed), \n",
    "                               param_distributions=param_grid, n_iter=n_iter, cv=cv, random_state=seed)\n",
    "    model = clf.fit(x_train, y_train)\n",
    "    \n",
    "    return model.best_params_,model"
   ]
  },
  {
   "cell_type": "code",
   "execution_count": 14,
   "metadata": {
    "tags": [
     "params_dec_tree"
    ]
   },
   "outputs": [
    {
     "name": "stdout",
     "output_type": "stream",
     "text": [
      "\n",
      "Predicted Values:  [0 1 6 ... 8 2 1]\n",
      "\n",
      "Accuracy of Classifier on Test Image Data:  0.8105\n",
      "\n",
      "Confusion Matrix: \n",
      " [[743   6  18  39  10   4 168   0  12   0]\n",
      " [  7 966   4  15   2   1   3   0   1   1]\n",
      " [ 23   3 692  10 146   0 115   0  11   0]\n",
      " [ 40  28  16 830  38   1  40   0   5   2]\n",
      " [  7   2 143  56 704   1  83   0   4   0]\n",
      " [  3   0   1   2   0 889   1  66   9  29]\n",
      " [160   8  99  48  87   0 581   0  17   0]\n",
      " [  0   0   0   0   0  56   0 871   5  68]\n",
      " [  8   1  11   8   4  13  16   6 926   7]\n",
      " [  0   1   0   0   0  30   0  61   5 903]]\n",
      "The best parameters are: {'splitter': 'best', 'max_depth': 50, 'criterion': 'entropy'}\n"
     ]
    },
    {
     "data": {
      "image/png": "[encoded data removed]",
      "text/plain": [
       "<Figure size 288x288 with 2 Axes>"
      ]
     },
     "metadata": {
      "needs_background": "light"
     },
     "output_type": "display_data"
    }
   ],
   "source": [
    "params_dec_tree, model_dec_tree = train_dec_tree(x_train,y_train,param_grid,RSEED,5,3)\n",
    "_ = get_evaluation(model_dec_tree, x_test, y_test)\n",
    "print(\"The best parameters are: {}\".format(params_dec_tree))"
   ]
  },
  {
   "cell_type": "markdown",
   "metadata": {},
   "source": [
    "If you did the task correctly, you should obtain a slightly better result than before."
   ]
  },
  {
   "cell_type": "markdown",
   "metadata": {},
   "source": [
    "<h2 style=\"color:rgb(0,120,170)\">Task 4: Comparison with KNN and SVMs</h2>"
   ]
  },
  {
   "cell_type": "markdown",
   "metadata": {},
   "source": [
    "In this task we make a comparison to the other previously used classifiers, i.e. KNNs and SVMs. Similarly as for the tree, on the Fashion MNIST data set:\n",
    "\n",
    "* Implement a KNN classifier with n_neighbors = 5, weights = 'distance' and p=1. Print the accuracy and plot the confusion matrices and heat maps of the model evaluated at the test set (again you can use the previously implemented function get_evaluation for this). \n",
    "* Implement a SVM classifier with C=10, kernel='poly', gamma='auto'. Print the accuracy and plot the confusion matrices and heat maps of the model evaluated at the test set (again you can use the previously implemented function get_evaluation for this). \n",
    "\n",
    "Again, this may take some time!\n",
    "\n",
    "Afterwards answer some questions that correspond to your observations."
   ]
  },
  {
   "cell_type": "markdown",
   "metadata": {},
   "source": [
    "<h3 style=\"color:rgb(210,90,80)\">4.1 Code (10 points):</h3>"
   ]
  },
  {
   "cell_type": "code",
   "execution_count": 15,
   "metadata": {
    "tags": [
     "KNN"
    ]
   },
   "outputs": [],
   "source": [
    "\"\"\"\n",
    "Trains a knn classifier on the given dataset.\n",
    "@param x_train, np ndarray, data matrix\n",
    "@param y_train, np ndarray, data vector\n",
    "@param n_neighbors, int, number of neighbors\n",
    "@param weights, str, mode for weights\n",
    "@param p, float, power parameter for the Minkowski metric (see: documenation neighbors.KNeighborsClassifier)\n",
    "\"\"\"\n",
    "def trainKNN(x_train,y_train,n_neighbors,weights,p): \n",
    "    #replace the following line with your lines of code\n",
    "    \n",
    "    model = KNeighborsClassifier(n_neighbors=n_neighbors, weights=weights, p=p)\n",
    "    model.fit(x_train, y_train)\n",
    "    \n",
    "    return model"
   ]
  },
  {
   "cell_type": "code",
   "execution_count": 16,
   "metadata": {},
   "outputs": [
    {
     "name": "stdout",
     "output_type": "stream",
     "text": [
      "\n",
      "Predicted Values:  [0 1 2 ... 8 8 2]\n",
      "\n",
      "Accuracy of Classifier on Test Image Data:  0.8671\n",
      "\n",
      "Confusion Matrix: \n",
      " [[875   1  13  12   3   0  88   2   6   0]\n",
      " [  5 970   8  14   1   0   2   0   0   0]\n",
      " [ 12   1 804  11  84   0  87   0   1   0]\n",
      " [ 35   9   8 888  35   0  23   0   2   0]\n",
      " [  3   0 107  27 784   0  78   0   1   0]\n",
      " [  0   0   0   1   0 881   0  70   1  47]\n",
      " [198   2 111  19  68   0 596   0   6   0]\n",
      " [  0   0   0   0   0   6   0 949   0  45]\n",
      " [  4   1  11   0   4   2   8  10 958   2]\n",
      " [  0   0   0   0   0   3   0  31   0 966]]\n"
     ]
    },
    {
     "data": {
      "image/png": "[encoded data removed]",
      "text/plain": [
       "<Figure size 288x288 with 2 Axes>"
      ]
     },
     "metadata": {
      "needs_background": "light"
     },
     "output_type": "display_data"
    }
   ],
   "source": [
    "knn_model = trainKNN(x_train,y_train,5,'distance',1)\n",
    "_ = get_evaluation(knn_model, x_test, y_test)"
   ]
  },
  {
   "cell_type": "markdown",
   "metadata": {},
   "source": [
    "<h3 style=\"color:rgb(210,90,80)\">4.2 Code (10 points):</h3>"
   ]
  },
  {
   "cell_type": "code",
   "execution_count": 17,
   "metadata": {
    "tags": [
     "SVM"
    ]
   },
   "outputs": [],
   "source": [
    "\"\"\"\n",
    "Trains a svm classifier on the given dataset.\n",
    "@param x_train, np ndarray, data matrix\n",
    "@param y_train, np ndarray, data vector\n",
    "@param kernel, str, type of kernel being used\n",
    "@param gamma, float, kernel coefficient\n",
    "\"\"\"\n",
    "def trainSVM(x_train,y_train,C,kernel,gamma): \n",
    "    #replace the following line with your lines of code\n",
    "    \n",
    "    model = svm.SVC(C=C, kernel=kernel, gamma=gamma)\n",
    "    model.fit(x_train, y_train)\n",
    "    \n",
    "    return model"
   ]
  },
  {
   "cell_type": "code",
   "execution_count": 18,
   "metadata": {},
   "outputs": [
    {
     "name": "stdout",
     "output_type": "stream",
     "text": [
      "\n",
      "Predicted Values:  [0 1 2 ... 8 8 1]\n",
      "\n",
      "Accuracy of Classifier on Test Image Data:  0.8772\n",
      "\n",
      "Confusion Matrix: \n",
      " [[827   0  19  18   2   1 121   0  10   2]\n",
      " [  1 988   0   8   1   0   2   0   0   0]\n",
      " [ 23   2 816  13  76   1  65   0   4   0]\n",
      " [ 44  19  21 870  23   0  23   0   0   0]\n",
      " [  7   3 100  35 794   0  58   0   3   0]\n",
      " [  2   0   0   1   0 946   0  31   3  17]\n",
      " [140   6  87  34  57   0 667   0   9   0]\n",
      " [  0   0   0   0   0  16   0 942   0  42]\n",
      " [ 13   0   3   2   2   2  13   1 963   1]\n",
      " [  0   0   0   0   0  13   0  27   1 959]]\n"
     ]
    },
    {
     "data": {
      "image/png": "[encoded data removed]",
      "text/plain": [
       "<Figure size 288x288 with 2 Axes>"
      ]
     },
     "metadata": {
      "needs_background": "light"
     },
     "output_type": "display_data"
    }
   ],
   "source": [
    "svm_model = trainSVM(x_train,y_train,10,'poly','auto')\n",
    "_ = get_evaluation(svm_model, x_test, y_test)"
   ]
  },
  {
   "cell_type": "markdown",
   "metadata": {},
   "source": [
    "<h3 style=\"color:rgb(210,90,80)\">4.3 Question (5 points):</h3>"
   ]
  },
  {
   "cell_type": "markdown",
   "metadata": {},
   "source": [
    "To put everything together. Collect all the accuracies from the different classifiers as well a the best parameters for the decision tree (from task 3).\n",
    "Then, in the next cell, plot the accuracy of each classifier to compare them. Make sure to use the provided variable \"plot_\" for the plot and only access data that you put into the cell below (with the tag \"value_check\").\n",
    "\n",
    "**Note:** Please assign the numerical values to the variables in float format (i.e. 0.9876 for 98.76% accuracy)."
   ]
  },
  {
   "cell_type": "code",
   "execution_count": 19,
   "metadata": {
    "tags": [
     "value_check"
    ]
   },
   "outputs": [],
   "source": [
    "#For your reference:\n",
    "#Accuracy:\n",
    "classifier1 = 0.9876\n",
    "#Parameters:\n",
    "parameter1 = 'split'\n",
    "\n",
    "dec_tree_fixed_params_acc = 0.7983\n",
    "#Your solution:\n",
    "dec_tree_best_params_acc = 0.8105\n",
    "KNN_acc = 0.8671\n",
    "SVM_acc = 0.8772\n",
    "\n",
    "#Best parameters dec_tree:\n",
    "par_splitter_ = 'best'\n",
    "par_maxdepth_ = 50\n",
    "par_criterion_ = 'entropy'"
   ]
  },
  {
   "cell_type": "code",
   "execution_count": 20,
   "metadata": {
    "tags": [
     "plot"
    ]
   },
   "outputs": [
    {
     "data": {
      "image/png": "[encoded data removed]",
      "text/plain": [
       "<Figure size 432x288 with 1 Axes>"
      ]
     },
     "metadata": {
      "needs_background": "light"
     },
     "output_type": "display_data"
    }
   ],
   "source": [
    "plot_ = plt.figure()\n",
    "ax = plot_.add_subplot()\n",
    "objects = ['DecisionTreeFixed', 'DecisionTreeBest', 'KNN', 'SVM']\n",
    "y_pos = np.arange(len(objects))\n",
    "acc = [dec_tree_fixed_params_acc, dec_tree_best_params_acc, KNN_acc, SVM_acc]\n",
    "\n",
    "ax.barh(y_pos, acc, align='center')\n",
    "plt.yticks(y_pos, objects)\n",
    "plt.ylabel('Accuracy')\n",
    "plt.title('Accuracy on the Fashion MNIST dataset with different models')\n",
    "plt.xlim(0.7, 0.9)\n",
    "\n",
    "plt.show()"
   ]
  },
  {
   "cell_type": "markdown",
   "metadata": {},
   "source": [
    "<h3 style=\"color:rgb(210,90,80)\">4.4 Question (5 points):</h3>\n",
    "\n",
    "What observations can you make so far? Add your answer to the variables below (several may be correct):\n",
    "\n",
    "#To-Do\n",
    "    \n",
    "a_) The tree model is much faster than KNN and SVM, and also yields a better accuracy. <br>\n",
    "b_) KNN is overall the fastest algorithm we used in the tasks above. <br>\n",
    "c_) As this is already a large data set, it is no big surprise that the SVM with kernel trains very long."
   ]
  },
  {
   "cell_type": "code",
   "execution_count": 21,
   "metadata": {
    "tags": [
     "q1"
    ]
   },
   "outputs": [],
   "source": [
    "#examples for you\n",
    "example_of_true_variable = True\n",
    "example_of_false_variable = False\n",
    "\n",
    "#your answers go here\n",
    "a_=False\n",
    "b_=False\n",
    "c_=True"
   ]
  },
  {
   "cell_type": "markdown",
   "metadata": {},
   "source": [
    "<h2 style=\"color:rgb(0,120,170)\">Task 5: Preparation towards ensembles of trees</h2>"
   ]
  },
  {
   "cell_type": "markdown",
   "metadata": {},
   "source": [
    "In the upcoming lectures you will discuss ensemble methods for trees that aggregate and/or average single tree models to acchieve better performances and/or faster runtimes, compared to the ones we used here. Random Forests are a famous example, where an average over trees is built in a way, such that the overall variance (of the average) is reduced. We will now formalize the situation:\n",
    "\n",
    "Let's say you have $X_1,...,X_B$ identically distributed random variables, which are NOT necessarily independent. Let us denote the variance of a single variable $X_i$ by $\\sigma^2$ and the correlation coefficient between two $X_i$ and $X_j$ for $j \\ne i$ by $\\rho=\\frac{E(X_i X_j)-E(X_i)E(X_j)}{\\sigma^2}$ (keep in mind that all $X_i$'s are identically distributed!). \n",
    "\n",
    "Show that $$\\text{Var}\\left(\\frac{1}{B} \\sum_{i=1}^B X_i \\right)=\\rho \\sigma^2 +\\frac{1-\\rho}{B} \\sigma^2. \\quad (1)$$\n",
    "This gives some intuition about how to control the overall variance of averages. One can reduce it e.g. by a small correlation coefficient $\\rho$ and a large number of models $B$.\n",
    "\n",
    "1. Apply the definition of the variance to the given average. \n",
    "2. Split up the resulting double sum in parts with equal and unequal indices. \n",
    "3. Apply the definition for $\\rho$ and replace the sums with the number of occurences of the respective term (how often the indices appear).\n",
    "4. Rewrite this to get the desired solution.\n",
    "\n",
    "**Note:** Denote in your calculation where you tackle each of this points."
   ]
  },
  {
   "cell_type": "markdown",
   "metadata": {},
   "source": [
    "<h3 style=\"color:rgb(210,90,80)\">5.1 Calculation (15 points):</h3>"
   ]
  },
  {
   "cell_type": "markdown",
   "metadata": {
    "tags": [
     "calculation_latex"
    ]
   },
   "source": [
    "$\\text{1. Apply the definition of the variance to the given average.}$\n",
    "<br><br>\n",
    "$$\\text{Var}\\left(\\frac{1}{B} \\sum_{i=1}^B X_i \\right)=$$<br>\n",
    "$$=\\text{E}\\big(\\big[\\frac{1}{B} \\sum_{i=1}^B X_i\\big]^2\\big)\n",
    "- \\big[\\text{E}\\big(\\frac{1}{B} \\sum_{i=1}^B X_i\\big)\\big]^2=$$<br>\n",
    "$$=\\text{E}\\big(\\frac{1}{B^2} \\sum_{i=1}^B \\sum_{j=1}^B X_i X_j\\big) - \n",
    "\\frac{1}{B^2} \\big[\\sum_{i=1}^B \\text{E}\\big(X_i\\big)\\big]^2=$$\n",
    "$$=\\frac{1}{B^2} \\sum_{i=1}^B \\sum_{j=1}^B \\text{E}\\big(X_i X_j\\big) - \\frac{1}{B^2} \\sum_{i=1}^B \\sum_{j=1}^B \\text{E}\\big(X_i\\big) \\text{E}\\big(X_j\\big)=$$\n",
    "$$=\\frac{1}{B^2}\\sum_{i=1}^B \\sum_{j=1}^B\\Big(\\text{E}\\big(X_i X_j\\big) - \\text{E}\\big(X_i\\big) \\text{E}\\big(X_j\\big)\\Big)=$$\n",
    "$$\\frac{1}{B^2}\\sum_{i=1}^B \\sum_{j=1}^B \\text{Cov}\\big(X_i, X_j\\big)$$\n",
    "<br>\n",
    "$\\text{2. Split up the resulting double sum in parts with equal and unequal indices.}$\n",
    "<br><br>\n",
    "$$\\text{If } i = j: Cov(X_i, X_i) = Var(X_i) = \\sigma^2 \\implies$$\n",
    "$$\\frac{1}{B^2}\\sum_{i=1}^B \\sum_{j=1}^B \\text{Cov}\\big(X_i, X_j\\big)=$$\n",
    "$$=\\frac{1}{B^2}\\sum_{i=j}^B \\sigma^2 + \\frac{1}{B^2} \\sum_{i\\neq j}^B \\text{Cov}\\big(X_i, X_j\\big)$$\n",
    "<br>\n",
    "$\\text{3. Apply the definition for  𝜌  and replace the sums with the number of occurences of the respective term (how often the indices appear).}$\n",
    "<br><br>\n",
    "$$i = j \\text{ appears } B \\text{ times, } i \\neq j \\text{ appears } B*(B-1) \\text{ times and }\\sigma \\text{ and Cov}(X_i, X_j) \\text{ are independent of the indices}$$\n",
    "<br>\n",
    "$$\\text{Cov}\\big(X_i, X_j\\big)=\\rho \\sigma^2 \\text{ (definition }\\rho)$$\n",
    "$$\\implies$$\n",
    "$$\\frac{1}{B^2}\\sum_{i=j}^B \\sigma^2 + \\frac{1}{B^2} \\sum_{i\\neq j}^B \\text{Cov}\\big(X_i, X_j\\big)=$$\n",
    "$$=\\frac{B}{B^2}\\sigma^2+\\frac{B*(B-1)}{B^2}\\rho\\sigma^2$$\n",
    "$$=\\frac{\\sigma^2}{B} + \\frac{B-1}{B}\\rho \\sigma^2$$\n",
    "<br>\n",
    "$\\text{4. Rewrite this to get the desired solution.}$\n",
    "<br><br>\n",
    "$$\\frac{\\sigma^2}{B} + \\frac{B-1}{B}\\rho \\sigma^2=$$\n",
    "$$=\\frac{B\\rho \\sigma^2+\\sigma^2 - \\rho \\sigma^2}{B}=$$\n",
    "$$=\\frac{B\\rho \\sigma^2}{B} + \\frac{\\sigma^2(1-\\rho)}{B}=$$\n",
    "$$=\\rho \\sigma^2+\\frac{1-\\rho}{B}\\sigma^2$$"
   ]
  },
  {
   "cell_type": "code",
   "execution_count": 22,
   "metadata": {
    "tags": [
     "exec"
    ]
   },
   "outputs": [
    {
     "name": "stdout",
     "output_type": "stream",
     "text": [
      "Executable\n"
     ]
    },
    {
     "name": "stderr",
     "output_type": "stream",
     "text": [
      "/home/liondungl/.programs/miniconda3/envs/deeplearning/lib/python3.8/site-packages/sklearn/model_selection/_search.py:285: UserWarning: The total space of parameters 5 is smaller than n_iter=10. Running 5 iterations. For exhaustive searches, use GridSearchCV.\n",
      "  warnings.warn(\n"
     ]
    }
   ],
   "source": [
    "#executability check\n",
    "calc_gini(np.eye(2),np.ones(2),0.5,1)\n",
    "dec_tree(RSEED,np.ones((2,2)),np.ones(2))\n",
    "train_dec_tree(np.ones((10,2)),np.ones(10),{\"max_depth\":[1,2,4,5,6]},RSEED,10,10)\n",
    "trainKNN(np.ones((10,2)),np.ones(10),1,'distance',1)\n",
    "trainSVM(np.ones((4,2)),np.array([0,1,0,1]),1,'poly','auto')\n",
    "print(\"Executable\")"
   ]
  },
  {
   "cell_type": "markdown",
   "metadata": {},
   "source": [
    "**Note:** The execution of this notebook will take a while, i.e., it might run for 20-30 minutes. For testing purposes, you might work with a reduced dataset (Task 4) but make sure to report the numbers etc. for the whole dataset!"
   ]
  }
 ],
 "metadata": {
  "celltoolbar": "Tags",
  "kernelspec": {
   "display_name": "deeplearning",
   "language": "python",
   "name": "deeplearning"
  },
  "language_info": {
   "codemirror_mode": {
    "name": "ipython",
    "version": 3
   },
   "file_extension": ".py",
   "mimetype": "text/x-python",
   "name": "python",
   "nbconvert_exporter": "python",
   "pygments_lexer": "ipython3",
   "version": "3.8.10"
  }
 },
 "nbformat": 4,
 "nbformat_minor": 4
}
