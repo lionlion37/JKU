{
 "cells": [
  {
   "cell_type": "markdown",
   "id": "db5f82b5",
   "metadata": {},
   "source": [
    "<h1 style=\"color:rgb(0,120,170)\">Assignment 0</h1>\n",
    "\n",
    "Within this introductory assignment you have a chance to familiarise yourself with Jupyter Notebooks and this course requirements."
   ]
  },
  {
   "cell_type": "code",
   "execution_count": null,
   "id": "annual-express",
   "metadata": {},
   "outputs": [],
   "source": [
    "<ol>\n",
    "    <li>Lagrangian function</li>\n",
    "    $L(w_1,w_2,\\alpha)=4*(w_1^4+w_2^4)+\\alpha(4+w_1-w_2)$\n",
    "    <br><br>\n",
    "    <li>Derivatives of Lagrangian</li>\n",
    "    $\\frac{\\partial L}{\\partial w_1}=16w_1^3+\\alpha \\implies w_1^*=\\sqrt[3]{-\\frac{\\alpha}{16}}=-\\sqrt[3]{\\frac{\\alpha}{16}}$<br>\n",
    "    $\\frac{\\partial L}{\\partial w_2}=16w_2^3-\\alpha \\implies w_2^*=\\sqrt[3]{\\frac{\\alpha}{16}}$\n",
    "    <br><br>\n",
    "    <li>Solving by using KKT conditions</li>\n",
    "    <br>\n",
    "    $\\alpha*h(w_1^*,w_2^*)=0$<br>\n",
    "    $\\alpha*(4-2*\\sqrt[3]{\\frac{\\alpha}{16}})=0$\n",
    "    <br><br>\n",
    "    $Case$ $1:$ $\\alpha=0$\n",
    "    <br><br>\n",
    "    $\\implies h(w_1^*,w_2^*)=(4-2*\\sqrt[3]{\\frac{0}{16}})=4 \\nleq 0$\n",
    "    <br><br>\n",
    "    $Case$ $2:$ $h(w_1^*,w_2^*)=0$\n",
    "    <br><br>\n",
    "    $\\implies 4-2*\\sqrt[3]{\\frac{0}{16}}=0\\implies$<br>\n",
    "    $\\implies \\sqrt[3]{\\frac{\\alpha}{16}}=2\\implies$<br>\n",
    "    $\\implies \\frac{\\alpha}{16}=8\\implies$<br>\n",
    "    $\\implies \\alpha=128$\n",
    "    <br><br>\n",
    "    $\\implies h(w_1^*,w_2^*)=(4-2*\\sqrt[3]{\\frac{128}{16}})=0 \\leq 0$\n",
    "    <br><br>\n",
    "    $insert$ $into$ $w_1^*$ $and$ $w_2^*:$<br>\n",
    "    $w_1^*=-\\sqrt[3]{\\frac{\\alpha}{16}}=-\\sqrt[3]{\\frac{128}{16}}=-2$<br>\n",
    "    $w_2^*=\\sqrt[3]{\\frac{\\alpha}{16}}=\\sqrt[3]{\\frac{128}{16}}=2$\n",
    "    <br><br>\n",
    "    <li>Solving without KKT conditions</li>\n",
    "    <br>\n",
    "    $maximize$ $\\mathcal{L}(\\alpha)=L(w_1^*,w_2^*,\\alpha)=$<br>\n",
    "    $=8*\\frac{\\alpha}{16}\\sqrt[3]\\frac{\\alpha}{16}+\\alpha(4-2*\\sqrt[3]\\frac{\\alpha}{16})$<br>\n",
    "    $subject$ $to$ $\\alpha \\geq 0$\n",
    "    <br><br>\n",
    "    $\\frac{d\\mathcal{L}}{d\\alpha}=\\frac{4}{3}\\sqrt[3]{\\alpha}*\\frac{8}{\\sqrt[3]{16})^4}-\\frac{4}{3}\\sqrt[3]{\\alpha}\\frac{2}{\\sqrt[3]{16}}+4=$<br>\n",
    "    $=\\frac{32*\\sqrt[3]{\\alpha}-128*\\sqrt[3]{\\alpha}}{3*(\\sqrt[3]{16})^4}+4=$<br>\n",
    "    $=4-\\frac{32}{(\\sqrt[3]{16})^4}*\\sqrt[3]{\\alpha}$\n",
    "    <br><br>\n",
    "    $set$ $derivative$ $to$ $0:$<br>\n",
    "    $4-\\frac{32}{(\\sqrt[3]{16})^4}*\\sqrt[3]{\\alpha}=0 \\implies$<br>\n",
    "    $\\implies \\sqrt[3]{\\alpha}=\\frac{4*(\\sqrt[3]{16})^4}{32} \\implies$<br>\n",
    "    $\\implies \\alpha=\\Big(\\frac{4*(\\sqrt[3]{16})^4}{32}\\Big)^3=128 \\geq 0$\n",
    "    <br><br>\n",
    "    $insert$ $into$ $w_1^*$ $and$ $w_2^*:$<br>\n",
    "    $w_1^*=-\\sqrt[3]{\\frac{\\alpha}{16}}=-\\sqrt[3]{\\frac{128}{16}}=-2$<br>\n",
    "    $w_2^*=\\sqrt[3]{\\frac{\\alpha}{16}}=\\sqrt[3]{\\frac{128}{16}}=2$\n",
    "</ol>"
   ]
  },
  {
   "cell_type": "markdown",
   "id": "a64d8527",
   "metadata": {},
   "source": [
    "<h2 style=\"color:rgb(0,120,170)\">Copyrighting and Fare Use</h2>\n",
    "\n",
    "This material, no matter whether in printed or electronic form,\n",
    "may be used for personal and non-commercial educational use\n",
    "only. Any reproduction of this material, no matter whether as a\n",
    "whole or in parts, no matter whether in printed or in electronic\n",
    "form, requires explicit prior acceptance of the authors."
   ]
  },
  {
   "cell_type": "markdown",
   "id": "9c63335f",
   "metadata": {},
   "source": [
    "<h2 style=\"color:rgb(0,120,170)\">Automatic Testing Guidelines</h2>\n",
    "\n",
    "Automatic unittesting requiers you, as a student, to submit notebook which contains strictly defined objects.\n",
    "Strictness of definition consists of unified shapes, dtypes, variable names and more.<br>\n",
    "Within the notebook we provide detailed instruction which you may want to follow, in order to maximise your final grade.\n",
    "\n",
    "**Name your notebook properly**, follow the pattern in template name:\n",
    "\n",
    "**Assignment_N_NameSurname_matrnumber**\n",
    "<ol>\n",
    "    <li>N - number of assignment</li>\n",
    "    <li>NameSurname - your full name where evry part of the name strats from capital letter, no spaces</li>\n",
    "    <li>matrnumber - you student number on ID card (without k)</li>\n",
    "</ol>\n",
    "\n",
    "Adding cells might badly influence your sumbission, in case if implementations in cells will depend on unexpected ones.\n",
    "You may notice, that most cells are tagged, that is the way for unittest routine to recognise them.\n",
    "We highly recommend you to develop your code within provided cells.\n",
    "\n",
    "If you delete any cell or tag, it will be hard to evaluate respective part of assingment.\n",
    "\n",
    "**Please be careful**, and may force be with you."
   ]
  },
  {
   "cell_type": "markdown",
   "id": "7bdbf4bd",
   "metadata": {},
   "source": [
    "<h2 style=\"color:rgb(0,120,170)\">LaTeX</h2>\n",
    "<p>\n",
    "    During the course you will be often supposed to derive formulas and perform calculations.<br>\n",
    "    The perfect tool to use in that case is LaTeX.<br>\n",
    "    By developers definition: <i>\"LaTeX is a high-quality typesetting system which includes features designed for the production of technical and scientific documentation.\"</i>\n",
    "</p>\n",
    "<p>\n",
    "    Tips how to use LaTeX:\n",
    "    <ul>\n",
    "    <li>Enter LaTeX mode by typing <b>two dollar signs.</b><br>\n",
    "        Your first LaTeX statement $y = x^2$\n",
    "    </li>\n",
    "    <li>Use <b>curly brackets</b> to define arguments:<br>\n",
    "        No argument definition: $x^2 \\cdot x^3 \\neq x^2+3$<br>\n",
    "        Using brackets for argument definition: $x^2 \\cdot x^3 = x^{2+3}$<br>\n",
    "    </li>\n",
    "    <li>\n",
    "        Go for fancy tags to make your styling readable.<br>\n",
    "        Blackboard Bold style can be used for sets of numbers. Use <b>\\mathbb</b> tag. Examples: $\\mathbb{R}, \\mathbb{Z}, \\mathbb{I}, \\mathbb{Q}$<br>\n",
    "        Fractions can be written with <b>\\frac</b> tag. Example: $\\frac{x^2-1}{x-1}=\\frac{(x-1)(x+1)}{x-1}=x+1$\n",
    "    </li>\n",
    "    <li>Adjust bracked hight with <b>\\left \\right</b> tags.<br>\n",
    "        Formula without brackets adjustments: $y = (\\frac{\\mathbb{E}(X)}{\\mathbb{E}(Y)})^{x-y}$<br>\n",
    "        Formula with brackets adjustments: $y = \\left(\\frac{\\mathbb{E}(X)}{\\mathbb{E}(Y)}\\right)^{x-y}$\n",
    "    </li>\n",
    "    </ul>\n",
    "</p>\n",
    "    "
   ]
  },
  {
   "cell_type": "markdown",
   "id": "bf37cd95",
   "metadata": {},
   "source": [
    "<h2 style=\"color:rgb(210,90,80)\">Write a LaTeX formula (7 points)</h2>\n",
    "<p>\n",
    "    Show that for $ax^2+bx+c$ roots are:$$x=\\frac{-b\\pm\\sqrt{b^2-4ac}}{2a}$$\n",
    "</p>"
   ]
  },
  {
   "cell_type": "markdown",
   "id": "f6e60197",
   "metadata": {
    "tags": [
     "solution"
    ]
   },
   "source": [
    "Your solution goes here ↓↓↓\n",
    "\n",
    "$$ax²+bx+c=0|:a$$<br><br>\n",
    "$$x²+\\frac{b}{a}x+\\frac{c}{a}=0|-\\frac{c}{a}$$<br><br>\n",
    "$$x²+\\frac{b}{a}x=-\\frac{c}{a}|+\\left(\\frac{b}{2a}\\right)²$$<br><br>\n",
    "$$x²+\\frac{b}{a}x+\\left(\\frac{b}{2a}\\right)²=-\\frac{c}{a}+\\left(\\frac{b}{2a}\\right)²\\rightarrow$$<br><br>\n",
    "$$(x+\\frac{b}{2a})²=-\\frac{c}{a}+\\frac{b²}{4a²}=\\frac{b²-4ac}{4a²}|\\sqrt{}$$<br><br>\n",
    "$$\\sqrt{(x+\\frac{b}{2a})²}=\\sqrt{\\frac{b²-4ac}{4a²}}\\rightarrow$$<br><br>\n",
    "$$x+\\frac{b}{2a}=\\pm\\frac{\\sqrt{b²-4ac}}{2a}|-\\frac{b}{2a}$$<br><br>\n",
    "$$x=\\frac{-b\\pm\\sqrt{b²-4ac}}{2a}$$"
   ]
  },
  {
   "cell_type": "markdown",
   "id": "cba5fd18",
   "metadata": {},
   "source": [
    "<h2 style=\"color:rgb(0,120,170)\">Coding</h2>\n",
    "\n",
    "In order to pass unittests please follow the instrcutions carefully.\n",
    "\n",
    "<h3 style=\"color:rgb(210,90,80)\">Imports</h3>\n",
    "Install and import packages you need."
   ]
  },
  {
   "cell_type": "code",
   "execution_count": 1,
   "id": "e0c66511",
   "metadata": {
    "tags": [
     "imports"
    ]
   },
   "outputs": [],
   "source": [
    "import numpy as np\n",
    "from matplotlib import pyplot as plt"
   ]
  },
  {
   "cell_type": "markdown",
   "id": "ebabf977",
   "metadata": {},
   "source": [
    "<h3 style=\"color:rgb(210,90,80)\">Write a formula (5 points)</h3><br>\n",
    "Write a formula <b>bivar_normal()</b> which returns a numpy array of shape (100,2) filled with normally distributed random datapoints with mean=0, std=1."
   ]
  },
  {
   "cell_type": "code",
   "execution_count": 2,
   "id": "17457b09",
   "metadata": {
    "tags": [
     "bivar"
    ]
   },
   "outputs": [],
   "source": [
    "\"\"\"Function bivar_normal takes no argument and\n",
    "@returns: numpy array of shape (100,2) of np.float32 dtype with no rounding of values.\"\"\"\n",
    "def bivar_normal():#do not change formula name\n",
    "    #your gode goes here ↓↓↓\n",
    "    return np.random.normal(size=(100,2))"
   ]
  },
  {
   "cell_type": "markdown",
   "id": "0ad08d41",
   "metadata": {},
   "source": [
    "<h3 style=\"color:rgb(210,90,80)\">Plot (5 points)</h3>\n",
    "Define a variable <b>data</b> through calling a <b>bivar_normal()</b> function developped above.<br>\n",
    "Plot your <b>data</b> as scatterplot by using matplotlib library. Set axis labels and plot title properly."
   ]
  },
  {
   "cell_type": "code",
   "execution_count": 3,
   "id": "ffcdd337",
   "metadata": {},
   "outputs": [],
   "source": [
    "#please use predefined names of varibales\n",
    "data = bivar_normal() #define data variable"
   ]
  },
  {
   "cell_type": "code",
   "execution_count": 4,
   "id": "12a293f2",
   "metadata": {
    "tags": [
     "plot"
    ]
   },
   "outputs": [
    {
     "data": {
      "image/png": "[encoded data removed]",
      "text/plain": [
       "<Figure size 432x288 with 1 Axes>"
      ]
     },
     "metadata": {
      "needs_background": "light"
     },
     "output_type": "display_data"
    }
   ],
   "source": [
    "plt.title(\"Normally distributed random data\")\n",
    "plt.xlabel('x')\n",
    "plt.ylabel('y')\n",
    "your_plot = plt.scatter(data[:,0], data[:,1]) #define your_plot variable"
   ]
  },
  {
   "cell_type": "markdown",
   "id": "431ae4c6",
   "metadata": {},
   "source": [
    "<h3 style=\"color:rgb(210,90,80)\">Test question (3 points)</h3>\n",
    "\n",
    "What is true? Multiple answers might be correct.<br> \n",
    "\n",
    "Pegasus is:<br>\n",
    "a_) a horse with horn<br>\n",
    "b_) a horse with wings<br>\n",
    "c_) a pink elephant<br>\n",
    "d_) a magical creature<br>\n",
    "\n",
    "To answer the question assign to variables in the next cell **True** or **False** boolean values.<br>\n",
    "To earn points **assign values to all variables**"
   ]
  },
  {
   "cell_type": "code",
   "execution_count": 5,
   "id": "023268aa",
   "metadata": {},
   "outputs": [],
   "source": [
    "#examples for you\n",
    "example_of_true_variable = True\n",
    "example_of_false_variable = False\n",
    "\n",
    "#your answers go here ↓↓↓,\n",
    "a_ = False\n",
    "b_ = True\n",
    "c_ = False\n",
    "d_ = True"
   ]
  },
  {
   "cell_type": "markdown",
   "id": "14d405f6",
   "metadata": {},
   "source": [
    "<h3 style=\"color:rgb(210,90,80)\">Make sure your submission has no errors (1 point)</h3>\n",
    "\n",
    "Remove all errors in code and run all cells to make sure your code is executable."
   ]
  },
  {
   "cell_type": "code",
   "execution_count": null,
   "id": "3c4a4f73",
   "metadata": {
    "tags": [
     "err"
    ]
   },
   "outputs": [],
   "source": []
  },
  {
   "cell_type": "markdown",
   "id": "6f4db6af",
   "metadata": {},
   "source": [
    "<h2 style=\"color:rgb(0,120,170)\">Technical cells</h2>\n",
    "\n",
    "The cells below are needed for efficient unittesting.\n",
    "Do not delete or change in order to receive proper evaluation.<br>\n",
    "Executability check might help you."
   ]
  },
  {
   "cell_type": "code",
   "execution_count": 6,
   "id": "3b02525e",
   "metadata": {
    "tags": [
     "tech"
    ]
   },
   "outputs": [],
   "source": [
    "def bivar_normal_tl():\n",
    "    try:\n",
    "        return bivar_normal().tolist()\n",
    "    except:\n",
    "        raise ValueError(\"Check if your bivar_normal() functions returns numpy nd array\")\n",
    "    "
   ]
  },
  {
   "cell_type": "code",
   "execution_count": 7,
   "id": "a9cecdb2",
   "metadata": {
    "tags": [
     "exec"
    ]
   },
   "outputs": [
    {
     "name": "stdout",
     "output_type": "stream",
     "text": [
      "Executable\n"
     ]
    }
   ],
   "source": [
    "#executability check\n",
    "bivar_normal_tl()\n",
    "print(\"Executable\")"
   ]
  },
  {
   "cell_type": "code",
   "execution_count": null,
   "id": "c3c93f77",
   "metadata": {},
   "outputs": [],
   "source": []
  }
 ],
 "metadata": {
  "celltoolbar": "Tags",
  "kernelspec": {
   "display_name": "deeplearning",
   "language": "python",
   "name": "deeplearning"
  },
  "language_info": {
   "codemirror_mode": {
    "name": "ipython",
    "version": 3
   },
   "file_extension": ".py",
   "mimetype": "text/x-python",
   "name": "python",
   "nbconvert_exporter": "python",
   "pygments_lexer": "ipython3",
   "version": "3.8.10"
  }
 },
 "nbformat": 4,
 "nbformat_minor": 5
}
