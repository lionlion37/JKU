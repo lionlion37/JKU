{
 "cells": [
  {
   "cell_type": "markdown",
   "id": "authentic-aspect",
   "metadata": {
    "pycharm": {
     "name": "#%% md\n"
    }
   },
   "source": [
    "*UE Learning from User-generated Data, CP MMS, JKU Linz 2022*\n",
    "# Exercise 3: Model-based approaches\n",
    "In this exercise we'll have a look at two different takes on Matrix Factorization and prepare to learn about ways to evaluate recommender systems.\n",
    "\n",
    "The assignment submission deadline is 26.04.2022 23:59.\n",
    "\n",
    "Make sure to rename the notebook according to the convention:\\\n",
    "LUD22_ex03_k<font color='red'>\\<Matr. Number\\></font>_<font color='red'>\\<Surname-Name\\></font>.ipynb\n",
    "\n",
    "for example:\n",
    "\n",
    "LUD22_ex03_k000007_Bond-James.ipynb\n",
    "\n",
    "## Implementation\n",
    "In this exercise, as before, you are reqired to write a number of functions. Insert your implementations into the templates provided. Please don't change the templates even if they are not pretty. Don't forget to test your implementation for correctness and efficiency.\n",
    "\n",
    "Please **only use libraries already imported in the notebook**. *Feel free to experiment with the notebook, but clean it up before submitting.*"
   ]
  },
  {
   "cell_type": "code",
   "execution_count": 1,
   "id": "anonymous-french",
   "metadata": {
    "pycharm": {
     "name": "#%%\n"
    }
   },
   "outputs": [
    {
     "name": "stderr",
     "output_type": "stream",
     "text": [
      "/home/liondungl/.programs/miniconda3/envs/deeplearning/lib/python3.8/site-packages/tqdm/auto.py:22: TqdmWarning: IProgress not found. Please update jupyter and ipywidgets. See https://ipywidgets.readthedocs.io/en/stable/user_install.html\n",
      "  from .autonotebook import tqdm as notebook_tqdm\n"
     ]
    }
   ],
   "source": [
    "import pandas as pd\n",
    "import numpy as np\n",
    "import random as rnd\n",
    "\n",
    "import torch\n",
    "from torch import nn, optim\n",
    "from sklearn.metrics.pairwise import cosine_similarity\n",
    "\n",
    "from tqdm import tqdm\n",
    "\n",
    "# data reader from previous exercises\n",
    "def inter_matr_binary(usr_path = 'sampled_1000_items_demo.txt',\n",
    "                      itm_path = 'sampled_1000_items_tracks.txt',\n",
    "                      inter_path = 'sampled_1000_items_inter.txt',\n",
    "                      threshold = 1) -> np.ndarray:\n",
    "    '''\n",
    "    usr_path - string path to the file with users data;\n",
    "    itm_path - string path to the file with item data;\n",
    "    inter_path - string path to the file with interaction data;\n",
    "    threshold - int > 0, criteria of a valid interaction\n",
    "    \n",
    "    returns - 2D np.array, rows - users, columns - items;\n",
    "    '''\n",
    "    \n",
    "    res = None\n",
    "    \n",
    "    # reading the three data files\n",
    "    users = pd.read_csv(usr_path, sep='\\t', header=None, names=['location','age','gender', 'date'])\n",
    "    items = pd.read_csv(itm_path, sep='\\t', header=None, names=['artist','track'])\n",
    "    interactions = pd.read_csv(inter_path, sep='\\t', header=None, names=['user','item','num_inters'])\n",
    "\n",
    "    # getting number of users and items from the respective files to be on the safe side\n",
    "    n_users = len(users.index)\n",
    "    n_items = len(items.index)\n",
    "\n",
    "    # preparing the output matrix\n",
    "    res = np.zeros([n_users, n_items])\n",
    "\n",
    "    # for every interaction assign 1 to the respective element of the matrix\n",
    "    for _, inter in interactions.iterrows():\n",
    "        curr_user = inter['user']\n",
    "        curr_item = inter['item']\n",
    "        res[curr_user, curr_item] = 1 if inter['num_inters'] >= threshold else 0\n",
    "    \n",
    "    return res"
   ]
  },
  {
   "cell_type": "markdown",
   "id": "funky-mobility",
   "metadata": {
    "pycharm": {
     "name": "#%% md\n"
    }
   },
   "source": [
    "## Matrix Factorization\n",
    "In the previous exercise we implented ItemKNN which is a Memory-based approach. It means that in order for the model to function we have to keep all known to us interactions (the full interaction matrix) in the memory, this can be cumbersome.\n",
    "    \n",
    "The idea of Model-based approaches is to learn some kind of compact representation of the matrix. Most common scenario is the following: instead of representing every user through all the items and every item through all the users (full interaction matrix) let's represent both in a latent vector space of some smaller dimensionality **f**.\n",
    "\n",
    "It means that instead of the one full interaction matrix **inter**: (**users** x **items**) we'll need to keep in memory two much smaller matrices: one with user-representations **U**: (**users** x **f**), one with item representations **V**: (**items** x **f**). And we'll learn those two in such a way that we can recreate the information contained in the full interaction matrix, for example through dot product:\n",
    "    \n",
    "inter[**user**, **item**] = U[**user**, :] @ V[**item**, :].T\n",
    "    \n",
    "Such approach is generally called Matrix Factorization, because we split one huge unbearable matrix into multiple smaller bearable ones. It has the following benefits:\n",
    "* The two new matrices combined (should) take less space than the full interaction matrix and thus easier fit into memory;\n",
    "* Selecting a reasonable **f** means that we operate with shorter vectors during all kinds of calculations, this decreases computational load during recommendation making online inference easier;\n",
    "* Matrix factorization compresses sparce information contained in the interaction matrix into an elegant representation and can potentially encode **hidden dependencies**;\n",
    "* Having both items and users represented in the the same **f**-dimensional space opens new possibilities for recommendation;\n",
    "    \n",
    "Now let's have a look at how we can actually perform this trick.\n",
    "    \n",
    "### Singular Value Decomposition (SVD)\n",
    "As it often happens, linear algebra has answers. And Singular Vector Decomposition is one.\n",
    "\n",
    "A $n * m$ matrix $I$ can be decomposed into a product of 3 matrices:<br>\n",
    "$I = U\\Sigma V^T$\n",
    "\n",
    "$U$ -- orthogonal ($n * n$) matrix composed of left singular vectors (it corresponds to users);<br>\n",
    "$\\Sigma$ -- ($n * m$) diagonal matrix, containing singular values;<br>\n",
    "$V$ -- orthogonal ($m * m$) matrix composed of right singular vectors (it corresponds to items);<br>\n",
    "\n",
    "#### <font color='#666666'>Thin Variant</font> of  Singular Vector Decomposition\n",
    "As before:<br>\n",
    "$I = U\\Sigma V^T$\n",
    "\n",
    "We can exploit the fact that $I$ (usually) is not square and cannot have *full rank*.<br>\n",
    "$k = min(n, m)$\n",
    "\n",
    "As a result $U$, $\\Sigma$ and $V$ have different dimensions:<br>\n",
    "$U$ -- ($n *$ <font color='red'>$k$</font>) of left singular vectors (it corresponds to users);<br>\n",
    "$\\Sigma$ -- (<font color='red'>$k$</font> $*$ <font color='red'>$k$</font>) square diagonal matrix, containing singular values;<br>\n",
    "$V$ -- ($m *$ <font color='red'>$k$</font>) of right singular vectors (it corresponds to items);<br>"
   ]
  },
  {
   "cell_type": "code",
   "execution_count": 2,
   "id": "portuguese-stockholm",
   "metadata": {
    "pycharm": {
     "name": "#%%\n"
    }
   },
   "outputs": [
    {
     "name": "stdout",
     "output_type": "stream",
     "text": [
      "users' representations:\n",
      " [[ 5.42463675e-01 -9.81751217e-02  7.07106781e-01 -4.42825933e-01]\n",
      " [ 5.97192605e-01  5.10969410e-01  9.53353613e-16  6.18280887e-01]\n",
      " [ 2.34152336e-01 -8.48312179e-01 -1.26890348e-15  4.74909602e-01]\n",
      " [ 5.42463675e-01 -9.81751217e-02 -7.07106781e-01 -4.42825933e-01]] \n",
      "\n",
      "items' representations:\n",
      " [[ 4.42491536e-01  2.76337063e-01 -5.00000000e-01  4.77324909e-01]\n",
      " [ 3.01534785e-01 -6.33607412e-01  5.00000000e-01  8.72835678e-02]\n",
      " [ 4.42491536e-01  2.76337063e-01  5.00000000e-01  4.77324909e-01]\n",
      " [ 6.53112570e-01  2.10615648e-01  4.39150319e-16 -7.27382307e-01]\n",
      " [ 3.01534785e-01 -6.33607412e-01 -5.00000000e-01  8.72835678e-02]] \n",
      "\n",
      "singular values: [2.57554368 1.49380718 1.41421356 0.36757971] \n",
      "\n",
      "reconstructed matrix\n",
      " [[ 2.38539840e-17  1.00000000e+00  1.00000000e+00  1.00000000e+00\n",
      "   5.83930074e-17]\n",
      " [ 1.00000000e+00  3.48071147e-16  1.00000000e+00  1.00000000e+00\n",
      "  -3.89279357e-17]\n",
      " [ 1.21342051e-17  1.00000000e+00  2.07979215e-16  2.96909617e-16\n",
      "   1.00000000e+00]\n",
      " [ 1.00000000e+00  1.73625486e-16  1.40098033e-16  1.00000000e+00\n",
      "   1.00000000e+00]] \n",
      "\n",
      "reconstructed matrix (rounded)\n",
      " [[ 0.  1.  1.  1.  0.]\n",
      " [ 1.  0.  1.  1. -0.]\n",
      " [ 0.  1.  0.  0.  1.]\n",
      " [ 1.  0.  0.  1.  1.]]\n"
     ]
    }
   ],
   "source": [
    "# consider an interaction matrix with 4 users and 5 items\n",
    "inter_matr = np.array(\n",
    "                        [\n",
    "                            [0, 1, 1, 1, 0],\n",
    "                            [1, 0, 1, 1, 0],\n",
    "                            [0, 1, 0, 0, 1],\n",
    "                            [1, 0, 0, 1, 1]\n",
    "                        ]\n",
    "                     )\n",
    "# let's now apply Thin (k==4) SVD to it, we'll get the following: \n",
    "\n",
    "# U - (4, 4) matrix, corresponding to users\n",
    "# s - (4) singular values - each element shows how informative the corresponding dimension is\n",
    "# Vh - (4, 5) already transposed matrix corresponding to items\n",
    "\n",
    "# we set 'full_matrices' to 'False' for Thin SVD\n",
    "U, s, Vh = np.linalg.svd(inter_matr, full_matrices = False)\n",
    "\n",
    "# let's quickly construct the matrix back to make sure everything works\n",
    "res = (U @ np.diag(s)) @ Vh\n",
    "\n",
    "print('users\\' representations:\\n', U, '\\n')\n",
    "print('items\\' representations:\\n', Vh.T, '\\n') # Transposing to have first dimension correspond to items\n",
    "print('singular values:', s, '\\n')\n",
    "print('reconstructed matrix\\n', res, '\\n')\n",
    "print('reconstructed matrix (rounded)\\n', res.round())"
   ]
  },
  {
   "cell_type": "markdown",
   "id": "alone-equality",
   "metadata": {
    "pycharm": {
     "name": "#%% md\n"
    }
   },
   "source": [
    "#### Cool things about SVD\n",
    "SVD projects all the variance contained in the data onto orthogonal basis of $k$ vectors.<br>\n",
    "Singular values ($\\Sigma$ or $s$) allow us to judge how much variance is \"situated\" along each vector. It is also acts as weighting for the $k$ dimensions;\n",
    "\n",
    "| $\\Sigma$ |  |  |  |\n",
    "|--|--|--|--|\n",
    "| **2.58** | 0.0 | 0.0 | 0.0 |\n",
    "| 0.0 | **1.49** | 0.0  | 0.0 |\n",
    "| 0.0 | 0.0 | **1.41** | 0.0 |\n",
    "| 0.0 | 0.0 | 0.0 | **0.37** |\n",
    "\n",
    "Basing on that, we can choose $f < k$ (remember $f$?⬆) dimensions to represent the whole data. Choosing dimensions corresponding to lagest singular values we make sure to keep most of the information contained in the full interaction matrix while decreasing its size and maybe even filtering some noise out. $U$ and $V^T$ become ($n *$ <font color='red'>$f$</font>) and (<font color='red'>$f$</font> $* m$) respectively.<br><br>\n",
    "Let's select only $f = 2$ or $3$ **first** latent features out of $4$ we got, and check how the matrix will change. This is called **truncated SVD**.\n",
    "\n",
    "**Note!** We take first $f$ latent features, because they correspond to higher variance (usually SVD implementations arrange the dimensions in the order of decreasing variance). Higer variance means more *signal* captured with the corresponding dimension. "
   ]
  },
  {
   "cell_type": "code",
   "execution_count": 3,
   "id": "loaded-lesbian",
   "metadata": {
    "pycharm": {
     "name": "#%%\n"
    }
   },
   "outputs": [
    {
     "name": "stdout",
     "output_type": "stream",
     "text": [
      "reconstructed interaction matrix with f = 4, no truncation:\n",
      " [[ 0.  1.  1.  1.  0.]\n",
      " [ 1.  0.  1.  1. -0.]\n",
      " [ 0.  1.  0.  0.  1.]\n",
      " [ 1.  0.  0.  1.  1.]]\n",
      "reconstructed interaction matrix with f =  3 , truncated:\n",
      " [[ 0.  1.  1.  1.  0.]\n",
      " [ 1. -0.  1.  1. -0.]\n",
      " [-0.  1. -0.  0.  1.]\n",
      " [ 1.  0.  0.  1.  1.]]\n",
      "reconstructed interaction matrix with f =  2 , truncated:\n",
      " [[ 1.  1.  1.  1.  1.]\n",
      " [ 1. -0.  1.  1. -0.]\n",
      " [-0.  1. -0.  0.  1.]\n",
      " [ 1.  1.  1.  1.  1.]]\n"
     ]
    }
   ],
   "source": [
    "print('reconstructed interaction matrix with f = 4, no truncation:\\n', res.round())\n",
    "\n",
    "# Taking 3 most informative dimensions\n",
    "f = 3\n",
    "res_trunc_3 = (U[:,:f] @ np.diag(s[:f])) @ Vh[:f,:]\n",
    "print('reconstructed interaction matrix with f = ',f, ', truncated:\\n', res_trunc_3.round())\n",
    "\n",
    "# Taking only 2 most informative dimensions\n",
    "f = 2\n",
    "res_trunc_2 = (U[:,:f] @ np.diag(s[:f])) @ Vh[:f,:]\n",
    "print('reconstructed interaction matrix with f = ',f, ', truncated:\\n', res_trunc_2.round())"
   ]
  },
  {
   "cell_type": "markdown",
   "id": "sonic-helen",
   "metadata": {
    "pycharm": {
     "name": "#%% md\n"
    }
   },
   "source": [
    "You can notice that selecting 3 most informative features gives a result very similar to the full set of features. This is no wonder, the 4th dimension corresponds to the lowest variance of 0.37, see the table above.\n",
    "\n",
    "Selecting 2 most informative features gives visible difference in the result even within our toy example.\n",
    "\n",
    "#### Final representations\n",
    "Our goal with matrix factorization is to have two matrices: one for users and the other for items. Right now we have an array of weights (singular values) in addition to this. For the sake of convenience let's just merge those weights into the two matrices (see lecture slides):"
   ]
  },
  {
   "cell_type": "code",
   "execution_count": 4,
   "id": "orange-fields",
   "metadata": {
    "pycharm": {
     "name": "#%%\n"
    }
   },
   "outputs": [
    {
     "name": "stdout",
     "output_type": "stream",
     "text": [
      "Interaction Matrix reconstructed through U, V and s:\n",
      " [[ 0.  1.  1.  1.  0.]\n",
      " [ 1.  0.  1.  1. -0.]\n",
      " [ 0.  1.  0.  0.  1.]\n",
      " [ 1.  0.  0.  1.  1.]] \n",
      "\n",
      "Interaction Matrix reconstructed through U_final and V_final:\n",
      " [[ 0.  1.  1.  1.  0.]\n",
      " [ 1.  0.  1.  1. -0.]\n",
      " [ 0.  1.  0.  0.  1.]\n",
      " [ 1.  0.  0.  1.  1.]] \n",
      "\n",
      "Original Interaction Matrix:\n",
      " [[0 1 1 1 0]\n",
      " [1 0 1 1 0]\n",
      " [0 1 0 0 1]\n",
      " [1 0 0 1 1]]\n"
     ]
    }
   ],
   "source": [
    "U_final = U @ np.diag(s ** 0.5) # users x features\n",
    "V_final = (np.diag(s ** 0.5) @ Vh).T # items x features\n",
    "\n",
    "print('Interaction Matrix reconstructed through U, V and s:\\n',((U @ np.diag(s)) @ Vh).round(),'\\n')\n",
    "print('Interaction Matrix reconstructed through U_final and V_final:\\n',(U_final @ V_final.T).round(),'\\n')\n",
    "print('Original Interaction Matrix:\\n', inter_matr)"
   ]
  },
  {
   "cell_type": "markdown",
   "id": "alone-flesh",
   "metadata": {
    "pycharm": {
     "name": "#%% md\n"
    }
   },
   "source": [
    "Now in the two final matrices of representations U_final and V_final we essentially have user- and item-embeddings stored. All what is left is to truncate them to our liking (select $f$ first dimensions) and proceed to recommendation.\n",
    "\n",
    "Reasons to truncate:\n",
    "* Save space in memory\n",
    "* Dimensions with lower corresponding variance are likely to contain noise. Truncating the representations we concentrate on the strongest patterns\n",
    "\n",
    "#### Recommendation with Matrix Factorization\n",
    "With the two sets of embeddings U_final and V_final there is a multitude of ways to recommend items to users.\n",
    "In this exercise we take advantage of the fact that we represent both users and items in the same f-dimensional vector space. It means that we can estimate similarity directly between users and items, using, for example, cosine similarity.\n",
    "\n",
    "So to recommend items for a user with id **u** we would create a list of all items ranked according to the cosine similarity between the user vector U_final[**u**,:] and corresponding item-vectors from V_final (V_final[**i**, :], make sure to take the correct orientation of the matrix). Then as before we should remove items already seen by the user and take Top K (how ever many recommendations we need) of the resulting list."
   ]
  },
  {
   "cell_type": "markdown",
   "id": "anticipated-combat",
   "metadata": {
    "pycharm": {
     "name": "#%% md\n"
    }
   },
   "source": [
    "## <font color='red'>TASK 1/3</font>: Matrix Factorization with SVD\n",
    "Complete the templates below to create an MF-SVD recommender.\\\n",
    "The first function should return two sets of embeddings (for users and for items) of given length (Truncated SVD!).\n",
    "\n",
    "Make sure to put the data files: *sampled_1000_items_inter.txt*, *sampled_1000_items_demo.txt* and *sampled_1000_items_tracks.txt* next to the notebook."
   ]
  },
  {
   "cell_type": "code",
   "execution_count": 5,
   "id": "fitted-kazakhstan",
   "metadata": {
    "pycharm": {
     "name": "#%%\n"
    }
   },
   "outputs": [],
   "source": [
    "def svd_decompose(inter_matr: np.ndarray, f = 50) -> (np.ndarray, np.ndarray):\n",
    "    \"\"\"\n",
    "    inter_matr - np.ndarray - interaction matrix to construct svd from.\n",
    "    f - int - expected size of embeddings\n",
    "    \n",
    "    returns - U_final, V_final - (as above) user-/item-embeddings of given length f\n",
    "    \"\"\"\n",
    "    \n",
    "    U_final = None\n",
    "    V_final = None\n",
    "    \n",
    "    # TODO: YOUR IMPLEMENATION.\n",
    "    U, s, Vh = np.linalg.svd(inter_matr, full_matrices = False)\n",
    "    U_final = (U @ np.diag(s ** 0.5))[:,:f]\n",
    "    V_final = ((np.diag(s ** 0.5) @ Vh).T)[:,:f]\n",
    "    \n",
    "    return U_final, V_final"
   ]
  },
  {
   "cell_type": "code",
   "execution_count": 6,
   "id": "earlier-record",
   "metadata": {
    "pycharm": {
     "name": "#%%\n"
    }
   },
   "outputs": [],
   "source": [
    "train_data_inter = inter_matr_binary(usr_path = 'sampled_1000_items_demo.txt',\n",
    "                                     itm_path = 'sampled_1000_items_tracks.txt',\n",
    "                                     inter_path = 'sampled_1000_items_inter.txt')\n",
    "\n",
    "U, V = svd_decompose(train_data_inter, 60)\n",
    "\n",
    "assert U is not None and V is not None, \"The variables should not be None.\"\n",
    "assert U.shape == (1194, 60), \"U has incorrect shape\"\n",
    "assert V.shape == (412, 60), \"V has incorrect shape\""
   ]
  },
  {
   "cell_type": "markdown",
   "id": "transsexual-accreditation",
   "metadata": {
    "pycharm": {
     "name": "#%% md\n"
    }
   },
   "source": [
    "The function below is meant for Batch recommendation. Given a list of User ids, a list of arrays with item ids consumed by the respective users, U_final, V_final and expected number of recommendations, the function returns a list of recommendation arrays for every user. The order of users should correspond to the order in the input list, the items, as before, should be ordered from most to least recommended."
   ]
  },
  {
   "cell_type": "code",
   "execution_count": 7,
   "id": "streaming-cowboy",
   "metadata": {
    "pycharm": {
     "name": "#%%\n"
    }
   },
   "outputs": [],
   "source": [
    "def svd_recommend_to_list(user_ids: list, seen_item_ids: list, U: np.ndarray, V: np.ndarray, topK: int) -> np.ndarray:\n",
    "    \"\"\"\n",
    "    Recommend with svd to selected users\n",
    "    \n",
    "    user_ids - list[int] - ids of target users.\n",
    "    seen_item_ids - list[list[int]] ids of items already seen by the users (to exclude from recommendation)\n",
    "    U and V - user- and item-embeddings\n",
    "    topK - number of recommendations per user to be returned\n",
    "    \n",
    "    returns - np.ndarray - list of lists of ids of recommended items in the order of descending score, for every user\n",
    "                           make sure the dimensions are correct: [(number of user_ids) x (topK)]\n",
    "                           use -1 as a place holder item index, when it is impossible to recommend topK items\n",
    "    \"\"\"\n",
    "    recs = None\n",
    "    \n",
    "    # TODO: YOUR IMPLEMENTATION.\n",
    "    recs = []\n",
    "    \n",
    "    similarities = cosine_similarity(U[user_ids], V)\n",
    "    \n",
    "    for n, seen in enumerate(seen_item_ids):  # make sure seen items are at the end of sorted array\n",
    "        similarities[n, seen] = float('-inf')\n",
    "        \n",
    "    sorted_ids = np.flip(np.argsort(similarities), axis=1)\n",
    "    \n",
    "    for user, seen in zip(sorted_ids, seen_item_ids):\n",
    "        if len(user) - len(seen) < topK:  # less unseen items than topK\n",
    "            current_rec = np.array([-1] * topK)\n",
    "            current_rec[:(len(user)-len(seen))] = user[:(len(user)-len(seen))]\n",
    "            recs.append(current_rec)\n",
    "        else:\n",
    "            recs.append(user[:topK])\n",
    "        \n",
    "    return np.array(recs)"
   ]
  },
  {
   "cell_type": "markdown",
   "id": "worth-pharmacology",
   "metadata": {
    "pycharm": {
     "name": "#%% md\n"
    }
   },
   "source": [
    "## <font color='red'>TASK 2/3</font>: Iterative Matrix Factorization with PyTorch\n",
    "\n",
    "In the first task we utilized a deterministic method (SVD) to obtain user- and item-embeddings. It means that an equation needs to be solved every time we do so, and the whole process (for the whole matrix) needs to be repeated every time a new item or a new user are added to the system. Notice also that with SVD we are doing some extra work by first getting the embbeddings of length k and then truncating them to our desired length.\n",
    "\n",
    "Iterative approach to MF allows us to train embeddings of the desired length straight away, gives more flexibility in setting the training objective and updating the parameters/adding new users (e.g. through 'fine tuning').\n",
    "\n",
    "Your task is to implemet matrix factorization using PyTorch, please follow the specifciactions closely and referer to the provided introduction to PyTorch (separate notebook). Use Moodle forum if you have any questions.\n",
    "First, you need to construct a module consisting of two layers (those will be our **U_final** and **V_final** that we are after):\n",
    "\n",
    "1) An Embedding Layer from User space to Latent space  (user id -> f-dim vector)<br>\n",
    "2) An Embedding Layer from Item space to Latent space (item id -> f-dim vector)<br>\n",
    "\n",
    "Use the <b>nn.Embedding</b> Module. Implement the forward function: as with SVD we'll set the training objective to reconstruct the interaction matrix. So multiplying U and V (with transposition applied correctly) we should get an approximation of the interaction matrix. "
   ]
  },
  {
   "cell_type": "code",
   "execution_count": 8,
   "id": "binary-hostel",
   "metadata": {
    "pycharm": {
     "name": "#%%\n"
    }
   },
   "outputs": [],
   "source": [
    "class MF(nn.Module):\n",
    "    \n",
    "    def __init__(self, n_users: int, n_items: int, n_factors: int):\n",
    "        \"\"\"\n",
    "        n_users - int - number of users.\n",
    "        n_items - int - number of items.\n",
    "        n_factors - int - dimensionality of the latent space.\n",
    "        \"\"\"\n",
    "        \n",
    "        super(MF, self).__init__()\n",
    "        \n",
    "        self.embedding_user = None \n",
    "        self.embedding_item = None\n",
    "        \n",
    "        # TODO: YOUR IMPLEMENTATION.\n",
    "        \n",
    "        self.embedding_user = nn.Embedding(n_users, n_factors)\n",
    "        self.embedding_item = nn.Embedding(n_items, n_factors)\n",
    "        \n",
    "        \n",
    "    def forward(self, user: torch.Tensor, item: torch.Tensor) -> torch.Tensor:\n",
    "        \"\"\"\n",
    "        We allow for some flexibility giving lists of ids as inputs:\n",
    "        if the training data is small we can deal with it in a single forward pass,\n",
    "        otherwise we could fall back to mini-batches, limiting users and items we pass\n",
    "        every time.\n",
    "        \n",
    "        user - torch.Tensor - user_ids.\n",
    "        item - torch.Tensor - item_ids.\n",
    "        \n",
    "        returns - torch.Tensor - Reconstructed Interaction matrix of shape (n_users, n_items).\n",
    "        \"\"\"\n",
    "        res = None\n",
    "        \n",
    "        # TODO: YOUR IMPLEMENTATION.\n",
    "        \n",
    "        res = self.embedding_user(user) @ self.embedding_item(item).T\n",
    "                \n",
    "        return res"
   ]
  },
  {
   "cell_type": "markdown",
   "id": "prerequisite-wedding",
   "metadata": {
    "pycharm": {
     "name": "#%% md\n"
    }
   },
   "source": [
    "We have a model with the two embedding sets, and it is able to reconstruct the interaction matrix through them.\n",
    "\n",
    "Next we need a way to evaluate the reconstruction effort, this is what loss function helps us with.\n",
    "For our case we will use the Binary Cross Entropy Loss, please implement the compute_loss function and use nn.BCELoss to calculate the loss.\n",
    "\n",
    "<b>Tip:</b> Make sure to first project the logits to the [0, 1] interval using sigmoid activation."
   ]
  },
  {
   "cell_type": "code",
   "execution_count": 9,
   "id": "residential-hungarian",
   "metadata": {
    "pycharm": {
     "name": "#%%\n"
    }
   },
   "outputs": [],
   "source": [
    "def compute_loss(logits: torch.Tensor, labels: torch.Tensor) -> torch.Tensor:\n",
    "    \"\"\"\n",
    "    logits - torch.Tensor - output of model.\n",
    "    labels - torch.Tensor - labels / interaction matrix model should learn to reconstruct.\n",
    "    \n",
    "    returns - torch.Tensor - BCELoss over all logits and labels.\n",
    "    \"\"\"\n",
    "    loss = None\n",
    "    \n",
    "    # TODO: YOUR IMPLEMENTATION.\n",
    "    \n",
    "    act = nn.Sigmoid()\n",
    "    bce_loss = nn.BCELoss()\n",
    "    \n",
    "    logits_projected = act(logits)\n",
    "    loss = bce_loss(logits_projected, labels)\n",
    "    \n",
    "    return loss"
   ]
  },
  {
   "cell_type": "markdown",
   "id": "sunrise-mississippi",
   "metadata": {
    "pycharm": {
     "name": "#%% md\n"
    }
   },
   "source": [
    "Implement the train function and return the loss over all epochs.\n",
    "For simplicity we pass the full interaction matrix (all user and item ids) at once."
   ]
  },
  {
   "cell_type": "code",
   "execution_count": 10,
   "id": "announced-johns",
   "metadata": {
    "pycharm": {
     "name": "#%%\n"
    }
   },
   "outputs": [],
   "source": [
    "def train(model: nn.Module, train_data_inter: np.ndarray, epochs: int, optimizer, loss_func) -> list:\n",
    "    \"\"\"\n",
    "    model - nn.Module - torch module to train.\n",
    "    train_data_inter - np.ndarray - interaction matrix of the training data.\n",
    "    epochs - int - number of epochs to perform.\n",
    "    optimizer - optim - optimizer for training.\n",
    "    loss_func - loss function for training.\n",
    "    \n",
    "    returns - list - list of loss values over all epochs.\n",
    "    \"\"\"\n",
    "    losses = []\n",
    "    \n",
    "    model.train()\n",
    "    \n",
    "    # TODO: YOUR IMPLEMENTAION.\n",
    "    \n",
    "    for _ in range(epochs):\n",
    "        optimizer.zero_grad()\n",
    "        users, items = torch.arange(train_data_inter.shape[0]), torch.arange(train_data_inter.shape[1])\n",
    "        model_output = model(users, items)\n",
    "        loss = loss_func(model_output, torch.Tensor(train_data_inter))\n",
    "        losses.append(float(loss))\n",
    "        loss.backward()\n",
    "        optimizer.step()\n",
    "        \n",
    "        if _ % 100 == 0:\n",
    "            print(f'Loss {_} : {loss}')\n",
    "            \n",
    "    return losses"
   ]
  },
  {
   "cell_type": "markdown",
   "id": "specified-surname",
   "metadata": {
    "pycharm": {
     "name": "#%% md\n"
    }
   },
   "source": [
    "### Training a model with the following parameters\n",
    "\n",
    "<b>Learning rate:</b> 0.001<br>\n",
    "<b>Optimizer:</b> Adam<br>\n",
    "<b>Factor size:</b> 128<br>\n",
    "\n",
    "Of course, we encourage you to try out multiple different paremeters, just for you to get a feeling of this model, but for this exercise we fixed the parameters for you."
   ]
  },
  {
   "cell_type": "code",
   "execution_count": 11,
   "id": "spoken-morrison",
   "metadata": {
    "scrolled": true,
    "pycharm": {
     "name": "#%%\n"
    }
   },
   "outputs": [],
   "source": [
    "# Do not change the seed.\n",
    "torch.manual_seed(1234)\n",
    "rnd.seed(1234)\n",
    "np.random.seed(1234)\n",
    "\n",
    "model_128 = None\n",
    "optimizer = None\n",
    "\n",
    "# TODO: YOUR IMPLEMENATION.\n",
    "# Initialize the model and optimizer as prescribed\n",
    "\n",
    "model_128 = MF(train_data_inter.shape[0], train_data_inter.shape[1], 128)\n",
    "optimizer = optim.Adam(model_128.parameters(), lr=0.001)"
   ]
  },
  {
   "cell_type": "code",
   "execution_count": 12,
   "id": "graphic-package",
   "metadata": {
    "pycharm": {
     "name": "#%%\n"
    }
   },
   "outputs": [],
   "source": [
    "assert model_128 is not None and optimizer is not None, \"Model and optimizer should be initilized.\"\n",
    "assert type(optimizer) == optim.Adam\n",
    "\n",
    "assert model_128.embedding_user is not None and model_128.embedding_item is not None, \"Embedding Layers need to be not None.\"\n",
    "assert type(model_128.embedding_user) == nn.Embedding, \"Embedding Layer should be of type nn.Embedding.\"\n",
    "assert type(model_128.embedding_item) == nn.Embedding, \"Embedding Layer should be of type nn.Embedding.\"\n",
    "\n",
    "assert model_128.embedding_item.embedding_dim == 128, \"Item Embedding Layer wrong embedding size.\"\n",
    "assert model_128.embedding_user.embedding_dim == 128, \"User Embedding Layer wromg embedding size.\""
   ]
  },
  {
   "cell_type": "markdown",
   "id": "temporal-bookmark",
   "metadata": {
    "pycharm": {
     "name": "#%% md\n"
    }
   },
   "source": [
    "#### Training model\n",
    "\n",
    "Lets train the model for <b>1000</b> epochs and look at the returned loss."
   ]
  },
  {
   "cell_type": "code",
   "execution_count": 13,
   "id": "improving-broadcasting",
   "metadata": {
    "pycharm": {
     "name": "#%%\n"
    }
   },
   "outputs": [
    {
     "name": "stdout",
     "output_type": "stream",
     "text": [
      "Loss 0 : 9.99675464630127\n",
      "Loss 100 : 7.372903823852539\n",
      "Loss 200 : 3.7147955894470215\n",
      "Loss 300 : 1.1744279861450195\n",
      "Loss 400 : 0.4913998246192932\n",
      "Loss 500 : 0.3110344707965851\n",
      "Loss 600 : 0.23834185302257538\n",
      "Loss 700 : 0.1957044154405594\n",
      "Loss 800 : 0.1629621535539627\n",
      "Loss 900 : 0.13642723858356476\n"
     ]
    }
   ],
   "source": [
    "loss_model_128 = train(model=model_128, \n",
    "                       train_data_inter=train_data_inter, \n",
    "                       epochs=1000, \n",
    "                       optimizer=optimizer, \n",
    "                       loss_func=compute_loss)\n",
    "\n",
    "assert len(loss_model_128) == 1000, \"Loss should have 1000 elements, one for each epoch.\""
   ]
  },
  {
   "cell_type": "code",
   "execution_count": 14,
   "id": "renewable-congo",
   "metadata": {
    "pycharm": {
     "name": "#%%\n"
    }
   },
   "outputs": [
    {
     "data": {
      "image/png": "[encoded data removed]",
      "text/plain": [
       "<Figure size 432x288 with 1 Axes>"
      ]
     },
     "metadata": {
      "needs_background": "light"
     },
     "output_type": "display_data"
    }
   ],
   "source": [
    "import matplotlib.pyplot as plt\n",
    "\n",
    "plt.plot(loss_model_128, label=\"128\")\n",
    "\n",
    "plt.xlabel(\"Epoch\")\n",
    "plt.ylabel(\"BCE Loss\")\n",
    "plt.legend()\n",
    "plt.show()"
   ]
  },
  {
   "cell_type": "markdown",
   "id": "bound-going",
   "metadata": {
    "pycharm": {
     "name": "#%% md\n"
    }
   },
   "source": [
    "#### Recommendations with the trained Factorization Model\n",
    "Write a function that recommends topK items to each of the users, whose ids are given, using the trained model.\n",
    "Recommendation should be done in a fashion similar to *svd_recommend_to_list*: for each user score items based on cosine similarity of the corresponding embeddings. Do not consider items already seen by the user."
   ]
  },
  {
   "cell_type": "code",
   "execution_count": 15,
   "id": "crazy-serve",
   "metadata": {
    "pycharm": {
     "name": "#%%\n"
    }
   },
   "outputs": [],
   "source": [
    "def itMF_recommend_to_list(user_ids: list, seen_item_ids: list, model=model_128, topK=10) -> np.ndarray:\n",
    "    \"\"\"\n",
    "    Recommend with the trained model to selected users\n",
    "    \n",
    "    user_ids - list[int] - ids of target users.\n",
    "    seen_item_ids - list[list[int]] ids of items already seen by the users (to exclude from recommendation)\n",
    "    model - trainted factorization model to use for scoring\n",
    "    topK - number of recommendations per user to be returned\n",
    "    \n",
    "    returns - np.ndarray - list of lists of ids of recommended items in the order of descending score, for every user\n",
    "                           make sure the dimensions are correct: [(number of user_ids) x (topK)]\n",
    "                           use -1 as a place holder item index, when it is impossible to recommend topK items\n",
    "    \"\"\"\n",
    "    recs = None\n",
    "    \n",
    "    # TODO: YOUR IMPLEMENTATION.\n",
    "    \n",
    "    recs = []\n",
    "    \n",
    "    U = model.embedding_user(torch.tensor(user_ids)).detach()  # representation of selected users\n",
    "    V = model.embedding_item(torch.arange(model.embedding_item.num_embeddings)).detach()  # representation of all items\n",
    "    \n",
    "    similarities = cosine_similarity(U, V)\n",
    "    \n",
    "    for n, seen in enumerate(seen_item_ids):  # make sure seen items are at the end of sorted array\n",
    "        similarities[n, seen] = float('-inf')\n",
    "        \n",
    "    sorted_ids = np.flip(np.argsort(similarities), axis=1)\n",
    "    \n",
    "    for user, seen in zip(sorted_ids, seen_item_ids):\n",
    "        if len(user) - len(seen) < topK:  # less unseen items than topK\n",
    "            current_rec = np.array([-1] * topK)\n",
    "            current_rec[:(len(user)-len(seen))] = user[:(len(user)-len(seen))]\n",
    "            recs.append(current_rec)\n",
    "        else:\n",
    "            recs.append(user[:topK])\n",
    "\n",
    "    return np.array(recs)"
   ]
  },
  {
   "cell_type": "markdown",
   "id": "written-saturn",
   "metadata": {
    "pycharm": {
     "name": "#%% md\n"
    }
   },
   "source": [
    "## <font color='red'>TASK 3/3</font>: Data Split\n",
    "In order to minimize influence of random chance during evaluation it is good to conduct it on multiple different Data Splits.\n",
    "In this task you are required to write a function that randomly splits all the interactions into TEST and TRAIN files in given proportion (0.2 by default, meaning 20% of interactions should become the TEST set).\n",
    "\n",
    "It should receive a name of a file, containing interaction data in LFM2B format (as in the previous exercise) as input.The function is expected to randomly split the records from the file, approximately in given proportion into Train and Test sets (proportion of 0.2 means that the number of Test records to the number of Train records should be 20:80).The function needs to save the result into two separate files in LFM2B format, one for Test interactions, one for Train interactions."
   ]
  },
  {
   "cell_type": "code",
   "execution_count": 16,
   "id": "incorporate-robert",
   "metadata": {
    "pycharm": {
     "name": "#%%\n"
    }
   },
   "outputs": [],
   "source": [
    "def split_interactions(inter_file = 'sampled_1000_items_inter.txt',\n",
    "                       proportion = 0.2,\n",
    "                       res_test_file = 'sampled_1000_items_inter_TEST.txt',\n",
    "                       res_train_file = 'sampled_1000_items_inter_TRAIN.txt'):\n",
    "    \n",
    "    '''\n",
    "    inter_file - string - path to the file with interaction data in LFM2B format;\n",
    "    proportion - float - proportion of records from inter_file to become the Test Set;\n",
    "    res_test_file - string - Test records will be saved here;\n",
    "    res_train_file - string - Train records will be saved here;\n",
    "    \n",
    "    returns - nothing, but saves the two files in LF2B format;\n",
    "    '''\n",
    "    \n",
    "    interactions = pd.read_csv(inter_file, sep='\\t', header=None, names=['user','item','num_inters'])\n",
    "    \n",
    "    train = None\n",
    "    test = None\n",
    "    \n",
    "    # TODO: YOUR IMPLEMENTATION.\n",
    "    \n",
    "    shuffle_df = interactions.sample(frac=1)  # shuffle DataFrame\n",
    "    train_size = int((1-proportion) * len(interactions))  \n",
    "    \n",
    "    train = shuffle_df[:train_size]\n",
    "    test = shuffle_df[train_size:]\n",
    "    \n",
    "    # saving the res files\n",
    "    # train and test - pd.DataFrames\n",
    "    train.to_csv(res_train_file, index=False, header=False, sep='\\t') \n",
    "    test.to_csv(res_test_file, index=False, header=False, sep='\\t')"
   ]
  },
  {
   "cell_type": "code",
   "execution_count": 17,
   "id": "quick-filling",
   "metadata": {
    "pycharm": {
     "name": "#%%\n"
    }
   },
   "outputs": [],
   "source": [
    "split_interactions(inter_file = 'sampled_1000_items_inter.txt',\n",
    "                    proportion = 0.2,\n",
    "                    res_test_file = 'sampled_1000_items_inter_TEST.txt',\n",
    "                    res_train_file = 'sampled_1000_items_inter_TRAIN.txt')"
   ]
  },
  {
   "cell_type": "code",
   "execution_count": 18,
   "id": "authorized-collapse",
   "metadata": {
    "pycharm": {
     "name": "#%%\n"
    }
   },
   "outputs": [],
   "source": [
    "# Load the train and test interactions, you just split up.\n",
    "\n",
    "train_data_inter = None\n",
    "test_data_inter = None\n",
    "\n",
    "train_data_inter = inter_matr_binary(usr_path = 'sampled_1000_items_demo.txt',\n",
    "                                     itm_path = 'sampled_1000_items_tracks.txt',\n",
    "                                     inter_path = 'sampled_1000_items_inter_TRAIN.txt')\n",
    "test_data_inter = inter_matr_binary(usr_path = 'sampled_1000_items_demo.txt',\n",
    "                                     itm_path = 'sampled_1000_items_tracks.txt',\n",
    "                                     inter_path = 'sampled_1000_items_inter_TEST.txt')"
   ]
  },
  {
   "cell_type": "code",
   "execution_count": 19,
   "id": "charitable-department",
   "metadata": {
    "pycharm": {
     "name": "#%%\n"
    }
   },
   "outputs": [],
   "source": [
    "test_len = len(test_data_inter[test_data_inter == 1])\n",
    "train_len = len(train_data_inter[train_data_inter == 1])\n",
    "prop = test_len / (train_len + test_len)\n",
    "# very rough evaluation\n",
    "assert prop < 0.3, \"Test set is too big.\"\n",
    "assert prop > 0.1, \"Test set is too small.\""
   ]
  },
  {
   "cell_type": "code",
   "execution_count": 20,
   "id": "furnished-sheet",
   "metadata": {
    "pycharm": {
     "name": "#%%\n"
    }
   },
   "outputs": [],
   "source": [
    "# The end."
   ]
  }
 ],
 "metadata": {
  "kernelspec": {
   "display_name": "deeplearning",
   "language": "python",
   "name": "deeplearning"
  },
  "language_info": {
   "codemirror_mode": {
    "name": "ipython",
    "version": 3
   },
   "file_extension": ".py",
   "mimetype": "text/x-python",
   "name": "python",
   "nbconvert_exporter": "python",
   "pygments_lexer": "ipython3",
   "version": "3.8.10"
  }
 },
 "nbformat": 4,
 "nbformat_minor": 5
}