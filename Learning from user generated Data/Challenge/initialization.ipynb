{
 "cells": [
  {
   "cell_type": "code",
   "execution_count": 1,
   "metadata": {
    "ExecuteTime": {
     "end_time": "2022-06-15T12:23:47.782888Z",
     "start_time": "2022-06-15T12:23:47.595542Z"
    },
    "pycharm": {
     "name": "#%%\n"
    }
   },
   "outputs": [],
   "source": [
    "import numpy as np\n",
    "import pandas as pd\n",
    "import os\n",
    "\n",
    "from utils import evaluate_algorithm, split_interactions"
   ]
  },
  {
   "cell_type": "code",
   "execution_count": 3,
   "metadata": {
    "ExecuteTime": {
     "end_time": "2022-06-15T11:47:46.000753Z",
     "start_time": "2022-06-15T11:47:45.997330Z"
    },
    "pycharm": {
     "name": "#%%\n"
    }
   },
   "outputs": [],
   "source": [
    "def get_data(create_new=False):\n",
    "    \n",
    "    if create_new:\n",
    "        path = 'MRS_Challenge_2022_data'\n",
    "\n",
    "        usr_path = os.path.join(path, 'MRSC_2022_demo.txt')\n",
    "        itm_path = os.path.join(path, 'MRSC_2022_tracks.txt')\n",
    "        inter_path = os.path.join(path, 'MRS_Challenge_2022_data/MRSC_2022_inter.txt')\n",
    "\n",
    "        train_inter_files = []\n",
    "        test_inter_files = []\n",
    "\n",
    "        num_splits = 2\n",
    "        p_i = 0.3\n",
    "        p_u = 0.5\n",
    "\n",
    "        user_file_path = None\n",
    "        inter_file_path = None\n",
    "\n",
    "        user_file_path = usr_path\n",
    "        inter_file_path = inter_path\n",
    "\n",
    "        for i in range(num_splits):\n",
    "\n",
    "            split_interactions(inter_file=inter_file_path,\n",
    "                               user_file_path = user_file_path,\n",
    "                               p_u = p_u,\n",
    "                               p_i = p_i,\n",
    "                               res_test_file=\"train_test_data/inter_TEST_\" + str(i) + \".txt\",\n",
    "                               res_train_file=\"train_test_data/inter_TRAIN_\" + str(i) + \".txt\")\n",
    "\n",
    "            train_inter_files.append(\"train_test_data/inter_TRAIN_\" + str(i) + \".txt\")\n",
    "            test_inter_files.append(\"train_test_data/inter_TEST_\" + str(i) + \".txt\")"
   ]
  },
  {
   "cell_type": "code",
   "execution_count": 4,
   "metadata": {
    "ExecuteTime": {
     "end_time": "2022-06-15T12:25:06.344408Z",
     "start_time": "2022-06-15T12:25:06.336532Z"
    }
   },
   "outputs": [],
   "source": [
    "train_inter_files = ['train_test_data/inter_TRAIN_0.txt', 'train_test_data/inter_TRAIN_1.txt']\n",
    "test_inter_files = ['train_test_data/inter_TEST_0.txt', 'train_test_data/inter_TEST_0.txt']\n",
    "path = 'MRS_Challenge_2022_data'\n",
    "\n",
    "config = {\n",
    "        \"algorithm\": None,\n",
    "        \"inter_train_file_paths\": train_inter_files,\n",
    "        \"inter_test_file_paths\": test_inter_files,\n",
    "        \"user_file_path\": os.path.join(path, 'MRSC_2022_demo.txt'),\n",
    "        \"item_file_path\": os.path.join(path, 'MRSC_2022_tracks.txt'),\n",
    "        \"top_k\": 15,\n",
    "        \"n\": 0,\n",
    "        \"f\": 0\n",
    "    }\n",
    "\n",
    "class POP:\n",
    "    def __init__(self, inter_matrix, df_users, top_k=15):\n",
    "        self.inter_matrix = inter_matrix\n",
    "        self.top_k = top_k\n",
    "        self.df_users = df_users\n",
    "    \n",
    "    def predict(self, user):\n",
    "        if type(user) == int:\n",
    "            item_pop = self.inter_matrix.sum(axis=0)\n",
    "            items_seen = np.nonzero(self.inter_matrix[user])\n",
    "            item_pop[items_seen] = 0\n",
    "            rec = (-item_pop).argsort()[:self.top_k]\n",
    "            \n",
    "        else:\n",
    "            for u in user:\n",
    "                rec = np.full((len(self.df_users), config['top_k']), -1)\n",
    "\n",
    "                item_pop = self.inter_matrix.sum(axis=0)\n",
    "                items_seen = np.nonzero(self.inter_matrix[u])\n",
    "                item_pop[items_seen] = 0\n",
    "                top_pop = (-item_pop).argsort()[:self.top_k]\n",
    "\n",
    "                rec[u] = top_pop\n",
    "\n",
    "        return rec"
   ]
  },
  {
   "cell_type": "code",
   "execution_count": 5,
   "metadata": {
    "ExecuteTime": {
     "end_time": "2022-06-15T12:35:49.613586Z",
     "start_time": "2022-06-15T12:25:06.987916Z"
    }
   },
   "outputs": [
    {
     "name": "stderr",
     "output_type": "stream",
     "text": [
      "/home/liondungl/.programs/miniconda3/envs/deeplearning/lib/python3.8/site-packages/numpy/core/fromnumeric.py:3419: RuntimeWarning: Mean of empty slice.\n",
      "  return _methods._mean(a, axis=axis, dtype=dtype,\n",
      "/home/liondungl/.programs/miniconda3/envs/deeplearning/lib/python3.8/site-packages/numpy/core/_methods.py:188: RuntimeWarning: invalid value encountered in double_scalars\n",
      "  ret = ret.dtype.type(ret / rcount)\n"
     ]
    },
    {
     "data": {
      "text/plain": [
       "{'m': {'ndcg': 0.0}, 'f': {'ndcg': nan}, 'all': {'ndcg': 0.0}}"
      ]
     },
     "execution_count": 5,
     "metadata": {},
     "output_type": "execute_result"
    }
   ],
   "source": [
    "evaluate_algorithm(config, POP)"
   ]
  },
  {
   "cell_type": "code",
   "execution_count": null,
   "metadata": {},
   "outputs": [],
   "source": []
  }
 ],
 "metadata": {
  "kernelspec": {
   "display_name": "deeplearning",
   "language": "python",
   "name": "deeplearning"
  },
  "language_info": {
   "codemirror_mode": {
    "name": "ipython",
    "version": 3
   },
   "file_extension": ".py",
   "mimetype": "text/x-python",
   "name": "python",
   "nbconvert_exporter": "python",
   "pygments_lexer": "ipython3",
   "version": "3.8.10"
  }
 },
 "nbformat": 4,
 "nbformat_minor": 1
}
