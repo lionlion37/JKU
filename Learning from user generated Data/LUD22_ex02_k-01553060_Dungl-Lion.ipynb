{
 "cells": [
  {
   "cell_type": "markdown",
   "metadata": {
    "pycharm": {
     "name": "#%% md\n"
    }
   },
   "source": [
    "*UE Learning from User-generated Data, CP MMS, JKU Linz 2022*\n",
    "# Exercise 2: Collaborative Filtering + Implicit Feedback\n",
    "\n",
    "In this exercise we create our first proper recommender: Item-based Collaborative Filtering on implicit feedback. Please refer to the slides and recording of the Second UE session published on Moodle if you have any problems.\n",
    "\n",
    "The assignment submission deadline is 05.04.2022 12:00.\n",
    "\n",
    "Make sure to rename the notebook according to the convention:\\\n",
    "LUD22_ex01_k<font color='red'>\\<Matr. Number\\></font>_<font color='red'>\\<Surname-Name\\></font>.ipynb\n",
    "\n",
    "for example:\n",
    "\n",
    "LUD22_ex01_k000007_Bond-James.ipynb\n",
    "\n",
    "## Implementation\n",
    "In this exercise you are reqired to write three functions each calling the previous. Every function will be graded separately. Insert your implementations into the templates provided. Please don't change the templates even I they are not pretty. Don't forget to test your implementation for correctness and efficiency (a single run of any function should not take more than 2 minutes).\n",
    "\n",
    "Please only use libraries already imported in the notebook. **Feel free to experiment with the notebook, but clean it up before submitting.**\n",
    "\n",
    "There is also a bonus task which won't earn you any points on its own. However it can help earn bonus points while solving analysis tasks on Moodle (will be published later).\n",
    "\n",
    "## Item-Based Collaborative Filtering\n",
    "The idea of Item-Based Collaborative Filtering is to estimate if a user **u** is going to like item **i** throught checking how similar this item is to the items already consumed (and rated) by the user. We calculate the estimation as a sum of ratings given by **u** to the consumed items weighted with their respective similarities to the item **i**. Please note, that from all items consumed by the user we only consider top **N** items most similiar to item **i**.\n",
    "\n",
    "In case of implicit feedback (which we deal with in this exercise), all \"ratings\" are either 0 or 1. Therefore we combine our score from the similarities themselves. In this exercise we take the average of similarities to top **N** (or less if not enough neighbors was found) most similar to **i** items. Also note that we don't have to account for biases and missing values.\n"
   ]
  },
  {
   "cell_type": "code",
   "execution_count": 1,
   "metadata": {
    "pycharm": {
     "name": "#%%\n"
    }
   },
   "outputs": [],
   "source": [
    "import pandas as pd\n",
    "import numpy as np"
   ]
  },
  {
   "cell_type": "markdown",
   "metadata": {
    "pycharm": {
     "name": "#%% md\n"
    }
   },
   "source": [
    "## Interaction Matrix\n",
    "\n",
    "In this exercise we work with the same format of interaction matrices as in the Exercise 1 (default settings) and the same data. Find a way to use the matrix in this notebook (e.g. copy your implementation of inter_matr_binary here and create the matrix anew)."
   ]
  },
  {
   "cell_type": "code",
   "execution_count": 2,
   "metadata": {
    "pycharm": {
     "name": "#%%\n"
    }
   },
   "outputs": [],
   "source": [
    "def inter_matr_binary(usr_path = 'sampled_1000_items_demo.txt',\n",
    "                      itm_path = 'sampled_1000_items_tracks.txt',\n",
    "                      inter_path = 'sampled_1000_items_inter.txt',\n",
    "                      threshold = 1)  -> np.ndarray:\n",
    "    '''\n",
    "    usr_path - string path to the file with users data;\n",
    "    itm_path - string path to the file with item data;\n",
    "    inter_path - string path to the file with interaction data;\n",
    "    threshold - int > 0, criteria of a valid interaction\n",
    "    \n",
    "    returns - 2D np.array, rows - users, columns - items;\n",
    "    '''\n",
    "    \n",
    "    # Read files\n",
    "    usr = pd.read_csv(usr_path, sep=\"\\t\", header=None).values\n",
    "    itm = pd.read_csv(itm_path, sep=\"\\t\", header=None).values\n",
    "    inter = pd.read_csv(inter_path, sep=\"\\t\", header=None).values\n",
    "    \n",
    "    # Create interaction matrix\n",
    "    res = np.zeros(shape=(len(usr), len(itm)))\n",
    "    for interaction in inter:\n",
    "        res[interaction[0], interaction[1]] = int(interaction[2] >= threshold)\n",
    "    \n",
    "    return res"
   ]
  },
  {
   "cell_type": "code",
   "execution_count": 3,
   "metadata": {
    "pycharm": {
     "name": "#%%\n"
    }
   },
   "outputs": [
    {
     "data": {
      "text/plain": [
       "array([[1., 1., 1., ..., 0., 0., 0.],\n",
       "       [0., 0., 0., ..., 0., 0., 0.],\n",
       "       [0., 0., 0., ..., 0., 0., 0.],\n",
       "       ...,\n",
       "       [0., 0., 0., ..., 0., 0., 0.],\n",
       "       [0., 0., 0., ..., 0., 0., 0.],\n",
       "       [0., 1., 0., ..., 0., 0., 0.]])"
      ]
     },
     "execution_count": 3,
     "metadata": {},
     "output_type": "execute_result"
    }
   ],
   "source": [
    "path = ''\n",
    "\n",
    "usr_path = path + 'sampled_1000_items_demo.txt'\n",
    "itm_path = path + 'sampled_1000_items_tracks.txt'\n",
    "inter_path = path + 'sampled_1000_items_inter.txt'\n",
    "\n",
    "_interaction_matrix_test = inter_matr_binary(usr_path, itm_path, inter_path)\n",
    "_interaction_matrix_test"
   ]
  },
  {
   "cell_type": "markdown",
   "metadata": {
    "pycharm": {
     "name": "#%% md\n"
    }
   },
   "source": [
    "## <font color='red'>TASK 1/3</font>: Get item similarities\n",
    "This is a helper function to be later used for user-item score estimation.\n",
    "The function should take two arguments: a binary interaction_matrix-like numpy array **inter** and a plane binary vector corresponding to an item **target_vec**. You can expect that the length of the vector corresponds to the number of users in the matrix **inter** (first parameter).\n",
    "\n",
    "*the vector can be just a slice of the interaction matrix, see asserts*\n",
    "\n",
    "Expected output: array of similarities between every item in **inter** and the vector **target_vec**. The similarities need to be placed in the order the items appear in the martrix **inter**.\n",
    "\n",
    "Example: **inter** is a 7 by 3 matrix, containing information about 3 items and 7 users (can be expressed through item vectors as [it1; it2; it3]). **target_vec** is a vector of length 7 (assuming it tells us about interactions between the item and the same 7 users). The expected output is an array of length 3:\\\n",
    "[*sim*(it1, target_vec), *sim*(it2, target_vec), *sim*(it3, target_vec)]\n",
    "\n",
    "**Similarity:** use jaccard score as the similarity measure. Please implement it yourself, don't use any external libraries;\\\n",
    "If $a$ and $b$ are two items, let's define $U(a)$ as the set of users, interacted with the item $a$ (same for $b$). $|U(a)|$ corresponds to the number of users interacted with the item $a$. Then Jaccard similarity score between the two items is defined as:\n",
    "$JaccardScore(a,b) = \\frac{|U(a) \\wedge U(b)|}{|U(a) \\vee U(b)|}$\n",
    "\n",
    "In words: Jaccard Score is the number of users interacted with both items divided by the number of users interacted with at least one of them.\n",
    "\n",
    "Use the cell below to define the similarity as a helper function, please don't change the parameters, name or output format.\n",
    "\n",
    "<b>Tip:</b> The item vectors are on the axis=1 in the matrix.<br>"
   ]
  },
  {
   "cell_type": "code",
   "execution_count": 4,
   "metadata": {
    "pycharm": {
     "name": "#%%\n"
    }
   },
   "outputs": [],
   "source": [
    "from sklearn.metrics import jaccard_score"
   ]
  },
  {
   "cell_type": "code",
   "execution_count": 5,
   "metadata": {
    "pycharm": {
     "name": "#%%\n"
    }
   },
   "outputs": [],
   "source": [
    "def my_jaccard_score(a: np.array, b: np.array) -> float:\n",
    "    \"\"\"\n",
    "    a, b: - vectors of the same length corresponding to the two items\n",
    "\n",
    "    returns: float - jaccard similarity score for a and b\n",
    "    \"\"\"\n",
    "    \n",
    "    score = None\n",
    "    \n",
    "    # TODO: YOUR IMPLEMENTATION.\n",
    "    \n",
    "    score = np.sum(np.sum(np.logical_and(a, b)))/np.sum(np.logical_or(a, b))\n",
    "    \n",
    "    return score"
   ]
  },
  {
   "cell_type": "code",
   "execution_count": 6,
   "metadata": {
    "pycharm": {
     "name": "#%%\n"
    }
   },
   "outputs": [],
   "source": [
    "def calculate_sim_scores(inter: np.array, target_vec: np.array) -> np.array:\n",
    "    \"\"\"\n",
    "    inter: np.array - interaction matrix - calculate similarity between each item and the target item (see below)\n",
    "    target_vec: int - target item vector\n",
    "    \n",
    "    use my_jaccard_similarity function from above\n",
    "    \n",
    "    returns: np.array - similarities between every item from <inter> and <target_vec> in the respective order\n",
    "    \"\"\"\n",
    "    \n",
    "    item_similarities = None\n",
    "    \n",
    "    # TODO: YOUR IMPLEMENTATION.\n",
    "    \n",
    "    item_similarities = [my_jaccard_score(item, target_vec) for item in inter.T]\n",
    "    \n",
    "    return np.array(item_similarities)"
   ]
  },
  {
   "cell_type": "markdown",
   "metadata": {
    "pycharm": {
     "name": "#%% md\n"
    }
   },
   "source": [
    "Now please call the function for the <b>whole</b> _interaction_matrix_test and the vector of the item with the <b>id 0</b>."
   ]
  },
  {
   "cell_type": "code",
   "execution_count": 7,
   "metadata": {
    "pycharm": {
     "name": "#%%\n"
    },
    "scrolled": false
   },
   "outputs": [
    {
     "name": "stdout",
     "output_type": "stream",
     "text": [
      "[1.         0.02083333 0.01030928 0.03529412 0.01449275 0.05555556\n",
      " 0.04347826 0.         0.         0.         0.         0.\n",
      " 0.         0.         0.         0.         0.04545455 0.\n",
      " 0.         0.04545455 0.11764706 0.05882353 0.05882353 0.02150538\n",
      " 0.         0.         0.         0.         0.         0.\n",
      " 0.         0.         0.         0.         0.         0.\n",
      " 0.         0.         0.         0.         0.         0.\n",
      " 0.         0.01898734 0.         0.         0.04545455 0.\n",
      " 0.         0.         0.         0.01265823 0.         0.\n",
      " 0.         0.         0.0625     0.         0.         0.05\n",
      " 0.05555556 0.05555556 0.08695652 0.05769231 0.0625     0.\n",
      " 0.         0.         0.         0.         0.         0.\n",
      " 0.         0.         0.07142857 0.         0.         0.\n",
      " 0.0625     0.01315789 0.0625     0.         0.         0.\n",
      " 0.         0.         0.         0.         0.         0.\n",
      " 0.04       0.         0.         0.         0.         0.03174603\n",
      " 0.         0.         0.01234568 0.         0.02040816 0.\n",
      " 0.         0.04545455 0.         0.00694444 0.02380952 0.\n",
      " 0.         0.         0.         0.         0.         0.\n",
      " 0.02816901 0.         0.         0.02040816 0.02631579 0.\n",
      " 0.         0.         0.         0.03703704 0.         0.\n",
      " 0.         0.         0.         0.         0.         0.01960784\n",
      " 0.         0.         0.03030303 0.01886792 0.         0.\n",
      " 0.         0.         0.         0.01612903 0.         0.\n",
      " 0.         0.         0.         0.         0.         0.\n",
      " 0.         0.00740741 0.         0.         0.         0.\n",
      " 0.02325581 0.04166667 0.04761905 0.         0.         0.\n",
      " 0.         0.         0.         0.         0.         0.01030928\n",
      " 0.         0.         0.         0.         0.         0.\n",
      " 0.03225806 0.         0.         0.         0.02380952 0.\n",
      " 0.         0.         0.         0.         0.         0.\n",
      " 0.         0.         0.01204819 0.         0.         0.\n",
      " 0.         0.         0.         0.0212766  0.         0.\n",
      " 0.         0.         0.         0.         0.         0.\n",
      " 0.         0.         0.         0.         0.         0.02702703\n",
      " 0.         0.         0.         0.         0.         0.\n",
      " 0.         0.         0.         0.         0.         0.\n",
      " 0.         0.         0.         0.         0.         0.\n",
      " 0.         0.         0.         0.01639344 0.02857143 0.\n",
      " 0.         0.         0.         0.         0.         0.\n",
      " 0.         0.         0.         0.         0.         0.\n",
      " 0.         0.         0.025      0.         0.         0.\n",
      " 0.         0.         0.         0.         0.         0.\n",
      " 0.         0.         0.         0.         0.         0.\n",
      " 0.         0.         0.         0.         0.         0.\n",
      " 0.         0.         0.         0.         0.         0.\n",
      " 0.         0.         0.         0.         0.         0.\n",
      " 0.         0.         0.         0.         0.04761905 0.\n",
      " 0.04166667 0.         0.         0.         0.         0.\n",
      " 0.         0.         0.         0.         0.         0.\n",
      " 0.         0.         0.         0.         0.         0.\n",
      " 0.         0.         0.         0.         0.         0.\n",
      " 0.05882353 0.         0.         0.04347826 0.         0.\n",
      " 0.         0.         0.         0.         0.         0.\n",
      " 0.03571429 0.         0.         0.         0.         0.\n",
      " 0.         0.         0.         0.         0.         0.\n",
      " 0.         0.         0.         0.         0.         0.\n",
      " 0.         0.         0.         0.         0.         0.\n",
      " 0.         0.         0.         0.         0.         0.\n",
      " 0.         0.         0.         0.         0.         0.\n",
      " 0.         0.         0.         0.         0.         0.\n",
      " 0.         0.         0.         0.         0.         0.\n",
      " 0.         0.         0.         0.         0.         0.\n",
      " 0.         0.04347826 0.         0.         0.         0.\n",
      " 0.         0.         0.         0.         0.         0.\n",
      " 0.         0.         0.         0.         0.         0.05882353\n",
      " 0.         0.         0.         0.         0.         0.\n",
      " 0.         0.         0.         0.         0.         0.\n",
      " 0.         0.         0.         0.        ]\n"
     ]
    }
   ],
   "source": [
    "item_sims = None\n",
    "\n",
    "# TODO: YOUR IMPLEMENTATION\n",
    "\n",
    "item_sims = calculate_sim_scores(_interaction_matrix_test, _interaction_matrix_test[:, 0]) \n",
    "\n",
    "print(item_sims)"
   ]
  },
  {
   "cell_type": "code",
   "execution_count": 8,
   "metadata": {
    "pycharm": {
     "name": "#%%\n"
    }
   },
   "outputs": [],
   "source": [
    "assert item_sims is not None, \"item_sims should not be None.\"\n",
    "assert type(item_sims) == np.ndarray, \"types are not correct.\"\n",
    "assert len(item_sims) == 412, \"length is not correct.\"\n",
    "assert item_sims[0] == 1, \"Item at the index 0 should have sim of 1\""
   ]
  },
  {
   "cell_type": "markdown",
   "metadata": {
    "pycharm": {
     "name": "#%% md\n"
    }
   },
   "source": [
    "## <font color='red'>TASK 2/3</font>: Estimate user-item score\n",
    "\n",
    "Write a function that takes a full interaction matrix as an input, as well as user id, item id and *n* -- algorithm's hyperparameter, number of neighbors to be considered while calculating the score.\n",
    "\n",
    "The expected output is a single number between 0 and 1 - the predicted score.\n",
    "\n",
    "Refer to the slides and the recording. Follow the algorithm:\n",
    "* take items consumed by the user\n",
    "* calculate the similarities between them and the target item (exclude the target user from consideration when calculating the similarities!)\n",
    "* return average of top **n** highest similarity scores\n",
    "\n",
    "<b>Tip:</b> Copy the interaction matrix before using it.<br>"
   ]
  },
  {
   "cell_type": "code",
   "execution_count": 9,
   "metadata": {
    "pycharm": {
     "name": "#%%\n"
    }
   },
   "outputs": [],
   "source": [
    "def get_user_item_score(inter: np.array, \n",
    "                            target_user: int, \n",
    "                            target_item: int, \n",
    "                            n: int = 2) -> float:\n",
    "    \"\"\"\n",
    "    inter: np.array - interaction matrix.\n",
    "    target_user: target user id\n",
    "    target_item: int - target item id\n",
    "    n: int - n closest neighbors to consider for the score prediction\n",
    "    \n",
    "    returns: float - mean of similarity scores\n",
    "    \"\"\"\n",
    "    \n",
    "    item_similarities_mean = None\n",
    "    \n",
    "    # TODO: YOUR IMPLEMENTATION.\n",
    "    \n",
    "    consumed_items = inter.T[np.where(inter.T[:, target_user] == 1)].T\n",
    "    # remove target_user element\n",
    "    consumed_items = np.delete(consumed_items, target_user, axis=0)\n",
    "    inter_wo_user = np.delete(inter, target_user, axis=0)\n",
    "    \n",
    "    sim_scores = calculate_sim_scores(consumed_items, inter_wo_user[:, target_item])\n",
    "    # divide by len(sim_scores) if there are less consumed elements then n \n",
    "    item_similarities_mean = np.sum(np.sort(sim_scores)[-n:] / min(len(sim_scores), n))\n",
    "        \n",
    "    return item_similarities_mean\n",
    "    "
   ]
  },
  {
   "cell_type": "markdown",
   "metadata": {
    "pycharm": {
     "name": "#%% md\n"
    }
   },
   "source": [
    "Now, call your function for <b>user 0</b> and <b>item 0</b> and <b> n = 10</b>"
   ]
  },
  {
   "cell_type": "code",
   "execution_count": 10,
   "metadata": {
    "pycharm": {
     "name": "#%%\n"
    }
   },
   "outputs": [
    {
     "name": "stdout",
     "output_type": "stream",
     "text": [
      "0.14776226279985677\n"
     ]
    }
   ],
   "source": [
    "item_sim = None\n",
    "\n",
    "# TODO: YOUR IMPLEMENTATION.\n",
    "\n",
    "item_sim = get_user_item_score(_interaction_matrix_test, 0, 0, n = 10) \n",
    "\n",
    "print(item_sim)"
   ]
  },
  {
   "cell_type": "code",
   "execution_count": 11,
   "metadata": {
    "pycharm": {
     "name": "#%%\n"
    }
   },
   "outputs": [],
   "source": [
    "assert item_sim is not None, \"item sim should have a value.\"\n",
    "assert item_sim <= 1 and item_sim >= 0, \"value of item sim is not valid.\""
   ]
  },
  {
   "cell_type": "markdown",
   "metadata": {
    "pycharm": {
     "name": "#%% md\n"
    }
   },
   "source": [
    "## <font color='red'>TASK 3/3</font>: Recommender\n",
    "\n",
    "Implement the recommender function for the scoring algorithm you implemented above.\n",
    "The function takes a full interaction matrix, user id, top_k, hyperparameter **n** as an input. It returns two arrays: top_k recommendations for the given user with the algorithm using given number of **n** neighbors for score prediction and the corresponding scores.\n",
    "\n",
    "Make sure you recommend items the user hasn't seen before! Try to optimizing your implementation so that the runs take seconds rather than minutes.\n",
    "\n",
    "Please don't change the \"interface\" of the function."
   ]
  },
  {
   "cell_type": "code",
   "execution_count": 1,
   "metadata": {
    "ExecuteTime": {
     "end_time": "2022-06-21T17:11:43.891453Z",
     "start_time": "2022-06-21T17:11:43.571100Z"
    }
   },
   "outputs": [],
   "source": [
    "from sklearn.metrics import pairwise_distances"
   ]
  },
  {
   "cell_type": "code",
   "execution_count": 12,
   "metadata": {
    "pycharm": {
     "name": "#%%\n"
    }
   },
   "outputs": [],
   "source": [
    "def recTopK(inter_matr: np.array,\n",
    "            user: int,\n",
    "            top_k: int,\n",
    "            n: int) -> (np.array, np.array):\n",
    "    '''\n",
    "    inter_matr - np.array from the task 1\n",
    "    user - user_id, integer\n",
    "    top_k - expected length of the resulting list\n",
    "    n - number of neighbors to consider\n",
    "    \n",
    "    returns - array of recommendations (sorted in the order of descending scores) & array of corresponding scores\n",
    "    '''\n",
    "    \n",
    "    top_rec = None\n",
    "    scores = None\n",
    "    \n",
    "    # TODO: YOUR IMPLEMENTATION.\n",
    "    \n",
    "    all_scores = list()\n",
    "    \n",
    "    for item_id in range(len(inter_matr.T)):\n",
    "        if inter_matr.T[item_id, user] == 1:  # skip consumed items\n",
    "            continue\n",
    "        all_scores.append([item_id, get_user_item_score(inter_matr, user, item_id, n)])\n",
    "    \n",
    "    # sort\n",
    "    all_scores.sort(key=lambda x: x[1])\n",
    "    all_scores.reverse()\n",
    "    # take top_k\n",
    "    all_scores = np.array(all_scores[:top_k])\n",
    "    # split in recommended items and scores\n",
    "    top_rec = all_scores[:, 0].astype(int)\n",
    "    scores = all_scores[:, 1]\n",
    "    \n",
    "    return np.array(top_rec), np.array(scores)"
   ]
  },
  {
   "cell_type": "markdown",
   "metadata": {
    "pycharm": {
     "name": "#%% md\n"
    }
   },
   "source": [
    "Now, lets use these scoring functions and get the <b>top 10</b> recommendations for <b>user 0</b> with <b>n = 15</b>."
   ]
  },
  {
   "cell_type": "code",
   "execution_count": 13,
   "metadata": {
    "pycharm": {
     "name": "#%%\n"
    }
   },
   "outputs": [],
   "source": [
    "rec_item_cf = None\n",
    "scores_item_cf = None\n",
    "\n",
    "# TODO: YOUR IMPLEMENTATION\n",
    "\n",
    "rec_item_cf, scores_item_cf = recTopK(_interaction_matrix_test, 0, top_k = 10, n=15)"
   ]
  },
  {
   "cell_type": "code",
   "execution_count": 14,
   "metadata": {
    "pycharm": {
     "name": "#%%\n"
    }
   },
   "outputs": [
    {
     "name": "stdout",
     "output_type": "stream",
     "text": [
      "Recommendations with Item CF:  [117  51  56  12  43 129  30 167  98   8]\n",
      "With Scores:  [0.05742293 0.05148129 0.05079365 0.0505204  0.04872741 0.04715545\n",
      " 0.04533492 0.04288674 0.04026317 0.03986823]\n",
      "---------------------------------------------------------------------------\n"
     ]
    }
   ],
   "source": [
    "print(\"Recommendations with Item CF: \", rec_item_cf)\n",
    "print(\"With Scores: \", scores_item_cf)\n",
    "print(\"-\" * 75)"
   ]
  },
  {
   "cell_type": "code",
   "execution_count": 15,
   "metadata": {
    "pycharm": {
     "name": "#%%\n"
    }
   },
   "outputs": [],
   "source": [
    "assert rec_item_cf is not None, \"Recommendations should not be None.\"\n",
    "assert type(rec_item_cf) == np.ndarray, \"Types should be np.ndarray.\"\n",
    "assert len(rec_item_cf) == 10, \"10 recommendations should be returned.\""
   ]
  },
  {
   "cell_type": "code",
   "execution_count": 16,
   "metadata": {
    "pycharm": {
     "name": "#%%\n"
    }
   },
   "outputs": [],
   "source": [
    "assert scores_item_cf is not None, \"Scores should not be None.\"\n",
    "assert type(scores_item_cf) == np.ndarray, \"Types should be np.ndarray.\"\n",
    "assert len(scores_item_cf) == 10, \"10 recommendations should be returned.\""
   ]
  },
  {
   "cell_type": "markdown",
   "metadata": {
    "pycharm": {
     "name": "#%% md\n"
    }
   },
   "source": [
    "# [BONUS] Get Track Info\n",
    "This task won't be graded, you don't have to submit any functions. Make sure to have specified implementations at hand if you plan to try earn bonus points in some analysis tasks later during the course."
   ]
  },
  {
   "cell_type": "code",
   "execution_count": 17,
   "metadata": {
    "pycharm": {
     "name": "#%%\n"
    }
   },
   "outputs": [],
   "source": [
    "# Write a function which receives a list \n",
    "# of item IDs and path to the file with Track information \n",
    "# and returns a list of strings (Artist-Track)\n",
    "\n",
    "def get_artist_track(item_ids, track_file):\n",
    "    itm = pd.read_csv(track_file, sep=\"\\t\", header=None).values\n",
    "    return [str(itm[item_id][0])+' - '+str(itm[item_id][1]) for item_id in item_ids]"
   ]
  },
  {
   "cell_type": "code",
   "execution_count": 18,
   "metadata": {
    "pycharm": {
     "name": "#%%\n"
    }
   },
   "outputs": [],
   "source": [
    "# Leave this cell the way it is, please."
   ]
  }
 ],
 "metadata": {
  "kernelspec": {
   "display_name": "deeplearning",
   "language": "python",
   "name": "deeplearning"
  },
  "language_info": {
   "codemirror_mode": {
    "name": "ipython",
    "version": 3
   },
   "file_extension": ".py",
   "mimetype": "text/x-python",
   "name": "python",
   "nbconvert_exporter": "python",
   "pygments_lexer": "ipython3",
   "version": "3.8.10"
  }
 },
 "nbformat": 4,
 "nbformat_minor": 4
}
