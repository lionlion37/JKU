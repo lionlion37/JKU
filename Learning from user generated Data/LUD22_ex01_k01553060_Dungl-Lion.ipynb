{
 "cells": [
  {
   "cell_type": "markdown",
   "metadata": {},
   "source": [
    "\n",
    "*UE Learning from User-generated Data, CP MMS, JKU Linz 2022*\n",
    "# Exercise 1: Basics of Recommender Systems\n",
    "In this exercise we familiarize ourselves with recommender systems, a kind of data they use and implement a simple base-line recommendation algorithm.\n",
    "\n",
    "The assignment submission deadline is 22.03.2022 12:00.\n",
    "Please, don't forget to rename your Jupyter Notebook according to the convention:<br>\n",
    "\n",
    "LUD22_ex01_k<font color='red'>\\<Matr. Number\\></font>_<font color='red'>\\<Surname-Name\\></font>.ipynb\n",
    "\n",
    "for example:\n",
    "\n",
    "LUD22_ex01_k000007_Bond-James.ipynb\n",
    "\n",
    "## Introduction\n",
    "* What are recommender systems?\n",
    "* Where do we encounter them?\n",
    "* What part does User-Generated Data play in RecSys?\n",
    "\n",
    "## Recommendation Scenario\n",
    "Imagine a platform where users consume items: buy goods (Amazon), listen to music tracks (Deezer, Spotify), watch movies (Netflix) or videos (YouTube).\n",
    "\n",
    "At some point a user may face a choice: \"what item should I have a look at next?\" Can be that they don't know what exactly they need and cannot formulate a query. Of course with catalogs of millions of items they have little chance finding something useful by browsing through all of them.\n",
    "\n",
    "In such situation Recommender Systems are expected to make the decision easier for the user by shrinking the scope to a handful of individually selected options, for example top 10 recommended songs.\n",
    "\n",
    "Information the recommendation can be based on:\n",
    "* Items already consumed by the user\n",
    "* Items consumed by other users\n",
    "* User relations\n",
    "* Item meta-data & content\n",
    "* ...\n",
    "\n",
    "User-Item interactions is one of the most widely used signals in recommendation. Initially it can be available in a form of system logs (see table below). There is a multitude of ways a user can interact with an item: consume (buy, watch, listen), note (like, save to favorites), share and other. In this exercise we only deal with item consumption.\n",
    "\n",
    "#### Example: Raw User-Item Interactions Data\n",
    "| Meaningless but Unique<br>Event Id | User Id | Item Id | Event Type | Date |\n",
    "| ---         |---  |--- |---   |   ---    |\n",
    "| 002Ax4gf... | 12  | 2  | 6000 | 13.04.08 |\n",
    "| 9f2D4jKx... | 908 | 2  | 6000 | 01.02.09 |\n",
    "| 3g6lP89qs.. | 12  | 13 | 4800 | 11.10.10 |\n",
    "| ...         | ... |... | ...  | ...      |\n",
    "\n",
    "## LFM-2b Sample\n",
    "Throughout the whole exercise track we will be mostly working on music recommendation task. Note that all methods we consider are applicble to other domains!\n",
    "\n",
    "[LFM-2b](http://www.cp.jku.at/datasets/LFM-2b/) is a large dataset of over two billion listening events, spanning across ~15 years, crawled from LastFM platform. It is supported with user demographics information and music track meta-data. In this exercise we take a look at a small sample of the aggregated dataset. It consists of three files:\n",
    "\n",
    "* 'sampled_1000_items_inter.txt' - data about user-track interactions;\n",
    "* 'sampled_1000_items_tracks.txt' - track-related information;\n",
    "* 'sampled_1000_items_demo.txt' - user-related information;\n",
    "\n",
    "'sampled_1000_items_inter.txt'<br>\n",
    "Contains cumulative number of listening events per pair User-Track over the whole period.\n",
    "    \n",
    "| User Id | Track Id | Number of Interactions | \n",
    "| ---    |   ---  |   ---  |\n",
    "| 0 | 0 | 3  |\n",
    "| 0 | 6 | 5 |\n",
    "| 2 | 17 | 8 |\n",
    "| ... | ... | ... |\n",
    "\n",
    "'sampled_1000_items_tracks.txt'<br>\n",
    "Track-related information (line index, starting from zero, is the **Track ID**):\n",
    "\n",
    "| Artist | Track Name |\n",
    "| ---    |   ---  |\n",
    "| Helstar | Harsh Reality |\n",
    "| Carpathian Forest | Dypfryst / Dette Er Mitt Helvete |\n",
    "| Cantique Lépreux | Tourments Des Limbes Glacials |\n",
    "| ... | ... |\n",
    "\n",
    "'sampled_1000_items_demo.txt'<br>\n",
    "User-related information (line index, starting from zero, is the **User ID**):\n",
    "\n",
    "| Location | Age | Gender | Reg. Date |\n",
    "|   ---  |   ---  |   ---  |   ---  |\n",
    "| BR | 25  | m | 2007-10-12 18:42:00 |\n",
    "| UK | 27 | m | 2006-11-17 16:51:56 |\n",
    "| US | 32 | m | 2010-02-02 22:30:15 |\n",
    "| ... | ... | ... | ... |\n",
    "\n",
    "All files are in .tsv (tab '**\\t**' separated values) format.\n",
    "\n",
    "## <font color='red'>TASKS</font>:\n",
    "\n",
    "Implement functions specified below. Please, don't change the signatures (names, parameters) and follow the specifications closely. Your implementation should not require any additional imports, apart from those already in the notebook.\n",
    "\n",
    "For testing purposes make sure the three data files mentioned above are placed in the same folder as the .ipynb"
   ]
  },
  {
   "cell_type": "code",
   "execution_count": 1,
   "metadata": {},
   "outputs": [],
   "source": [
    "import pandas as pd\n",
    "import numpy as np"
   ]
  },
  {
   "cell_type": "markdown",
   "metadata": {},
   "source": [
    "## TASK 1: Interaction Matrix (4 points)\n",
    "Interaction matrix is a common data structure used in some (not all) recommender algorithms. It is a matrix with dimensions: [number of users] times [number of items] known to the system. Every element in the matrix shows whether the given User ever interacted with the given Item. It can be done in a binary manner, as a probability or as a rating given by the User to the Item.\n",
    "\n",
    "**Write a function** that receives three file names as input and returns a 2-dimensional numpy array with the corresponding interaction matrix, where **0** means the user didn't interact with the track on purpose or didn't like it (played the track \\< [threshold] times), **1** means the user listened to the track more than or equal to [threshold] times.\n",
    "\n",
    "The first dimension of the matrix should correspond to users, second - to items.\n",
    "\n",
    "**Important note:** we introduce the threshold as a way to filter out accidental playbacks. Even if a user played the track only once the listening event is still reflected in the LFM-2b dataset. Usuall threshold value is about 2.\n",
    "\n",
    "Insert your solution into the signature below. Please, don't change the name or the argument set, even if they are not pretty."
   ]
  },
  {
   "cell_type": "code",
   "execution_count": 2,
   "metadata": {},
   "outputs": [],
   "source": [
    "def inter_matr_binary(usr_path = 'sampled_1000_items_demo.txt',\n",
    "                      itm_path = 'sampled_1000_items_tracks.txt',\n",
    "                      inter_path = 'sampled_1000_items_inter.txt',\n",
    "                      threshold = 1)  -> np.ndarray:\n",
    "    '''\n",
    "    usr_path - string path to the file with users data;\n",
    "    itm_path - string path to the file with item data;\n",
    "    inter_path - string path to the file with interaction data;\n",
    "    threshold - int > 0, criteria of a valid interaction\n",
    "    \n",
    "    returns - 2D np.array, rows - users, columns - items;\n",
    "    '''\n",
    "    \n",
    "    # Read files\n",
    "    usr = pd.read_csv(usr_path, sep=\"\\t\", header=None).values\n",
    "    itm = pd.read_csv(itm_path, sep=\"\\t\", header=None).values\n",
    "    inter = pd.read_csv(inter_path, sep=\"\\t\", header=None).values\n",
    "    \n",
    "    # Create interaction matrix\n",
    "    res = np.zeros(shape=(len(usr), len(itm)))\n",
    "    for interaction in inter:\n",
    "        res[interaction[0], interaction[1]] = int(interaction[2] >= threshold)\n",
    "    \n",
    "    return res"
   ]
  },
  {
   "cell_type": "markdown",
   "metadata": {},
   "source": [
    "### Check your solution:\n",
    "Run your function on the data discussed above and make sure that the result is correct"
   ]
  },
  {
   "cell_type": "code",
   "execution_count": 3,
   "metadata": {},
   "outputs": [],
   "source": [
    "# TODO: YOUR IMPLEMENTATION\n",
    "_interaction_matrix_test = inter_matr_binary()"
   ]
  },
  {
   "cell_type": "code",
   "execution_count": 4,
   "metadata": {},
   "outputs": [],
   "source": [
    "assert _interaction_matrix_test is not None, \"Interaction Matrix should not be None!\"\n",
    "assert type(_interaction_matrix_test) == np.ndarray, \"Interaction Matrix should be a numpy array!\"\n",
    "assert _interaction_matrix_test.shape == (1194, 412), \"Shape of Interaction Matrix is wrong!\"\n",
    "assert np.array_equal(np.unique(_interaction_matrix_test), [0, 1]), \"Interaction Matrix should only contain 0 and 1!\""
   ]
  },
  {
   "cell_type": "markdown",
   "metadata": {},
   "source": [
    "## TASK 2/2: POP Recommender (4 points)\n",
    "One of the most straightforward approaches to recommendation -- recommending the most popular items to every user. We call such recommender POP. It is a useful baseline for creating more sophisticated systems and can be a default recommender, when there is no data available to build the recommendation upon (for example if the user has just joined the platform and haven't interacted with anything yet). Throught the whole exercise track we only recommend items not seen by the user before (repeated consumption is out of our scope).\n",
    "\n",
    "**Write a function** that recommends [K] most popular items to a given user, **making sure that the user hasn't seen any of the recommended items before.**\n",
    "\n",
    "The function should take three arguments: np.array of arbitrary dimensions (supporting any number of users and items) in the format from task 1 (interaction matrix), user ID (int) and K (int > 0).\n",
    "Expected return: a list or a 1D array [K] IDs of most popular items (sorted in the order of descending popularity) not seen by the user.\n",
    "\n",
    "Insert your solution into the signature below. Please, don't change the name or the argument set, even if they are not beautiful."
   ]
  },
  {
   "cell_type": "code",
   "execution_count": 5,
   "metadata": {},
   "outputs": [],
   "source": [
    "def recTopKPop(inter_matr: np.array,\n",
    "               user: int,\n",
    "               top_k: int) -> np.array:\n",
    "    '''\n",
    "    inter_matr - np.array from the task 1;\n",
    "    user - user_id, integer;\n",
    "    top_k - expected length of the resulting list;\n",
    "    \n",
    "    returns - list/array of top K popular items that the user has never seen\n",
    "              (sorted in the order of descending popularity);\n",
    "    '''\n",
    "    \n",
    "    # Calculate popularity of items\n",
    "    item_pop = np.zeros(shape=(inter_matr.shape[1],))\n",
    "    for item_id in range(len(item_pop)):\n",
    "        \n",
    "        # if user has already listened to specific track, leave its popularity at 0\n",
    "        if inter_matr[user, item_id] != 0:\n",
    "            continue\n",
    "        \n",
    "        item_pop[item_id] = inter_matr[:, item_id].sum()\n",
    "    \n",
    "    # Return indices of top 10 songs\n",
    "    top_pop = np.argsort(item_pop)[:-top_k-1:-1]\n",
    "                                     \n",
    "    return top_pop"
   ]
  },
  {
   "cell_type": "markdown",
   "metadata": {},
   "source": [
    "### Check your solution:\n",
    "Run your function on the interaction matrix prepared before, make sure the input/output is correctly formatted.<br>\n",
    "Get the <b>top 10</b> recommendations for <b>user 0</b>.\n",
    "What are the tracks recommended to them? Would you like such recommendation? Will <b>user 0</b> like it?"
   ]
  },
  {
   "cell_type": "code",
   "execution_count": 6,
   "metadata": {},
   "outputs": [],
   "source": [
    "# TODO: YOUR IMPLEMENTATION\n",
    "top_10 = recTopKPop(inter_matr_binary(), 0, 10)"
   ]
  },
  {
   "cell_type": "code",
   "execution_count": 7,
   "metadata": {},
   "outputs": [],
   "source": [
    "assert type(top_10) == np.ndarray, \"Output should be an array.\"\n",
    "assert len(top_10) == 10, \"Length is not right.\"\n",
    "assert np.array_equal(top_10, np.array([42, 43, 51, 96, 105, 151, 12, 104, 68, 150])), \"Wrong recommendations.\""
   ]
  },
  {
   "cell_type": "markdown",
   "metadata": {},
   "source": [
    "### Final check\n",
    "* Your functions are going to be tested in isolation, make sure you don't use global variables;\n",
    "* Remove all the code you don't need, provide comments for the rest;\n",
    "* Check the execution time of your functions, if any of them takes more than one minute to execute on the given data, try optimizing it. Extremely inefficient solutions will get score penalties;\n",
    "* Don't forget to rename the notebook before submission;\n"
   ]
  },
  {
   "cell_type": "code",
   "execution_count": 8,
   "metadata": {},
   "outputs": [],
   "source": [
    "# Leave this cell the way it is, please."
   ]
  }
 ],
 "metadata": {
  "kernelspec": {
   "display_name": "deeplearning",
   "language": "python",
   "name": "deeplearning"
  },
  "language_info": {
   "codemirror_mode": {
    "name": "ipython",
    "version": 3
   },
   "file_extension": ".py",
   "mimetype": "text/x-python",
   "name": "python",
   "nbconvert_exporter": "python",
   "pygments_lexer": "ipython3",
   "version": "3.8.10"
  }
 },
 "nbformat": 4,
 "nbformat_minor": 4
}
