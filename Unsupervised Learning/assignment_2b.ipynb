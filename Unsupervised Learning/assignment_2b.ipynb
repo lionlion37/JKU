{
 "cells": [
  {
   "cell_type": "markdown",
   "metadata": {},
   "source": [
    "<h1 style=\"color:rgb(0,120,170)\">Machine Learning: Unsupervised Techniques</h1>\n",
    "<h1 style=\"color:rgb(0,120,170)\">Assignment 2b: PCA</h1>"
   ]
  },
  {
   "cell_type": "markdown",
   "metadata": {},
   "source": [
    "This material, no matter whether in printed or electronic form, may be used for personal and non-commercial educational use only. Any reproduction of this material, no matter whether as a whole or in parts, no matter whether in printed or in electronic form, requires explicit prior acceptance of the authors."
   ]
  },
  {
   "cell_type": "markdown",
   "metadata": {},
   "source": [
    "<h2 style=\"color:rgb(0,120,170)\">Task 1: Implementation of PCA for a standard data set from scratch: </h2>\n",
    "\n",
    "The goal of this task is to implement the PCA algorithm as introduced in the slides by hand. PCA analysis is a powerful tool to identify patterns in data; it is used to find correlations between variables, to determine the directions of maximum variance and project it onto a smaller dimensional subspace that maintains most of the information. To fix the overall notation, we will denote by $n$ the number of samples, by $d$ the number of different features, and $k<d$ the dimension of the space, on which we want to project. We will work with the famous iris dataset which contains measurements for $n=150$ iris flowers from three different classes, namely:\n",
    "\n",
    "* Iris-setosa ($n_{\\textrm{se}}=50$)\n",
    "* Iris-versicolor ($n_{\\textrm{ve}}=50$)\n",
    "* Iris-virginica ($n_{\\textrm{vi}}=50$).\n",
    "\n",
    "Moreover, we have the following $d=4$ features:\n",
    "\n",
    "* sepal length in cm\n",
    "* sepal width in cm\n",
    "* petal length in cm\n",
    "* petal width in cm\n",
    "\n",
    "<img src = \"../../data/iris_with_labels.jpg\">\n",
    "\n",
    "For more information on the dataset go to https://archive.ics.uci.edu/ml/datasets/Iris.\n",
    "\n",
    "In the next step we want to read in the data set using the pandas package."
   ]
  },
  {
   "cell_type": "code",
   "execution_count": 2,
   "metadata": {},
   "outputs": [],
   "source": [
    "# Imports and reading data set. Nothing to do here.\n",
    "import pandas as pd\n",
    "import numpy as np\n",
    "import matplotlib.pyplot as plt\n",
    "import seaborn as sns\n",
    "\n",
    "df = pd.read_csv(\n",
    "    filepath_or_buffer='iris.data', \n",
    "    header=None, \n",
    "    sep=',')\n",
    "\n",
    "df.columns=['sepal_length', 'sepal_width', 'petal_length', 'petal_width', 'class']\n",
    "df.dropna(how=\"all\", inplace=True) # drops the empty line at file-end"
   ]
  },
  {
   "cell_type": "code",
   "execution_count": 3,
   "metadata": {},
   "outputs": [],
   "source": [
    "# Split data table into data X and class labels y. Nothing to do here.\n",
    "X = df.iloc[:,0:4].values\n",
    "y = df.iloc[:,4].values"
   ]
  },
  {
   "cell_type": "markdown",
   "metadata": {},
   "source": [
    "Our iris dataset is now an $n \\times d=150 \\times 4$ matrix $\\mathbf{X}$, where the columns are the different features, and every row is an individual flower sample. Each sample row $\\mathbf{x}_i$ for $1\\le i \\le n=150$ is as a $4$-dimensional vector."
   ]
  },
  {
   "cell_type": "markdown",
   "metadata": {},
   "source": [
    "<h3 style=\"color:rgb(210,90,80)\">Exercise 1 (10 points):</h3>\n",
    "\n",
    "* To get a feeling for how the 3 different flower classes are distributed along the 4 different features, visualize them via histograms."
   ]
  },
  {
   "cell_type": "code",
   "execution_count": 4,
   "metadata": {},
   "outputs": [
    {
     "data": {
      "image/png": "[encoded data removed]",
      "text/plain": [
       "<Figure size 1080x720 with 4 Axes>"
      ]
     },
     "metadata": {
      "needs_background": "light"
     },
     "output_type": "display_data"
    }
   ],
   "source": [
    "########## YOUR SOLUTION HERE ##########\n",
    "\n",
    "fig = plt.figure()\n",
    "fig.set_figheight(10)\n",
    "fig.set_figwidth(15)\n",
    "axs = [fig.add_subplot(221),fig.add_subplot(222),fig.add_subplot(223),fig.add_subplot(224)]\n",
    "\n",
    "classes = ['Iris-setosa', 'Iris-versicolor', 'Iris-virginica']\n",
    "colors = ['r', 'g', 'b']\n",
    "features = ['Sepal Length', 'Sepal Width', 'Petal Length', 'Petal Width']\n",
    "\n",
    "for n, (f, ax) in enumerate(zip(features, axs)):\n",
    "    for m, c in enumerate(classes):\n",
    "\n",
    "        ax.hist(X[np.where(y == c), n][0], color=colors[m], alpha=0.5, label=c)\n",
    "    ax.legend()\n",
    "    ax.set_xlabel('cm')\n",
    "    ax.set_ylabel('count')\n",
    "    ax.set_title(f)\n",
    "\n",
    "_ = plt.show()"
   ]
  },
  {
   "cell_type": "markdown",
   "metadata": {},
   "source": [
    "As PCA leads to a (sub)space that maximizes the variance along the axes, it makes sense to standardize the data, especially, if they were measured on different scales. We thus transform the data onto unit scale (mean=0 and variance=1), which is needed in many machine learning algorithms."
   ]
  },
  {
   "cell_type": "code",
   "execution_count": 5,
   "metadata": {},
   "outputs": [],
   "source": [
    "#nothing to do here\n",
    "from sklearn.preprocessing import StandardScaler\n",
    "X_std = StandardScaler().fit_transform(X)"
   ]
  },
  {
   "cell_type": "markdown",
   "metadata": {},
   "source": [
    "Next, we compute the covariance matrix $\\mathbf{C}$, which is a $d×d$ matrix (real and symmetric), where each element represents the covariance between two features. $\\mathbf{C}$ can therefore be calculated as follows:\n",
    "$$\n",
    "c_{jk}=\\frac{1}{n-1} \\sum_{i=1}^{n} (x_i^{(j)}-\\overline{x}^{(j)})(x_i^{(k)}-\\overline{x}^{(k)}),\n",
    "$$\n",
    "where $\\overline{x}^{(j)}$ denotes the mean of the $j$-th feature. In matrix notation, this can be expressed as follows:\n",
    "$$\n",
    "\\mathbf{C}=\\frac{1}{n-1}(\\mathbf{X}-\\overline{\\mathbf{x}})^T (\\mathbf{X}-\\overline{\\mathbf{x}}),\n",
    "$$\n",
    "with $\\overline{\\mathbf{x}}= \\frac1n \\sum_{i=1}^{n} \\mathbf{x}_i$ denoting the mean vector. The eigenvectors and eigenvalues of $\\mathbf{C}$ represent the most important part of PCA: The eigenvectors (principal components, German: \"Hauptachsen\") determine the directions of the new feature space, and the eigenvalues contain information about their importance. Put differently, the eigenvalues explain the variance of the data along the new feature axes. Computing $\\mathbf{C}$ and its eigendecomposition should therefore be achieved in the following tasks: "
   ]
  },
  {
   "cell_type": "markdown",
   "metadata": {},
   "source": [
    "<h3 style=\"color:rgb(210,90,80)\">Exercise 2 (5 points):</h3>\n",
    "\n",
    "\n",
    "* Using the previous formulas and explanations, implement the covariance matrix for the iris data set and print the result. Don't use the np.cov function. Verify first that all the feature means are zero due to the standardization we did above."
   ]
  },
  {
   "cell_type": "code",
   "execution_count": 6,
   "metadata": {},
   "outputs": [
    {
     "name": "stdout",
     "output_type": "stream",
     "text": [
      "Feature-mean = zero: [ True  True  True  True]\n",
      "\n",
      " [[ 1.00671141 -0.11010327  0.87760486  0.82344326]\n",
      " [-0.11010327  1.00671141 -0.42333835 -0.358937  ]\n",
      " [ 0.87760486 -0.42333835  1.00671141  0.96921855]\n",
      " [ 0.82344326 -0.358937    0.96921855  1.00671141]]\n"
     ]
    }
   ],
   "source": [
    "########## YOUR SOLUTION HERE ##########\n",
    "\n",
    "n = len(X_std)\n",
    "means = np.array([np.sum(X_std[:,0])/n, \n",
    "                  np.sum(X_std[:,1])/n, \n",
    "                  np.sum(X_std[:,2])/n, \n",
    "                  np.sum(X_std[:,3])/n])\n",
    "C = 1/(n-1) * np.matmul(X_std.T, X_std)  # no need to substract mean, since data is standardarized\n",
    "\n",
    "print('Feature-mean = zero: ' + str(np.isclose(means,0)))\n",
    "print(f'\\n {C}')"
   ]
  },
  {
   "cell_type": "markdown",
   "metadata": {},
   "source": [
    "<h3 style=\"color:rgb(210,90,80)\">Exercise 3 (5 points):</h3>\n",
    "\n",
    "* Next, perform an eigendecomposition on the covariance matrix  and print the eigenvectors and eigenvalues. You can use whatever method you like."
   ]
  },
  {
   "cell_type": "code",
   "execution_count": 7,
   "metadata": {},
   "outputs": [
    {
     "name": "stdout",
     "output_type": "stream",
     "text": [
      "\n",
      "Eigenvalue\t\t Eigenvector\n",
      "\n",
      "2.9303537755893174\t[ 0.52237162 -0.37231836 -0.72101681  0.26199559]\n",
      "0.9274036215173408\t[-0.26335492 -0.92555649  0.24203288 -0.12413481]\n",
      "0.14834222648163958\t[ 0.58125401 -0.02109478  0.14089226 -0.80115427]\n",
      "0.020746013995595905\t[ 0.56561105 -0.06541577  0.6338014   0.52354627]\n"
     ]
    }
   ],
   "source": [
    "########## YOUR SOLUTION HERE ##########\n",
    "\n",
    "eigenvalues, eigenvectors = np.linalg.eig(C)\n",
    "eigenvectors = eigenvectors  # eigenvectors i = column v[:,i] of eigenvector array returned from numpy\n",
    "\n",
    "print('\\nEigenvalue\\t\\t Eigenvector\\n')\n",
    "for eigenvalue, eigenvector in zip(eigenvalues, eigenvectors):\n",
    "    print(f'{eigenvalue}\\t{eigenvector}')"
   ]
  },
  {
   "cell_type": "markdown",
   "metadata": {},
   "source": [
    "To decide which eigenvector(s) can safely be dropped, we take a more careful look at the corresponding eigenvalues: In order to do so, we rank the eigenvalues from highest to lowest and choose the top $k$ eigenvectors. The eigenvectors with the lowest eigenvalues contain the least information about the distribution of the data; these are the ones we will get rid of."
   ]
  },
  {
   "cell_type": "markdown",
   "metadata": {},
   "source": [
    "<h3 style=\"color:rgb(210,90,80)\">Exercise 4 (10 points):</h3>\n",
    "\n",
    "* Make a list of (eigenvalue, eigenvector) tuples, sort the (eigenvalue, eigenvector) tuples from high to low (with respect to the eigenvalues) and print the tuples in decreasing order to confirm, that the list is correctly sorted. Also check that the eigenvectors are all normalized and all orthogonal to each other."
   ]
  },
  {
   "cell_type": "code",
   "execution_count": 8,
   "metadata": {},
   "outputs": [
    {
     "name": "stdout",
     "output_type": "stream",
     "text": [
      "\n",
      "Eigenvalue\t Eigenvector\t\t\t\t Vector-Magnitude\n",
      "\n",
      "2.9304\t\t[ 0.5224 -0.3723 -0.721   0.262 ]\t1.0\n",
      "0.9274\t\t[-0.2634 -0.9256  0.242  -0.1241]\t1.0\n",
      "0.1483\t\t[ 0.5813 -0.0211  0.1409 -0.8012]\t1.0\n",
      "0.0207\t\t[ 0.5656 -0.0654  0.6338  0.5235]\t1.0\n",
      "\n",
      "\n",
      "Multiplication-Matrix:\n",
      "\n",
      "[[ 1. -0. -0.  0.]\n",
      " [-0.  1.  0.  0.]\n",
      " [-0.  0.  1.  0.]\n",
      " [ 0.  0.  0.  1.]]\n"
     ]
    }
   ],
   "source": [
    "########## YOUR SOLUTION HERE ##########\n",
    "\n",
    "eigentuples = [(eigenvalue, eigenvector) for eigenvalue, eigenvector in zip(eigenvalues, eigenvectors)]\n",
    "eigentuples = sorted(eigentuples, reverse=True, key=lambda tup: tup[0])  # sort with eigenvalues as keys\n",
    "\n",
    "# multiplication of every eigenvector with every eigenvector to check if orthogonal\n",
    "vector_mult_matrix = np.zeros(shape=(4,4))\n",
    "for n, (_, vector1) in enumerate(eigentuples):\n",
    "    for m, (_, vector2) in enumerate(eigentuples):\n",
    "        vector_mult_matrix[n, m] = np.matmul(vector1, vector2)\n",
    "\n",
    "print('\\nEigenvalue\\t Eigenvector\\t\\t\\t\\t Vector-Magnitude\\n')\n",
    "for tup in eigentuples:\n",
    "    print(f'{round(tup[0],4)}\\t\\t{np.round(tup[1],4)}\\t{np.round(np.linalg.norm(tup[1]))}')  # print magnitude of vectors to check if normalized\n",
    "    \n",
    "print(f'\\n\\nMultiplication-Matrix:\\n\\n{np.round(vector_mult_matrix)}')"
   ]
  },
  {
   "cell_type": "markdown",
   "metadata": {},
   "source": [
    "After sorting the eigenpairs, we ask ourselves, how many principal components we want to have. A useful measure is the so-called \"explained variance\", which can be calculated from the eigenvalues by computing the ratios $\\frac{\\lambda_j}{\\sum_{k=1}^d \\lambda_k}$, where $\\lambda_j$ denotes the $j$-th (sorted) eigenvalue of $\\mathbf{C}$ and $1\\le j \\le d$. The explained variance tells us how much information is contained in each of the principal components. "
   ]
  },
  {
   "cell_type": "markdown",
   "metadata": {},
   "source": [
    "<h3 style=\"color:rgb(210,90,80)\">Exercise 5 (10 points):</h3>\n",
    "\n",
    "* Write a code that computes the explained variance for each eigenvalue of the iris-dataset example and print the result."
   ]
  },
  {
   "cell_type": "code",
   "execution_count": 9,
   "metadata": {},
   "outputs": [
    {
     "name": "stdout",
     "output_type": "stream",
     "text": [
      "\n",
      "Eigenvalue\t Explained Variance\n",
      "\n",
      "2.9304\t\t 0.7277045209380137\n",
      "0.9274\t\t 0.23030523267680628\n",
      "0.1483\t\t 0.03683831957627383\n",
      "0.0207\t\t 0.005151926808906316\n"
     ]
    }
   ],
   "source": [
    "########## YOUR SOLUTION HERE ##########\n",
    "\n",
    "explained_variance = np.array([eigenvalue / np.sum(eigenvalues) for (eigenvalue, _) in eigentuples])\n",
    "\n",
    "print(f'\\nEigenvalue\\t Explained Variance\\n')\n",
    "for (eigenvalue, _), var in zip(eigentuples, explained_variance):\n",
    "    print(f'{np.round(eigenvalue,4)}\\t\\t {var}')"
   ]
  },
  {
   "cell_type": "markdown",
   "metadata": {},
   "source": [
    "The previous task clearly shows that most of the variance can be explained by the first principal component alone. The second principal component still contains some information, while the third and fourth principal components can safely be neglected. "
   ]
  },
  {
   "cell_type": "markdown",
   "metadata": {},
   "source": [
    "Next, we come to the construction of the $d \\times k$ transformation (and projection) matrix $\\mathbf{W}$ that will be used to transform the Iris data onto the new (and smaller) feature subspace. It basically just consists of the first $k$ eigenvectors. In our Iris dataset example, we choose to reduce the $4$-dimensional feature space to a $k=2$ dimensional one.\n",
    "\n",
    "In the final, step we will use $\\mathbf{W}$ to transform our samples onto the new subspace via the equation\n",
    "$\\mathbf{Y}=\\mathbf{X}\\,\\mathbf{W}$, where $\\mathbf{Y}$ is now an $n \\times k$ matrix (i.e. $150 \\times 2$ in our case)."
   ]
  },
  {
   "cell_type": "markdown",
   "metadata": {},
   "source": [
    "<h3 style=\"color:rgb(210,90,80)\">Exercise 6 (10 points):</h3>\n",
    "\n",
    "* Write a code that computes the transformation matrix $\\mathbf{W}$ and the new representation matrix $\\mathbf{Y}$ for the Iris data set and print the results."
   ]
  },
  {
   "cell_type": "code",
   "execution_count": 10,
   "metadata": {
    "scrolled": true
   },
   "outputs": [
    {
     "name": "stdout",
     "output_type": "stream",
     "text": [
      "\n",
      "transformation matrix W:\n",
      "[[ 0.52237162 -0.26335492]\n",
      " [-0.37231836 -0.92555649]\n",
      " [-0.72101681  0.24203288]\n",
      " [ 0.26199559 -0.12413481]]\n",
      "\n",
      " new representation matrix Y = XW:\n",
      "[[-0.2316583  -0.87967436]\n",
      " [ 0.07253025  0.25502854]\n",
      " [-0.18536908 -0.12326756]\n",
      " [-0.24451042  0.15034585]\n",
      " [-0.38110853 -1.06194072]\n",
      " [-0.44050933 -1.82346152]\n",
      " [-0.42753067 -0.52226744]\n",
      " [-0.24979851 -0.61982431]\n",
      " [-0.15778746  0.62875583]\n",
      " [-0.08907179  0.07093576]\n",
      " [-0.2550866  -1.38999448]\n",
      " [-0.41738895 -0.54224064]\n",
      " [-0.02520974  0.30325906]\n",
      " [-0.21867964  0.42151973]\n",
      " [-0.13737131 -2.20145476]\n",
      " [-0.59940097 -3.01760131]\n",
      " [-0.27650482 -1.878515  ]\n",
      " [-0.19721296 -0.89599473]\n",
      " [-0.19891512 -1.6886951 ]\n",
      " [-0.49668081 -1.52476091]\n",
      " [-0.07862214 -0.71993819]\n",
      " [-0.3760799  -1.32690476]\n",
      " [-0.47028264 -0.98935358]\n",
      " [-0.07901452 -0.45899233]\n",
      " [-0.54039234 -0.50095053]\n",
      " [ 0.05382265  0.25064512]\n",
      " [-0.22190896 -0.63870169]\n",
      " [-0.20936477 -0.89782114]\n",
      " [-0.08220807 -0.69740799]\n",
      " [-0.30837246 -0.08197745]\n",
      " [-0.15892223  0.10028892]\n",
      " [ 0.07227079 -0.78010568]\n",
      " [-0.76074355 -2.16655987]\n",
      " [-0.58156868 -2.50655059]\n",
      " [-0.08907179  0.07093576]\n",
      " [ 0.04551602 -0.23276139]\n",
      " [ 0.06252146 -1.02107834]\n",
      " [-0.08907179  0.07093576]\n",
      " [-0.2029419   0.40081594]\n",
      " [-0.18650385 -0.65173447]\n",
      " [-0.21950649 -0.87784794]\n",
      " [ 0.49788711  1.85182103]\n",
      " [-0.37525305 -0.02753709]\n",
      " [-0.23917386 -0.88551895]\n",
      " [-0.62623998 -1.4860278 ]\n",
      " [ 0.04368094  0.27061832]\n",
      " [-0.57212727 -1.49467717]\n",
      " [-0.28966486 -0.07759403]\n",
      " [-0.31838126 -1.35808433]\n",
      " [-0.12264181 -0.41941117]\n",
      " [ 0.28971372 -0.58509099]\n",
      " [ 0.02639337 -0.43747718]\n",
      " [ 0.26501772 -0.32779795]\n",
      " [ 0.36825659  1.74112676]\n",
      " [ 0.39330919  0.4010821 ]\n",
      " [-0.14093761  0.67524071]\n",
      " [-0.17061378 -0.60853717]\n",
      " [ 0.08600496  1.67102869]\n",
      " [ 0.3015576   0.18763618]\n",
      " [-0.09080321  0.95006741]\n",
      " [ 0.41191965  2.52335135]\n",
      " [ 0.00523462  0.10913652]\n",
      " [ 0.66754943  1.84471362]\n",
      " [-0.02147147  0.34462995]\n",
      " [ 0.07862232  0.36910402]\n",
      " [ 0.30898871 -0.31647412]\n",
      " [-0.30765274  0.24615709]\n",
      " [ 0.06918112  0.85141471]\n",
      " [ 0.76135979  1.7681083 ]\n",
      " [ 0.23135055  1.29974094]\n",
      " [-0.30974728 -0.28559741]\n",
      " [ 0.31724666  0.47878325]\n",
      " [ 0.40218321  1.14872207]\n",
      " [-0.00420658  0.59144721]\n",
      " [ 0.29797167  0.21016638]\n",
      " [ 0.33184962 -0.07038745]\n",
      " [ 0.46674557  0.34919875]\n",
      " [ 0.25247352 -0.0686785 ]\n",
      " [ 0.03168146  0.33269299]\n",
      " [ 0.33804881  1.01492116]\n",
      " [ 0.29521259  1.53206425]\n",
      " [ 0.30176838  1.53462125]\n",
      " [ 0.22007405  0.79124723]\n",
      " [-0.00756882  0.82730587]\n",
      " [-0.43424205  0.3099774 ]\n",
      " [-0.36465106 -0.75450997]\n",
      " [ 0.22043066 -0.29150439]\n",
      " [ 0.71060933  1.540899  ]\n",
      " [-0.2125389   0.22374435]\n",
      " [ 0.19594544  1.31277372]\n",
      " [-0.08865999  1.16997106]\n",
      " [-0.06662592  0.11669006]\n",
      " [ 0.2652285   1.01918712]\n",
      " [ 0.23545519  1.85329506]\n",
      " [ 0.00492669  0.88003727]\n",
      " [-0.22469071  0.22191794]\n",
      " [-0.1040898   0.41977409]\n",
      " [ 0.17138236  0.27398669]\n",
      " [ 0.28388742  1.33542139]\n",
      " [ 0.02306691  0.62018723]\n",
      " [-0.3936204  -0.57649671]\n",
      " [-0.03082212  0.84216506]\n",
      " [ 0.27442335 -0.13773028]\n",
      " [-0.12611096  0.33939848]\n",
      " [-0.02989813  0.0236469 ]\n",
      " [ 0.30388873 -0.20093746]\n",
      " [-0.25104679  1.50777001]\n",
      " [ 0.21982771  0.11664053]\n",
      " [ 0.3896877   1.09599067]\n",
      " [-0.12343634 -1.49245428]\n",
      " [ 0.01590795 -0.46840897]\n",
      " [ 0.26694356  0.67823088]\n",
      " [ 0.24854389 -0.0970533 ]\n",
      " [ 0.15364083  1.27234451]\n",
      " [ 0.055249    0.54638669]\n",
      " [-0.02605295 -0.4579332 ]\n",
      " [-0.04467609  0.04763828]\n",
      " [-0.32861699 -1.94881675]\n",
      " [ 0.65769297  0.63250782]\n",
      " [ 0.42976484  1.90074546]\n",
      " [ 0.12641582 -0.56243049]\n",
      " [-0.12711941  0.64796174]\n",
      " [ 0.46404807  0.22558916]\n",
      " [ 0.33320808  0.67140792]\n",
      " [-0.15521974 -0.68014595]\n",
      " [ 0.02106971 -0.53526898]\n",
      " [ 0.22475898  0.47537819]\n",
      " [-0.05184795  0.09269868]\n",
      " [ 0.12667528  0.47270373]\n",
      " [ 0.20649244 -0.10180194]\n",
      " [ 0.48572553  0.25505978]\n",
      " [-0.14791497 -2.02128643]\n",
      " [ 0.16112062  0.45638335]\n",
      " [ 0.06171424  0.53371926]\n",
      " [-0.13201491  1.11102983]\n",
      " [ 0.64107971 -0.33430521]\n",
      " [-0.3502168  -0.82940634]\n",
      " [-0.19412633 -0.13462808]\n",
      " [-0.07414148  0.11084547]\n",
      " [ 0.2666841  -0.35690334]\n",
      " [ 0.16142854 -0.3145174 ]\n",
      " [ 0.45857816 -0.43083419]\n",
      " [-0.03082212  0.84216506]\n",
      " [-0.0188811  -0.50299359]\n",
      " [-0.01743839 -0.74542744]\n",
      " [ 0.37714329 -0.139074  ]\n",
      " [ 0.49896344  1.09720396]\n",
      " [ 0.14721797 -0.02629257]\n",
      " [-0.36595454 -0.80870255]\n",
      " [-0.26043952  0.18404573]]\n"
     ]
    }
   ],
   "source": [
    "########## YOUR SOLUTION HERE ##########   \n",
    "\n",
    "W = np.array([eigenvector for _, eigenvector in eigentuples[:2]]).T  # transpose to get into shape d x k\n",
    "Y = np.matmul(X_std, W)\n",
    "\n",
    "print(f'\\ntransformation matrix W:\\n{W}\\n\\n new representation matrix Y = XW:\\n{Y}')"
   ]
  },
  {
   "cell_type": "markdown",
   "metadata": {},
   "source": [
    "All the steps that we did so far can be also done with the following implemented algorithm from the sklearn package. The previously computed matrix $\\mathbf{Y}$ should match $\\mathbf{Y}_\\textrm{sklearn}$ from the following code. Note that signs (of individual components) might differ. This is because the directions of the eigenvectors are not fixed and different methods may make different choices."
   ]
  },
  {
   "cell_type": "code",
   "execution_count": 11,
   "metadata": {},
   "outputs": [
    {
     "name": "stdout",
     "output_type": "stream",
     "text": [
      "[[-2.26454173e+00  5.05703903e-01]\n",
      " [-2.08642550e+00 -6.55404729e-01]\n",
      " [-2.36795045e+00 -3.18477311e-01]\n",
      " [-2.30419716e+00 -5.75367713e-01]\n",
      " [-2.38877749e+00  6.74767397e-01]\n",
      " [-2.07053681e+00  1.51854856e+00]\n",
      " [-2.44571134e+00  7.45626750e-02]\n",
      " [-2.23384186e+00  2.47613932e-01]\n",
      " [-2.34195768e+00 -1.09514636e+00]\n",
      " [-2.18867576e+00 -4.48629048e-01]\n",
      " [-2.16348656e+00  1.07059558e+00]\n",
      " [-2.32737775e+00  1.58587455e-01]\n",
      " [-2.22408272e+00 -7.09118158e-01]\n",
      " [-2.63971626e+00 -9.38281982e-01]\n",
      " [-2.19229151e+00  1.88997851e+00]\n",
      " [-2.25146521e+00  2.72237108e+00]\n",
      " [-2.20275048e+00  1.51375028e+00]\n",
      " [-2.19017916e+00  5.14304308e-01]\n",
      " [-1.89407429e+00  1.43111071e+00]\n",
      " [-2.33994907e+00  1.15803343e+00]\n",
      " [-1.91455639e+00  4.30465163e-01]\n",
      " [-2.20464540e+00  9.52457317e-01]\n",
      " [-2.77416979e+00  4.89517027e-01]\n",
      " [-1.82041156e+00  1.06750793e-01]\n",
      " [-2.22821750e+00  1.62186163e-01]\n",
      " [-1.95702401e+00 -6.07892567e-01]\n",
      " [-2.05206331e+00  2.66014312e-01]\n",
      " [-2.16819365e+00  5.52016495e-01]\n",
      " [-2.14030596e+00  3.36640409e-01]\n",
      " [-2.26879019e+00 -3.14878603e-01]\n",
      " [-2.14455443e+00 -4.83942097e-01]\n",
      " [-1.83193810e+00  4.45266836e-01]\n",
      " [-2.60820287e+00  1.82847519e+00]\n",
      " [-2.43795086e+00  2.18539162e+00]\n",
      " [-2.18867576e+00 -4.48629048e-01]\n",
      " [-2.21111990e+00 -1.84337811e-01]\n",
      " [-2.04441652e+00  6.84956426e-01]\n",
      " [-2.18867576e+00 -4.48629048e-01]\n",
      " [-2.43595220e+00 -8.82169415e-01]\n",
      " [-2.17054720e+00  2.92726955e-01]\n",
      " [-2.28652724e+00  4.67991716e-01]\n",
      " [-1.87170722e+00 -2.32769161e+00]\n",
      " [-2.55783442e+00 -4.53816380e-01]\n",
      " [-1.96427929e+00  4.97391640e-01]\n",
      " [-2.13337283e+00  1.17143211e+00]\n",
      " [-2.07535759e+00 -6.91917347e-01]\n",
      " [-2.38125822e+00  1.15063259e+00]\n",
      " [-2.39819169e+00 -3.62390765e-01]\n",
      " [-2.22678121e+00  1.02548255e+00]\n",
      " [-2.20595417e+00  3.22378453e-02]\n",
      " [ 1.10399365e+00  8.63112446e-01]\n",
      " [ 7.32481440e-01  5.98635573e-01]\n",
      " [ 1.24210951e+00  6.14822450e-01]\n",
      " [ 3.97307283e-01 -1.75816895e+00]\n",
      " [ 1.07259395e+00 -2.11757903e-01]\n",
      " [ 3.84458146e-01 -5.91062469e-01]\n",
      " [ 7.48715076e-01  7.78698611e-01]\n",
      " [-4.97863388e-01 -1.84886877e+00]\n",
      " [ 9.26222368e-01  3.03308268e-02]\n",
      " [ 4.96802558e-03 -1.02940111e+00]\n",
      " [-1.24697461e-01 -2.65806268e+00]\n",
      " [ 4.38730118e-01 -5.88812850e-02]\n",
      " [ 5.51633981e-01 -1.77258156e+00]\n",
      " [ 7.17165066e-01 -1.85434315e-01]\n",
      " [-3.72583830e-02 -4.32795099e-01]\n",
      " [ 8.75890536e-01  5.09998151e-01]\n",
      " [ 3.48006402e-01 -1.90621647e-01]\n",
      " [ 1.53392545e-01 -7.90725456e-01]\n",
      " [ 1.21530321e+00 -1.63335564e+00]\n",
      " [ 1.56941176e-01 -1.30310327e+00]\n",
      " [ 7.38256104e-01  4.02470382e-01]\n",
      " [ 4.72369682e-01 -4.16608222e-01]\n",
      " [ 1.22798821e+00 -9.40914793e-01]\n",
      " [ 6.29381045e-01 -4.16811643e-01]\n",
      " [ 7.00472799e-01 -6.34939277e-02]\n",
      " [ 8.73536987e-01  2.50708611e-01]\n",
      " [ 1.25422219e+00 -8.26200998e-02]\n",
      " [ 1.35823985e+00  3.28820266e-01]\n",
      " [ 6.62126138e-01 -2.24346071e-01]\n",
      " [-4.72815133e-02 -1.05721241e+00]\n",
      " [ 1.21534209e-01 -1.56359238e+00]\n",
      " [ 1.41182261e-02 -1.57339235e+00]\n",
      " [ 2.36010837e-01 -7.75923784e-01]\n",
      " [ 1.05669143e+00 -6.36901284e-01]\n",
      " [ 2.21417088e-01 -2.80847693e-01]\n",
      " [ 4.31783161e-01  8.55136920e-01]\n",
      " [ 1.04941336e+00  5.22197265e-01]\n",
      " [ 1.03587821e+00 -1.39246648e+00]\n",
      " [ 6.70675999e-02 -2.12620735e-01]\n",
      " [ 2.75425066e-01 -1.32981591e+00]\n",
      " [ 2.72335066e-01 -1.11944152e+00]\n",
      " [ 6.23170540e-01  2.75426333e-02]\n",
      " [ 3.30005364e-01 -9.88900732e-01]\n",
      " [-3.73627623e-01 -2.01793227e+00]\n",
      " [ 2.82944343e-01 -8.53950717e-01]\n",
      " [ 8.90531103e-02 -1.74908548e-01]\n",
      " [ 2.24356783e-01 -3.80484659e-01]\n",
      " [ 5.73883486e-01 -1.53719974e-01]\n",
      " [-4.57012873e-01 -1.53946451e+00]\n",
      " [ 2.52244473e-01 -5.95860746e-01]\n",
      " [ 1.84767259e+00  8.71696662e-01]\n",
      " [ 1.15318981e+00 -7.01326114e-01]\n",
      " [ 2.20634950e+00  5.54470105e-01]\n",
      " [ 1.43868540e+00 -5.00105223e-02]\n",
      " [ 1.86789070e+00  2.91192802e-01]\n",
      " [ 2.75419671e+00  7.88432206e-01]\n",
      " [ 3.58374475e-01 -1.56009458e+00]\n",
      " [ 2.30300590e+00  4.09516695e-01]\n",
      " [ 2.00173530e+00 -7.23865359e-01]\n",
      " [ 2.26755460e+00  1.92144299e+00]\n",
      " [ 1.36590943e+00  6.93948040e-01]\n",
      " [ 1.59906459e+00 -4.28248836e-01]\n",
      " [ 1.88425185e+00  4.14332758e-01]\n",
      " [ 1.25308651e+00 -1.16739134e+00]\n",
      " [ 1.46406152e+00 -4.44147569e-01]\n",
      " [ 1.59180930e+00  6.77035372e-01]\n",
      " [ 1.47128019e+00  2.53192472e-01]\n",
      " [ 2.43737848e+00  2.55675734e+00]\n",
      " [ 3.30914118e+00 -2.36132010e-03]\n",
      " [ 1.25398099e+00 -1.71758384e+00]\n",
      " [ 2.04049626e+00  9.07398765e-01]\n",
      " [ 9.73915114e-01 -5.71174376e-01]\n",
      " [ 2.89806444e+00  3.97791359e-01]\n",
      " [ 1.32919369e+00 -4.86760542e-01]\n",
      " [ 1.70424071e+00  1.01414842e+00]\n",
      " [ 1.95772766e+00  1.00333452e+00]\n",
      " [ 1.17190451e+00 -3.18896617e-01]\n",
      " [ 1.01978105e+00  6.55429631e-02]\n",
      " [ 1.78600886e+00 -1.93272800e-01]\n",
      " [ 1.86477791e+00  5.55381532e-01]\n",
      " [ 2.43549739e+00  2.46654468e-01]\n",
      " [ 2.31608241e+00  2.62618387e+00]\n",
      " [ 1.86037143e+00 -1.84672394e-01]\n",
      " [ 1.11127173e+00 -2.95986102e-01]\n",
      " [ 1.19746916e+00 -8.17167742e-01]\n",
      " [ 2.80094940e+00  8.44748194e-01]\n",
      " [ 1.58015525e+00  1.07247450e+00]\n",
      " [ 1.34704442e+00  4.22255966e-01]\n",
      " [ 9.23432978e-01  1.92303705e-02]\n",
      " [ 1.85355198e+00  6.72422729e-01]\n",
      " [ 2.01615720e+00  6.10397038e-01]\n",
      " [ 1.90311686e+00  6.86024832e-01]\n",
      " [ 1.15318981e+00 -7.01326114e-01]\n",
      " [ 2.04330844e+00  8.64684880e-01]\n",
      " [ 2.00169097e+00  1.04855005e+00]\n",
      " [ 1.87052207e+00  3.82821838e-01]\n",
      " [ 1.55849189e+00 -9.05313601e-01]\n",
      " [ 1.52084506e+00  2.66794575e-01]\n",
      " [ 1.37639119e+00  1.01636193e+00]\n",
      " [ 9.59298576e-01 -2.22839447e-02]]\n"
     ]
    }
   ],
   "source": [
    "#nothing to do here\n",
    "from sklearn.decomposition import PCA as sklearnPCA\n",
    "sklearn_pca = sklearnPCA(n_components=2)\n",
    "Y_sklearn = sklearn_pca.fit_transform(X_std)\n",
    "print(Y_sklearn)"
   ]
  },
  {
   "cell_type": "markdown",
   "metadata": {},
   "source": [
    "* As a final step, we provide a visualization of the data in the new coordinate system, consisting of the first two principal components as axes. It should be clearly visible how the different classes are well seperated also in this smaller subspace. The self-implementation and sklearn method should lead to the same results (apart from potential flip of axes directions)."
   ]
  },
  {
   "cell_type": "code",
   "execution_count": 12,
   "metadata": {},
   "outputs": [
    {
     "data": {
      "image/png": "[encoded data removed]",
      "text/plain": [
       "<Figure size 432x288 with 1 Axes>"
      ]
     },
     "metadata": {
      "needs_background": "light"
     },
     "output_type": "display_data"
    },
    {
     "data": {
      "image/png": "[encoded data removed]",
      "text/plain": [
       "<Figure size 432x288 with 1 Axes>"
      ]
     },
     "metadata": {
      "needs_background": "light"
     },
     "output_type": "display_data"
    }
   ],
   "source": [
    "#nothing to do here\n",
    "X = df.iloc[:,0:4].values\n",
    "y = df.iloc[:,4].values\n",
    "classes = list(set(y))\n",
    "\n",
    "colors = sns.color_palette(n_colors=len(classes)).as_hex()\n",
    "\n",
    "for index,c in enumerate(classes):\n",
    "        plt.scatter(Y[y==c,0], Y[y==c,1], color=colors[index], label=c)\n",
    "plt.xlabel(\"PC1\")\n",
    "plt.ylabel(\"PC2\")\n",
    "plt.title(\"Downprojected data (self-implementation)\")\n",
    "plt.legend()\n",
    "plt.show()\n",
    "\n",
    "for index,c in enumerate(classes):\n",
    "        plt.scatter(Y_sklearn[y==c,0], Y_sklearn[y==c,1], color=colors[index], label=c)\n",
    "plt.xlabel(\"PC1\")\n",
    "plt.ylabel(\"PC2\")\n",
    "plt.title(\"Downprojected data (using sklearn)\")\n",
    "plt.legend()\n",
    "plt.show()"
   ]
  },
  {
   "cell_type": "code",
   "execution_count": null,
   "metadata": {},
   "outputs": [],
   "source": []
  }
 ],
 "metadata": {
  "kernelspec": {
   "display_name": "deeplearning",
   "language": "python",
   "name": "deeplearning"
  },
  "language_info": {
   "codemirror_mode": {
    "name": "ipython",
    "version": 3
   },
   "file_extension": ".py",
   "mimetype": "text/x-python",
   "name": "python",
   "nbconvert_exporter": "python",
   "pygments_lexer": "ipython3",
   "version": "3.8.10"
  }
 },
 "nbformat": 4,
 "nbformat_minor": 2
}
