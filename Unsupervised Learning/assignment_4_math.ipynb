{
 "cells": [
  {
   "cell_type": "markdown",
   "metadata": {
    "datalore": {
     "hide_input_from_viewers": false,
     "hide_output_from_viewers": false,
     "type": "MD"
    }
   },
   "source": [
    "<h1 style=\"color:rgb(0,120,170)\">Assignment 4: ICA</h1>"
   ]
  },
  {
   "cell_type": "markdown",
   "metadata": {
    "datalore": {
     "hide_input_from_viewers": false,
     "hide_output_from_viewers": false,
     "type": "MD"
    }
   },
   "source": [
    "*This material, no matter whether in printed or electronic form, may be used for personal and non-commercial educational use only. Any reproduction of this material, no matter whether as a whole or in parts, no matter whether in printed or in electronic form, requires explicit prior acceptance of the authors.*"
   ]
  },
  {
   "cell_type": "markdown",
   "metadata": {
    "datalore": {
     "hide_input_from_viewers": false,
     "hide_output_from_viewers": false,
     "type": "MD"
    }
   },
   "source": [
    "The cumulant-generating function $K_X(t)$ of a random variable $X$ is defined as \n",
    "the natural logarithm of the moment-generating function\n",
    "\\begin{equation}\n",
    "  \\newcommand\\E{\\operatorname{\\mathbb{E}}}\n",
    "  \\newcommand\\dif{\\mathrm{d}}\n",
    "  K_X(t) = \\log \\E\\left[e^{tX}\\right]. \n",
    "\\end{equation}\n",
    "Let $\\kappa_n(X) = K_X^{(n)}(0)$ the $n$-th derivative of $K_X(t)$ evaluated at $t=0$, \n",
    "then the Maclaurin series is \n",
    "\\begin{equation}\n",
    "  K_X(t) = \\sum_{n=1}^\\infty \\kappa_n(X) \\frac{t^n}{n!}. \n",
    "\\end{equation}\n",
    "\n",
    "<h2 style=\"color:rgb(0,120,170)\">Task 1 (20 Points)</h2>\n",
    "Show that if the random variables $X$ and $Y$ are independent then \n",
    "$\\kappa_n(X+Y) = \\kappa_n(X) + \\kappa_n(Y)$ and $\\kappa_n(\\alpha X) = \\alpha^n \\kappa_n(X)$\n",
    "holds. "
   ]
  },
  {
   "cell_type": "markdown",
   "metadata": {
    "datalore": {
     "hide_input_from_viewers": false,
     "hide_output_from_viewers": false,
     "type": "MD"
    }
   },
   "source": [
    "$$\\kappa_n(X+Y)=$$\n",
    "$$=\\frac{d^n K_{X+Y}(t)}{d^nt}(0)=$$\n",
    "$$=\\frac{d^n \\log \\mathbb{E}(e^{t(X+Y)})}{d^nt}(0)=^{\\text{*(independence of X and Y)}}$$\n",
    "$$=\\frac{d^n \\log [\\mathbb{E}(e^{tX})*\\mathbb{E}(e^{tY})]}{d^nt}(0)=$$\n",
    "$$=\\frac{d^n (\\log \\mathbb{E}(e^{tX}) + \\log \\mathbb{E}(e^{tY}))}{d^nt}(0)=$$\n",
    "$$=\\frac{d^n\\log \\mathbb{E}(e^{tX}) + d^n\\log \\mathbb{E}(e^{tY})}{d^nt}(0)=$$\n",
    "$$=\\frac{d^n\\log \\mathbb{E}(e^{tX})}{d^nt}(0)+\\frac{d^n\\log \\mathbb{E}(e^{tY})}{d^nt}(0)=$$\n",
    "$$=\\kappa_n(X) + \\kappa_n(Y)$$\n",
    "<br>\n",
    "$$\\kappa_n(\\alpha X)=K_{\\alpha X}^{(n)}(0)=(K_{\\alpha X}(t))^{(n)}(0) = (\\log \\mathbb{E}\\left[e^{t\\alpha X}\\right])^{(n)}(0)=(K_{X}(\\alpha t))^{(n)}(0)=$$\n",
    "$$=\\left(\\sum_{n=1}^\\infty \\kappa_n(X) \\frac{(\\alpha t)^n}{n!}\\right)^{(n)}(0)=\\left(\\sum_{n=1}^\\infty \\kappa_n(X) \\frac{\\alpha^n t^n}{n!}\\right)^{(n)}(0)=\\alpha^n \\left(\\sum_{n=1}^\\infty \\kappa_n(X) \\frac{t^n}{n!}\\right)^{(n)}(0)=\\alpha^n \\kappa_n(X)$$"
   ]
  },
  {
   "cell_type": "markdown",
   "metadata": {
    "datalore": {
     "hide_input_from_viewers": false,
     "hide_output_from_viewers": false,
     "type": "MD"
    }
   },
   "source": [
    "<h2 style=\"color:rgb(0,120,170)\">Task 2 (20 Points)</h2>\n",
    "\n",
    "Show that the first four cumulants of a centered random variable $X$, i.e. $\\E[X] = 0$, are \n",
    "  \\begin{equation}\n",
    "    \\kappa_1 = 0,\\quad\\kappa_2 = \\E[X^2],\\quad\\kappa_3 = \\E[X^3],\\quad\\text{and}\\quad\\kappa_4 = \\E[X^4] - 3(\\E[X^2])^2,\n",
    "  \\end{equation}\n",
    "respectively. *Hint:* Combine the Taylor expansions $\\E[e^{tX}] = \\sum_{n=0}^\\infty \\E[X^n]\\frac{t^n}{n!}$ and $\\log(1 + a) = \\sum_{n=1}^\\infty a^n \\frac{(-1)^{n+1}}{n}$ and drop all terms of order higher than 4. "
   ]
  },
  {
   "cell_type": "markdown",
   "metadata": {
    "datalore": {
     "hide_input_from_viewers": false,
     "hide_output_from_viewers": false,
     "type": "MD"
    }
   },
   "source": [
    "Taylor Expansion $\\mathbb{E}[e^{tX}]$:\n",
    "$$\\mathbb{E}(e^{tX})=1+t\\mathbb{E}(X)+\\frac{t^2}{2}\\mathbb{E}(X^2)+\\frac{t^3}{6}\\mathbb{E}(X^3)+\\frac{t^4}{24}\\mathbb{E}(X^4)+O(t^5)$$\n",
    "<br>\n",
    "Taylor Expansion $\\log(1+a)$ with $a = \\frac{t^2}{2}\\mathbb{E}(X^2)+\\frac{t^3}{6}\\mathbb{E}(X^3)+\\frac{t^4}{24}\\mathbb{E}(X^4)+O(t^5)$ (we can omit the first term of the above expansion since $\\mathbb{E}(X)=0$), already simplified and terms of order higher than 4 dropped:\n",
    "$$\\log(\\mathbb{E}(e^{tX}))=\\frac{t^2}{2}\\mathbb{E}(X^2)+\\frac{t^3}{6}\\mathbb{E}(X^3)+\\frac{t^4}{24}\\mathbb{E}(X^4)-\\frac{t^4}{8}\\mathbb{E}(X^2)^2$$\n",
    "<br>\n",
    "To calculate the n-th, we have to take the n-th derivative of the above and evaluate it at $t = 0$:\n",
    "$$\\frac{d\\log(\\mathbb{E}(e^{tX}))}{dt}=t\\mathbb{E}(X^2)+\\frac{t^2}{2}\\mathbb{E}(X^3)+\\frac{t^3}{6}\\mathbb{E}(X^4)-\\frac{t^3}{2}\\mathbb{E}(X^2)^2 \\rightarrow \\kappa_1=0$$\n",
    "$$\\frac{d^2\\log(\\mathbb{E}(e^{tX}))}{d^2t}=\\mathbb{E}(X^2)+t\\mathbb{E}(X^3)+\\frac{t^2}{2}\\mathbb{E}(X^4)-\\frac{3t^2}{2}\\mathbb{E}(X^2)^2 \\rightarrow \\kappa_2 = \\mathbb{E}(X^2)$$\n",
    "$$\\frac{d^3\\log(\\mathbb{E}(e^{tX}))}{d^3t}=\\mathbb{E}(X^3)+t\\mathbb{E}(X^4)-3t\\mathbb{E}(X^2)^2 \\rightarrow \\kappa_3 = \\mathbb{E}(X^3)$$\n",
    "$$\\frac{d^4\\log(\\mathbb{E}(e^{tX}))}{d^4t}=\\mathbb{E}(X^4)-3\\mathbb{E}(X^2)^2 \\rightarrow \\kappa_4 = \\mathbb{E}(X^4)-3\\mathbb{E}(X^2)^2$$"
   ]
  },
  {
   "cell_type": "markdown",
   "metadata": {
    "datalore": {
     "hide_input_from_viewers": false,
     "hide_output_from_viewers": false,
     "type": "MD"
    }
   },
   "source": [
    "<h2 style=\"color:rgb(0,120,170)\">Task 3 (20 Points)</h2>\n",
    "\n",
    "Consider a standard normal random variable $X \\sim p(x) = \\frac{1}{\\sqrt{2\\pi}} e^{-\\frac{x^2}{2}}$. Show that $\\E[X] = 0$ and $\\E[X^n] = (n-1) \\E[X^{n-2}]$ for $n \\geq 2$ and use this to determine the third and fourth cumulants of $X$. *Hint:* Use the fact that $\\int f'(x) e^{f(x)} \\dif x = e^{f(x)}$. "
   ]
  },
  {
   "cell_type": "markdown",
   "metadata": {
    "datalore": {
     "hide_input_from_viewers": false,
     "hide_output_from_viewers": false,
     "type": "MD"
    }
   },
   "source": [
    "$$\\mathbb{E}(X)=\\frac{1}{\\sqrt{2\\pi}}\\int_{-\\infty}^{\\infty}xe^{-\\frac{x^2}{2}}dx=^{\\text{let u = }-\\frac{x^2}{2}}$$\n",
    "$$=-\\frac{1}{\\sqrt{2\\pi}}\\int_{-\\infty}^{\\infty}e^udu=-\\frac{1}{\\sqrt{2\\pi}}(e^{-\\frac{\\infty^2}{2}}-e^{-\\frac{(-\\infty)^2}{2}})=0$$\n",
    "<br>\n",
    "$$\\mathbb{E}(X^n)=\\frac{1}{\\sqrt{2\\pi}}\\int_{-\\infty}^{\\infty}x^ne^{-\\frac{x^2}{2}}dx=\\frac{1}{\\sqrt{2\\pi}}\\int_{-\\infty}^{\\infty}x^{n-1}(xe^{-\\frac{x^2}{2}})dx=^{\\text{Integration by Parts}}$$\n",
    "$$\\frac{1}{\\sqrt{2\\pi}}(-x^{n-1}e^{\\frac{-x^2}{2}}|_{-\\infty}^{\\infty}+(n-1)\\int_{-\\infty}^{\\infty}x^{n-2}e^{\\frac{-x^2}{2}})=(n-1)\\frac{1}{\\sqrt{2\\pi}}\\int_{-\\infty}^{\\infty}x^{n-2}e^{\\frac{-x^2}{2}}=(n-1)\\mathbb{E}(X^{n-2})$$\n",
    "<br>\n",
    "$$\\kappa_3=\\mathbb{E}(X^3)=(n-1)\\mathbb{E}(X)=2*0=0$$\n",
    "$$\\kappa_4=\\mathbb{E}(X^4)-3\\mathbb{E}(X^2)^2=(4-1)\\mathbb{E}(X^2)-3*(2-1)\\mathbb{E}(X^0)^2=3*(2-1)\\mathbb{E}(X^0)-3=3-3=0$$"
   ]
  },
  {
   "cell_type": "markdown",
   "metadata": {
    "datalore": {
     "hide_input_from_viewers": false,
     "hide_output_from_viewers": false,
     "type": "MD"
    }
   },
   "source": [
    "<h2 style=\"color:rgb(0,120,170)\">Task 4 (20 Points)</h2>\n",
    "\n",
    "Compare PCA and ICA at the example of the `cifar-10.npy` dataset. Load the dataset, perform PCA and ICA using the implementations of the `sklearn.decomposition` package with 100 components each. Then visualize the components extracted by the two methods using the provided functions `show_image` and `scale`. What differences do you observe and how do they relate to the properties of PCA and ICA? "
   ]
  },
  {
   "cell_type": "code",
   "execution_count": 1,
   "metadata": {
    "datalore": {
     "hide_input_from_viewers": false,
     "hide_output_from_viewers": false,
     "type": "CODE"
    }
   },
   "outputs": [],
   "source": [
    "%matplotlib inline\n",
    "import matplotlib.pyplot as plt\n",
    "import numpy as np\n",
    "from sklearn.decomposition import PCA, FastICA\n",
    "\n",
    "def scale(s, a=0, b=1):\n",
    "    return (b - a) * (s - s.min()) / (s.max() - s.min()) + a\n",
    "\n",
    "def show_image(img):\n",
    "    plt.imshow(img.reshape(3, 32, 32).transpose((1, 2, 0)))"
   ]
  },
  {
   "cell_type": "code",
   "execution_count": 2,
   "metadata": {
    "datalore": {
     "hide_input_from_viewers": false,
     "hide_output_from_viewers": false,
     "type": "CODE"
    }
   },
   "outputs": [],
   "source": [
    "########## YOUR SOLUTION HERE ##########"
   ]
  },
  {
   "cell_type": "markdown",
   "metadata": {
    "datalore": {
     "hide_input_from_viewers": false,
     "hide_output_from_viewers": false,
     "type": "MD"
    }
   },
   "source": [
    "<h2 style=\"color:rgb(0,120,170)\">Task 5 (20 Points)</h2>\n",
    "\n",
    "Consider the cocktail party problem. Read the left channel of the files `birds.wav`, `ocean.wav`, `frogs.wav` using the `scipy.io.wavfile` package. Then construct a full-rank $3 \\times 3$ mixing matrix and produce 3 different mixings of those signals. You can listen to them using the `sounddevice` package. Finally, use `FastICA` from the `sklearn.decomposition` package to recover the original sources. Listen to the recovered sources and compare them to the originals to check if ICA was successful. *Hint:* Scale the signals to $[-1,1]$ before playing them. "
   ]
  },
  {
   "cell_type": "code",
   "execution_count": 8,
   "metadata": {
    "datalore": {
     "hide_input_from_viewers": false,
     "hide_output_from_viewers": false,
     "type": "CODE"
    }
   },
   "outputs": [
    {
     "ename": "ModuleNotFoundError",
     "evalue": "ModuleNotFoundError: No module named 'sounddevice'",
     "output_type": "error",
     "traceback": [
      "\u001b[0;31m---------------------------------------------------------------------------",
      "Traceback (most recent call last)",
      "    at line 2 in <module>",
      "ModuleNotFoundError: No module named 'sounddevice'"
     ]
    }
   ],
   "source": [
    "import scipy.io.wavfile\n",
    "import sounddevice as sd\n",
    "\n",
    "########## YOUR SOLUTION HERE ##########"
   ]
  },
  {
   "cell_type": "code",
   "execution_count": null,
   "metadata": {
    "datalore": {
     "hide_input_from_viewers": false,
     "hide_output_from_viewers": false,
     "type": "CODE"
    }
   },
   "outputs": [],
   "source": []
  }
 ],
 "metadata": {
  "datalore": {
   "base_environment": "default",
   "computation_mode": "REACTIVE",
   "package_manager": "pip",
   "packages": [],
   "version": 1
  },
  "kernelspec": {
   "display_name": "Python 3",
   "language": "python",
   "name": "python3"
  },
  "language_info": {
   "codemirror_mode": {
    "name": "ipython",
    "version": 3
   },
   "file_extension": ".py",
   "mimetype": "text/x-python",
   "name": "python",
   "nbconvert_exporter": "python",
   "pygments_lexer": "ipython3",
   "version": "3.10.4"
  }
 },
 "nbformat": 4,
 "nbformat_minor": 4
}
