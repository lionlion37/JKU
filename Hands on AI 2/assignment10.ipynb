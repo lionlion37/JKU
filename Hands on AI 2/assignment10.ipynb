{
 "cells": [
  {
   "cell_type": "markdown",
   "metadata": {},
   "source": [
    "<h1 style=\"color:rgb(0,120,170)\">Hands-on AI II</h1>\n",
    "<h2 style=\"color:rgb(0,120,170)\">Unit 10 &ndash; Meta-Learning</h2>"
   ]
  },
  {
   "cell_type": "markdown",
   "metadata": {},
   "source": [
    "<b>Author:</b> Thomas Adler<br>\n",
    "<b>Date:</b> 15-06-2020\n",
    "\n",
    "This file is part of the \"Hands-on AI II\" lecture material. The following copyright statement applies to all code within this file.\n",
    "\n",
    "<b>Copyright statement:</b><br>\n",
    "This  material,  no  matter  whether  in  printed  or  electronic  form,  may  be  used  for personal  and non-commercial educational use only.  Any reproduction of this manuscript, no matter whether as a whole or in parts, no matter whether in printed or in electronic form, requires explicit prior acceptance of the authors."
   ]
  },
  {
   "cell_type": "markdown",
   "metadata": {},
   "source": [
    "<h3 style=\"color:rgb(0,120,170)\">Exercise 0 (Voluntarily, 0 Points)</h3>\n",
    "In the theoretical part, we discussed a meta-learning method that casts RNNs as meta-learning systems (<i>learning to learn using gradient descent</i>). <b>What is the meta-parameter set $\\psi$ and what is the learner's parameter set $\\theta$ in this setting?</b> You do not need to define those sets formally. It is fine if you formulate the answer using words but make sure that you explain your answer sufficiently. "
   ]
  },
  {
   "cell_type": "markdown",
   "metadata": {},
   "source": [
    "<i>I guess that $\\theta$ and $\\psi$ are both the weights of the RNN: If I've undestood the concept correctly, everything we normally would present to the neural network 'manually' (trainset, testset, loss (we pass the prediction based on the last input and the correct corresponding label)), we now pass to the RNN at once as one datapoint. Therefore, the RNN learns to predict classes based on a trainset, a testset and the loss.</i>"
   ]
  },
  {
   "cell_type": "markdown",
   "metadata": {},
   "source": [
    "<h3 style=\"color:rgb(0,120,170)\">Exercise 1 (70 Points)</h3>\n",
    "Consider the following slightly modified version of the demonstration notebook. Extend the network architecture by one additional convolutional layer with 50 input units and 50 output units and and a $5 \\times 5$ kernel. This layer should use a stride of 1 and a padding of 2. Make sure to use BatchNorm analgogously to the other layers. Place the new layer between the second convolutional layer and the first fully connected layer. For this you will need to adapt the functions <code>__init__</code> and <code>forward</code> of the class <code>Net</code>. "
   ]
  },
  {
   "cell_type": "code",
   "execution_count": 1,
   "metadata": {},
   "outputs": [],
   "source": [
    "%matplotlib inline\n",
    "import matplotlib.pyplot as plt\n",
    "from collections import OrderedDict\n",
    "from IPython.display import display\n",
    "import numpy as np\n",
    "import torch\n",
    "import torch.nn as nn\n",
    "import torch.nn.functional as F\n",
    "import torchvision"
   ]
  },
  {
   "cell_type": "code",
   "execution_count": 2,
   "metadata": {},
   "outputs": [],
   "source": [
    "class NShotKWaySampler(torch.utils.data.Sampler):\n",
    "    def __init__(self, dataset, k, n, q, epoch_length):\n",
    "        super(NShotKWaySampler, self).__init__(dataset)\n",
    "        self.dataset = dataset\n",
    "        self.num_classes = len(dataset._characters)\n",
    "        self.samples_per_class = len(dataset._flat_character_images) // self.num_classes\n",
    "        self.epoch_length = epoch_length\n",
    "        self.n, self.k, self.q = n, k, q\n",
    "    \n",
    "    def __iter__(self):\n",
    "        def sample(k, spc):\n",
    "            r = range(k * spc, (k+1) * spc) # index range of class k in dataset\n",
    "            return np.random.choice(r, size=self.n+self.q, replace=False)\n",
    "        \n",
    "        for _ in range(self.epoch_length):\n",
    "            classes = np.random.choice(self.num_classes, size=self.k, replace=False)\n",
    "            samples = np.stack([sample(k, self.samples_per_class) for k in classes])\n",
    "            support, query = samples[:,:self.n], samples[:,self.n:]\n",
    "            yield np.concatenate([support.flatten(), query.flatten()])\n",
    "\n",
    "transform = torchvision.transforms.Compose([\n",
    "    torchvision.transforms.Resize((28, 28)),\n",
    "    torchvision.transforms.ToTensor(),\n",
    "    torchvision.transforms.Normalize((0.1307,), (0.3081,))\n",
    "])\n",
    "\n",
    "k, n, q = 5, 1, 5\n",
    "\n",
    "train_set = torchvision.datasets.Omniglot(root=\"./data\", transform=transform, background=True)\n",
    "train_sampler = NShotKWaySampler(train_set, k=k, n=n, q=q, epoch_length=100)\n",
    "train_loader = torch.utils.data.DataLoader(train_set, batch_sampler=train_sampler)\n",
    "\n",
    "test_set = torchvision.datasets.Omniglot(root=\"./data\", transform=transform, background=False)\n",
    "test_sampler = NShotKWaySampler(test_set, k=k, n=n, q=q, epoch_length=100)\n",
    "test_loader = torch.utils.data.DataLoader(test_set, batch_sampler=test_sampler)"
   ]
  },
  {
   "cell_type": "code",
   "execution_count": 3,
   "metadata": {},
   "outputs": [],
   "source": [
    "\"\"\"adapted from https://github.com/Crisescode/pytorch-mnist/blob/master/single_cpu/model.py\"\"\"\n",
    "\n",
    "class Net(nn.Module):\n",
    "    def __init__(self):\n",
    "        super(Net, self).__init__()\n",
    "        self.conv1 = nn.Conv2d(1, 20, 5)\n",
    "        self.bn1 = nn.BatchNorm2d(20)\n",
    "        self.conv2 = nn.Conv2d(20, 50, 5)\n",
    "        self.bn2 = nn.BatchNorm2d(50)\n",
    "        \n",
    "        # added layers\n",
    "        self.conv3 = nn.Conv2d(50, 50, 5)\n",
    "        self.bn3 = nn.BatchNorm2d(50)\n",
    "        # ------------\n",
    "        \n",
    "        self.fc1 = nn.Linear(4 * 4 * 50, 500)\n",
    "        self.bn4 = nn.BatchNorm1d(500)\n",
    "        self.fc2 = nn.Linear(500, 5)\n",
    "    \n",
    "    def forward(self, x, w):\n",
    "        # we use the torch.nn.functional interface in our forward method\n",
    "        x = F.conv2d(x, w['conv1.weight'], w['conv1.bias'], stride=2)\n",
    "        x = F.batch_norm(x, running_mean=None, running_var=None, weight=w['bn1.weight'], bias=w['bn1.bias'], training=True)\n",
    "        x = F.relu(x)\n",
    "        x = F.conv2d(x, w['conv2.weight'], w['conv2.bias'], stride=2)\n",
    "        x = F.batch_norm(x, running_mean=None, running_var=None, weight=w['bn2.weight'], bias=w['bn2.bias'], training=True)\n",
    "        x = F.relu(x)\n",
    "        \n",
    "        # added layers\n",
    "        x = F.conv2d(x, w['conv3.weight'], w['conv3.bias'], stride=1, padding=2)\n",
    "        x = F.batch_norm(x, running_mean=None, running_var=None, weight=w['bn3.weight'], bias=w['bn3.bias'], training=True)\n",
    "        x = F.relu(x)\n",
    "        # ------------\n",
    "        \n",
    "        x = x.view(-1, 4 * 4 * 50)\n",
    "        x = F.linear(x, w['fc1.weight'], w['fc1.bias'])\n",
    "        x = F.batch_norm(x, running_mean=None, running_var=None, weight=w['bn4.weight'], bias=w['bn4.bias'], training=True)\n",
    "        x = F.relu(x)\n",
    "        x = F.linear(x, w['fc2.weight'], w['fc2.bias'])\n",
    "        return x"
   ]
  },
  {
   "cell_type": "code",
   "execution_count": 4,
   "metadata": {},
   "outputs": [
    {
     "name": "stderr",
     "output_type": "stream",
     "text": [
      "/home/liondungl/.programs/miniconda3/envs/HandsOnAI2Venv/lib/python3.7/site-packages/ipykernel_launcher.py:39: DeprecationWarning: time.clock has been deprecated in Python 3.3 and will be removed from Python 3.8: use time.perf_counter or time.process_time instead\n"
     ]
    },
    {
     "name": "stdout",
     "output_type": "stream",
     "text": [
      "training...\n",
      "0.5344000002741813\n",
      "0.6388000020384789\n",
      "0.6928000023961067\n",
      "0.7144000044465065\n",
      "0.7404000031948089\n",
      "0.7516000032424927\n",
      "0.7668000000715256\n",
      "0.7627999983727932\n",
      "0.7915999984741211\n",
      "0.8195999982953072\n",
      "0.8076000010967255\n",
      "0.777200001180172\n",
      "0.8187999993562698\n",
      "0.8239999982714653\n",
      "0.8212000009417534\n",
      "0.852799998819828\n",
      "0.842399999499321\n",
      "0.8399999988079071\n",
      "0.8507999968528748\n",
      "0.8583999988436699\n",
      "0.8871999976038932\n",
      "0.858799998164177\n",
      "0.8927999967336655\n",
      "0.8787999951839447\n",
      "0.891999996304512\n",
      "0.8803999957442283\n",
      "0.8944000005722046\n",
      "0.8887999975681304\n",
      "0.9047999942302704\n",
      "0.909599997997284\n",
      "0.9303999966382981\n",
      "0.91519999563694\n",
      "0.9163999944925308\n",
      "0.9207999941706657\n",
      "0.9211999952793122\n",
      "0.9227999955415725\n",
      "0.9171999955177307\n",
      "0.913999993801117\n",
      "0.91519999563694\n",
      "0.9191999977827072\n",
      "0.9151999944448471\n",
      "0.9087999975681305\n",
      "0.907199998497963\n",
      "0.9171999967098237\n",
      "0.9275999927520752\n",
      "0.92519999563694\n",
      "0.9195999944210053\n",
      "0.9195999950170517\n",
      "0.9239999979734421\n",
      "0.9335999971628189\n",
      "0.9539999949932099\n",
      "0.9419999974966049\n",
      "0.9479999977350235\n",
      "0.9211999958753586\n",
      "0.9391999953985214\n",
      "0.9319999939203263\n",
      "0.9259999948740005\n",
      "0.9387999957799912\n",
      "0.9263999956846237\n",
      "0.9279999965429306\n"
     ]
    },
    {
     "data": {
      "image/png": "[encoded data removed]",
      "text/plain": [
       "<Figure size 432x288 with 1 Axes>"
      ]
     },
     "metadata": {
      "needs_background": "light"
     },
     "output_type": "display_data"
    },
    {
     "name": "stdout",
     "output_type": "stream",
     "text": [
      "test accuracy = 0.8739999973773956 test loss = 0.35680362325161696\n",
      "Took 4003.8717119999997 seconds\n"
     ]
    },
    {
     "name": "stderr",
     "output_type": "stream",
     "text": [
      "/home/liondungl/.programs/miniconda3/envs/HandsOnAI2Venv/lib/python3.7/site-packages/ipykernel_launcher.py:58: DeprecationWarning: time.clock has been deprecated in Python 3.3 and will be removed from Python 3.8: use time.perf_counter or time.process_time instead\n"
     ]
    }
   ],
   "source": [
    "import time\n",
    "\n",
    "def alg(model, x, y, train, inner_steps=1, alpha=0.4):\n",
    "    w = OrderedDict(model.named_parameters())\n",
    "    \n",
    "    for _ in range(inner_steps):\n",
    "        logits = model(x, w)\n",
    "        loss = F.cross_entropy(logits, y)\n",
    "        grad = torch.autograd.grad(loss, w.values(), create_graph=train)\n",
    "        w = OrderedDict((n, p - alpha * g) for ((n, p), g) in zip(w.items(), grad))\n",
    "    \n",
    "    return w\n",
    "\n",
    "def epoch(model, loader, train):\n",
    "    epoch_loss = []\n",
    "    epoch_acc = []\n",
    "    \n",
    "    for img, _ in loader:\n",
    "        s_img, q_img = img[:k*n], img[k*n:]\n",
    "        w = alg(model, s_img, s_lbl, train=train)\n",
    "        logits = model(q_img, w)\n",
    "        loss = F.cross_entropy(logits, q_lbl)\n",
    "        epoch_loss.append(loss.item())\n",
    "        epoch_acc.append((logits.argmax(dim=1) == q_lbl).float().mean().item())\n",
    "        \n",
    "        if train:\n",
    "            optimizer.zero_grad()\n",
    "            loss.backward()\n",
    "            optimizer.step()\n",
    "        \n",
    "    return np.stack(epoch_loss).mean(), np.stack(epoch_acc).mean()\n",
    "\n",
    "# in each episode we use label indices from 0..4 instead of the ones coming from Omniglot\n",
    "lbl = torch.arange(k).view((-1, 1)).repeat(1, n+q)\n",
    "s_lbl, q_lbl = lbl[:,:n].flatten(), lbl[:,n:].flatten()\n",
    "model = Net()\n",
    "optimizer = torch.optim.Adam(model.parameters(), lr=0.001)\n",
    "\n",
    "start_time = time.clock()\n",
    "print('training...')\n",
    "train_accs, test_accs = [], []\n",
    "num_epochs = 60\n",
    "\n",
    "for _ in range(num_epochs):\n",
    "    loss, acc = epoch(model, train_loader, train=True)\n",
    "    print(acc)\n",
    "    train_accs.append(acc)\n",
    "\n",
    "loss, acc = epoch(model, test_loader, train=False)\n",
    "test_accs.append(acc)\n",
    "\n",
    "plt.title('training')\n",
    "plt.plot(range(1, num_epochs + 1), train_accs)\n",
    "plt.xlabel('epochs')\n",
    "plt.ylabel('accuracy')\n",
    "plt.show()\n",
    "print('test accuracy =', acc, 'test loss =', loss)\n",
    "print(f'Took {time.clock() - start_time} seconds')"
   ]
  },
  {
   "cell_type": "markdown",
   "metadata": {},
   "source": [
    "<h3 style=\"color:rgb(0,120,170)\">Exercise 2 (30 Points)</h3>\n",
    "Implement first-order MAML. In the following lines of code you find another implementation of MAML but this time with a boolean flag named <code>second_order</code>. Adapt the function <code>alg</code> such that if <code>second_order==False</code> then first-order MAML is executed. Otherwise, second-order MAML should be executed. Test your code and compare the performance of fist-order and second-order MAML"
   ]
  },
  {
   "cell_type": "code",
   "execution_count": 5,
   "metadata": {},
   "outputs": [
    {
     "name": "stdout",
     "output_type": "stream",
     "text": [
      "training...\n"
     ]
    },
    {
     "name": "stderr",
     "output_type": "stream",
     "text": [
      "/home/liondungl/.programs/miniconda3/envs/HandsOnAI2Venv/lib/python3.7/site-packages/ipykernel_launcher.py:37: DeprecationWarning: time.clock has been deprecated in Python 3.3 and will be removed from Python 3.8: use time.perf_counter or time.process_time instead\n"
     ]
    },
    {
     "name": "stdout",
     "output_type": "stream",
     "text": [
      "0.29080000072717666\n",
      "0.4072000014036894\n",
      "0.43519999846816065\n",
      "0.4532000017166138\n",
      "0.4947999985516071\n",
      "0.5532000022381545\n",
      "0.5564000009000302\n",
      "0.6092000006139279\n",
      "0.5940000021457672\n",
      "0.6380000036954879\n",
      "0.657600003182888\n",
      "0.6772000014781951\n",
      "0.7068000042438507\n",
      "0.6908000031113625\n",
      "0.6956000006198884\n",
      "0.7060000032186509\n",
      "0.7340000021457672\n",
      "0.7283999997377396\n",
      "0.7168000039458274\n",
      "0.7152000002562999\n",
      "0.7432000017166138\n",
      "0.7384000000357628\n",
      "0.7560000011324882\n",
      "0.7684000006318092\n",
      "0.7544000014662743\n",
      "0.7560000020265579\n",
      "0.7696000021696091\n",
      "0.7704000002145768\n",
      "0.7667999994754792\n",
      "0.7775999999046326\n",
      "0.7699999994784593\n",
      "0.7836000013351441\n",
      "0.7808000028133393\n",
      "0.7903999993205071\n",
      "0.795200001001358\n",
      "0.8039999994635582\n",
      "0.7879999983310699\n",
      "0.81200000166893\n",
      "0.7999999994039535\n",
      "0.8191999992728234\n",
      "0.8107999968528747\n",
      "0.7776000007987023\n",
      "0.778400001525879\n",
      "0.793999999165535\n",
      "0.7971999993920327\n",
      "0.8359999984502793\n",
      "0.8191999986767768\n",
      "0.8547999984025956\n",
      "0.850399996638298\n",
      "0.850399996638298\n",
      "0.8243999987840652\n",
      "0.8603999996185303\n",
      "0.8571999979019165\n",
      "0.8599999976158142\n",
      "0.8783999961614609\n",
      "0.8871999970078468\n",
      "0.8743999975919724\n",
      "0.8631999996304512\n",
      "0.8827999961376191\n",
      "0.8732000005245208\n"
     ]
    },
    {
     "data": {
      "image/png": "[encoded data removed]",
      "text/plain": [
       "<Figure size 432x288 with 1 Axes>"
      ]
     },
     "metadata": {
      "needs_background": "light"
     },
     "output_type": "display_data"
    },
    {
     "name": "stdout",
     "output_type": "stream",
     "text": [
      "test accuracy = 0.792800001502037 test loss = 0.546753582879901\n",
      "Took 2880.683193 seconds\n"
     ]
    },
    {
     "name": "stderr",
     "output_type": "stream",
     "text": [
      "/home/liondungl/.programs/miniconda3/envs/HandsOnAI2Venv/lib/python3.7/site-packages/ipykernel_launcher.py:56: DeprecationWarning: time.clock has been deprecated in Python 3.3 and will be removed from Python 3.8: use time.perf_counter or time.process_time instead\n"
     ]
    }
   ],
   "source": [
    "def alg(model, x, y, train, second_order, inner_steps=1, alpha=0.4):\n",
    "    w = OrderedDict(model.named_parameters())\n",
    "    \n",
    "    for _ in range(inner_steps):\n",
    "        logits = model(x, w)\n",
    "        loss = F.cross_entropy(logits, y)\n",
    "        # HINT: modify the following line\n",
    "        grad = torch.autograd.grad(loss, w.values(), create_graph=second_order) # ∇θL(f(x, θ), y) \n",
    "        w = OrderedDict((n, p - alpha * g) for ((n, p), g) in zip(w.items(), grad)) # A(Dst, θ)\n",
    "    \n",
    "    return w\n",
    "\n",
    "def epoch(model, loader, train, second_order):\n",
    "    epoch_loss = []\n",
    "    epoch_acc = []\n",
    "    \n",
    "    for img, _ in loader:\n",
    "        s_img, q_img = img[:k*n], img[k*n:]\n",
    "        w = alg(model, s_img, s_lbl, train=train, second_order=second_order)\n",
    "        logits = model(q_img, w)\n",
    "        loss = F.cross_entropy(logits, q_lbl)\n",
    "        epoch_loss.append(loss.item())\n",
    "        epoch_acc.append((logits.argmax(dim=1) == q_lbl).float().mean().item())\n",
    "        \n",
    "        if train:\n",
    "            optimizer.zero_grad()\n",
    "            loss.backward() # θ − β ∇θA(Dst, θ) ∇A(Dst,θ)L(f(x, A(Dst, θ)), y)\n",
    "            optimizer.step() \n",
    "        \n",
    "    return np.stack(epoch_loss).mean(), np.stack(epoch_acc).mean()\n",
    "\n",
    "# in each episode we use label indices from 0..4 instead of the ones coming from Omniglot\n",
    "lbl = torch.arange(k).view((-1, 1)).repeat(1, n+q)\n",
    "s_lbl, q_lbl = lbl[:,:n].flatten(), lbl[:,n:].flatten()\n",
    "model = Net()\n",
    "optimizer = torch.optim.Adam(model.parameters(), lr=0.001)\n",
    "start_time = time.clock()\n",
    "print('training...')\n",
    "train_accs, test_accs = [], []\n",
    "num_epochs = 60\n",
    "\n",
    "for _ in range(num_epochs):\n",
    "    loss, acc = epoch(model, train_loader, train=True, second_order=False)\n",
    "    print(acc)\n",
    "    train_accs.append(acc)\n",
    "\n",
    "loss, acc = epoch(model, test_loader, train=False, second_order=False)\n",
    "test_accs.append(acc)\n",
    "\n",
    "plt.title('training')\n",
    "plt.plot(range(1, num_epochs + 1), train_accs)\n",
    "plt.xlabel('epochs')\n",
    "plt.ylabel('accuracy')\n",
    "plt.show()\n",
    "print('test accuracy =', acc, 'test loss =', loss)\n",
    "print(f'Took {time.clock() - start_time} seconds')"
   ]
  },
  {
   "cell_type": "markdown",
   "metadata": {},
   "source": [
    "# Comparison\n",
    "The first order MAML has a slightly lower test accuracy and a slightly higher test loss than the second-order MAML. Moreover, the training-curve of the second-order MAML is very steep at the beginning, whereas the first-oder MAML training curve has a more constant ascent.\n",
    "\n",
    "Regarding the time it took to train the model, the first-order MAML does better than the second-oder MAML.\n",
    "\n",
    "--> First-oder MAML is less accurate than second-oder MAML, but its training time is much better."
   ]
  },
  {
   "cell_type": "code",
   "execution_count": null,
   "metadata": {},
   "outputs": [],
   "source": []
  }
 ],
 "metadata": {
  "kernelspec": {
   "display_name": "Hands On AI 2",
   "language": "python",
   "name": "handsonai2"
  },
  "language_info": {
   "codemirror_mode": {
    "name": "ipython",
    "version": 3
   },
   "file_extension": ".py",
   "mimetype": "text/x-python",
   "name": "python",
   "nbconvert_exporter": "python",
   "pygments_lexer": "ipython3",
   "version": "3.7.7"
  }
 },
 "nbformat": 4,
 "nbformat_minor": 4
}
