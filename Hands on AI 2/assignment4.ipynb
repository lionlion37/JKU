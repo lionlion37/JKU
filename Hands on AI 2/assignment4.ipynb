{
 "cells": [
  {
   "cell_type": "markdown",
   "metadata": {},
   "source": [
    "| <p style=\"text-align: left;\">Name</p>               | Matr.Nr. | <p style=\"text-align: right;\">Date</p> |\n",
    "| --------------------------------------------------- | -------- | ------------------------------------- |\n",
    "| <p style=\"text-align: left\">Lion DUNGL</p> | 01553060 | 22.04.2020                            |"
   ]
  },
  {
   "cell_type": "markdown",
   "metadata": {},
   "source": [
    "<h1 style=\"color:rgb(0,120,170)\">Hands-on AI II</h1>\n",
    "<h2 style=\"color:rgb(0,120,170)\">Unit 4 (Assignment) -- Drug Discovery </h2>"
   ]
  },
  {
   "cell_type": "markdown",
   "metadata": {},
   "source": [
    "<b>Authors:</b> Brandstetter, Schimunek, Schäfl<br>\n",
    "<b>Date:</b> 30-03-2020\n",
    "\n",
    "This file is part of the \"Hands-on AI II\" lecture material. The following copyright statement applies to all code within this file.\n",
    "\n",
    "<b>Copyright statement:</b><br>\n",
    "This  material,  no  matter  whether  in  printed  or  electronic  form,  may  be  used  for personal  and non-commercial educational use only.  Any reproduction of this manuscript, no matter whether as a whole or in parts, no matter whether in printed or in electronic form, requires explicit prior acceptance of the authors."
   ]
  },
  {
   "cell_type": "markdown",
   "metadata": {},
   "source": [
    "# Exercise 0\n",
    "\n",
    "- Import the same modules as discussed in the lecture notebook.\n",
    "- Check if your model versions are correct."
   ]
  },
  {
   "cell_type": "code",
   "execution_count": 1,
   "metadata": {},
   "outputs": [],
   "source": [
    "import u4_utils as u4\n",
    "import rdkit\n",
    "import pandas as pd\n",
    "import numpy as np\n",
    "import sys\n",
    "import scipy\n",
    "import scipy.sparse as sp\n",
    "import sklearn\n",
    "import matplotlib\n",
    "import matplotlib.pyplot as plt\n",
    "\n",
    "from rdkit import Chem\n",
    "from rdkit.Chem import AllChem, Draw\n",
    "from functools import partial\n",
    "from sklearn.decomposition import PCA\n",
    "from sklearn.manifold import TSNE\n",
    "from distutils.version import LooseVersion"
   ]
  },
  {
   "cell_type": "code",
   "execution_count": 2,
   "metadata": {},
   "outputs": [
    {
     "name": "stdout",
     "output_type": "stream",
     "text": [
      "Installed Python version: 3.7 (✓)\n",
      "Installed numpy version: 1.18.1 (✓)\n",
      "Installed pandas version: 1.0.3 (✓)\n",
      "Installed scikit-learn version: 0.23.1 (✓)\n",
      "Installed scipy version: 1.4.1 (✓)\n",
      "Installed matplotlib version: 3.1.3 (✓)\n",
      "Installed rdkit version: 2020.03.2 (✓)\n"
     ]
    }
   ],
   "source": [
    "# can't manage to install the newer version of rdkit 2019.03.3, in the terminal using apt-get cache madison python-rdkit\n",
    "# it only displays one version\n",
    "\n",
    "u4.check_module_versions()"
   ]
  },
  {
   "cell_type": "markdown",
   "metadata": {},
   "source": [
    "# Exercise 1\n",
    "\n",
    "We are looking at the lowest unoccupied molecular orbital energy (LUMO). You can access the values by <code>GetProp('LUMO')</code>. \n",
    "\n",
    "- Print <i>name</i> and <i>LUMO value</i> of the first $10$ molecules\n",
    "- Which of (all) molecules has the <i>highest</i> LUMO value? Write a short piece of code to figure this out.\n",
    "\n",
    "NOTA BENE: If you access  <code>GetProp('LUMO')</code> a string is returned. You might want to convert this string to a float value for the second task (<code>float()</code>)."
   ]
  },
  {
   "cell_type": "code",
   "execution_count": 5,
   "metadata": {},
   "outputs": [],
   "source": [
    "# Load Dataset\n",
    "suppl = Chem.SDMolSupplier('resources/molecules.sdf')"
   ]
  },
  {
   "cell_type": "code",
   "execution_count": 6,
   "metadata": {},
   "outputs": [
    {
     "name": "stdout",
     "output_type": "stream",
     "text": [
      "2-nitrophenanthrene: -1.246\n",
      "8-nitroquinoline: -1.429\n",
      "5-nitroquinoline: -1.456\n",
      "1-nitrofluoranthene: -1.591\n",
      "2,5-difluoronitrobenzene: -1.59\n",
      "1,3,6,8-tetranitropyrene: -3.406\n",
      "3-methyl-4-nitrobiphenyl: -1.144\n",
      "2-acetoxy-7-nitrofluorene: -1.437\n",
      "2-methyl-7-nitrofluorene: -1.387\n",
      "9-nitrophenanthrene: -1.254\n"
     ]
    }
   ],
   "source": [
    "lumo = dict()\n",
    "\n",
    "for n, mol in enumerate(suppl):\n",
    "    lumo[str(mol.GetProp('Compound Name'))] = [float(mol.GetProp('LUMO')), n] \n",
    "    if n <= 9:\n",
    "        print(mol.GetProp('Compound Name') + \": \" + mol.GetProp('LUMO'))"
   ]
  },
  {
   "cell_type": "code",
   "execution_count": 7,
   "metadata": {},
   "outputs": [
    {
     "name": "stdout",
     "output_type": "stream",
     "text": [
      "Molecule with highest LUMO-value: 2-nitro-m-phenylenediamine, -0.529\n"
     ]
    }
   ],
   "source": [
    "highest_lumo = max(lumo, key=lambda key: lumo[key])\n",
    "print('Molecule with highest LUMO-value: ' + highest_lumo + f', {lumo[highest_lumo][0]}')"
   ]
  },
  {
   "cell_type": "markdown",
   "metadata": {},
   "source": [
    "# Exercise 2\n",
    "\n",
    "- Find the molecule in <i>suppl</i> with the <i>highest</i> and the molecule with the <i>lowest</i> number of bonds and print their respective names.\n",
    "- Draw the molecule with the <i>highest</i> number of bonds both <i>with</i> and <i>without</i> atoms numbered.\n",
    "- For the molecule with the <i>highest</i> number of bonds, print the atoms (<code> GetIdx() </code>, <code> GetSymbol() </code>), their masses and check if they are in the ring. Compare the results with the drawing."
   ]
  },
  {
   "cell_type": "code",
   "execution_count": 8,
   "metadata": {},
   "outputs": [
    {
     "name": "stdout",
     "output_type": "stream",
     "text": [
      "Molecule with highest number of bonds: 5,8-dinitrobenzo[ghi]perylene, 33 bonds\n",
      "Molecule with lowest number of bonds: nitrobenzene, 9 bonds\n"
     ]
    }
   ],
   "source": [
    "bonds = dict()\n",
    "\n",
    "for n, mol in enumerate(suppl):\n",
    "    bonds[str(mol.GetProp('Compound Name'))] = [mol.GetNumBonds(), n]\n",
    "\n",
    "highest_bonds = max(bonds, key=lambda key: bonds[key])\n",
    "print('Molecule with highest number of bonds: ' + highest_bonds + f', {bonds[highest_bonds][0]} bonds')\n",
    "\n",
    "lowest_bonds = min(bonds, key=lambda key: bonds[key]) \n",
    "print('Molecule with lowest number of bonds: ' + lowest_bonds + f', {bonds[lowest_bonds][0]} bonds')"
   ]
  },
  {
   "cell_type": "code",
   "execution_count": 9,
   "metadata": {},
   "outputs": [
    {
     "data": {
      "image/png": "[encoded data removed]",
      "text/plain": [
       "<PIL.PngImagePlugin.PngImageFile image mode=RGB size=300x300 at 0x7FA8E7603CD0>"
      ]
     },
     "execution_count": 9,
     "metadata": {},
     "output_type": "execute_result"
    }
   ],
   "source": [
    "biggest_mol = suppl[bonds[highest_bonds][1]]\n",
    "\n",
    "Draw.MolToImage(biggest_mol)"
   ]
  },
  {
   "cell_type": "code",
   "execution_count": 10,
   "metadata": {},
   "outputs": [
    {
     "data": {
      "image/png": "[encoded data removed]",
      "text/plain": [
       "<PIL.PngImagePlugin.PngImageFile image mode=RGB size=300x300 at 0x7FA8E746AC10>"
      ]
     },
     "execution_count": 10,
     "metadata": {},
     "output_type": "execute_result"
    }
   ],
   "source": [
    "Draw.MolToImage(biggest_mol, includeAtomNumbers=True)"
   ]
  },
  {
   "cell_type": "code",
   "execution_count": 11,
   "metadata": {},
   "outputs": [
    {
     "data": {
      "text/plain": [
       "'C22H10N2O4'"
      ]
     },
     "execution_count": 11,
     "metadata": {},
     "output_type": "execute_result"
    }
   ],
   "source": [
    "biggest_mol.GetProp('Formula')"
   ]
  },
  {
   "cell_type": "code",
   "execution_count": 17,
   "metadata": {},
   "outputs": [
    {
     "name": "stdout",
     "output_type": "stream",
     "text": [
      "|    | Symbol   |   Mass | Is In Ring   |\n",
      "|----+----------+--------+--------------|\n",
      "|  0 | C        | 12.011 | True         |\n",
      "|  1 | C        | 12.011 | True         |\n",
      "|  2 | C        | 12.011 | True         |\n",
      "|  3 | C        | 12.011 | True         |\n",
      "|  4 | C        | 12.011 | True         |\n",
      "|  5 | C        | 12.011 | True         |\n",
      "|  6 | C        | 12.011 | True         |\n",
      "|  7 | C        | 12.011 | True         |\n",
      "|  8 | C        | 12.011 | True         |\n",
      "|  9 | C        | 12.011 | True         |\n",
      "| 10 | C        | 12.011 | True         |\n",
      "| 11 | C        | 12.011 | True         |\n",
      "| 12 | C        | 12.011 | True         |\n",
      "| 13 | C        | 12.011 | True         |\n",
      "| 14 | C        | 12.011 | True         |\n",
      "| 15 | C        | 12.011 | True         |\n",
      "| 16 | C        | 12.011 | True         |\n",
      "| 17 | C        | 12.011 | True         |\n",
      "| 18 | C        | 12.011 | True         |\n",
      "| 19 | C        | 12.011 | True         |\n",
      "| 20 | C        | 12.011 | True         |\n",
      "| 21 | C        | 12.011 | True         |\n",
      "| 22 | N        | 14.007 | False        |\n",
      "| 23 | O        | 15.999 | False        |\n",
      "| 24 | O        | 15.999 | False        |\n",
      "| 25 | N        | 14.007 | False        |\n",
      "| 26 | O        | 15.999 | False        |\n",
      "| 27 | O        | 15.999 | False        |\n"
     ]
    }
   ],
   "source": [
    "from tabulate import tabulate\n",
    "\n",
    "l = list()\n",
    "\n",
    "for at in biggest_mol.GetAtoms():\n",
    "    l.append([str(at.GetIdx()), at.GetSymbol(), str(at.GetMass()), at.IsInRing()])\n",
    "    \n",
    "table = tabulate(l, headers=['Symbol', 'Mass', 'Is In Ring'], tablefmt='orgtbl')\n",
    "print(table)"
   ]
  },
  {
   "cell_type": "markdown",
   "metadata": {},
   "source": [
    "# Comparision with drawing\n",
    "\n",
    "The atoms with the IDs 22 - 27 are part of substituents (they subsitute H-atoms) as can be seen in the drawing and therefore they are not in any ring (see table). Moreover, these atoms are heavier than the rest. In particular, the subsituents are two NO2 (Nitrogen dioxide). \n",
    "\n",
    "The rest of the molecule is made up of six rings which are consisting of 21 C-atoms. As a result, all C-atoms are part of a ring, which can be recognised in the table above, too."
   ]
  },
  {
   "cell_type": "markdown",
   "metadata": {},
   "source": [
    "# Exercise 3\n",
    "\n",
    "- Draw all moleculs that contain the smiles string <i>C(=O)O</i>.\n",
    "- How many molecules have the element <i>Iodine</i> inside? Draw these molecules together with their names.\n",
    "- How many molecules have the element <i>Bromine</i> inside? Draw these molecules together with their names and their formula.\n",
    "- How many molecules have the element <i>Chlorine</i> inside? Which of these molecules contains the <i>most</i> atoms? Draw the molecule with the most atoms and get its name and formula."
   ]
  },
  {
   "cell_type": "code",
   "execution_count": 11,
   "metadata": {},
   "outputs": [],
   "source": [
    "def search_substruct(patt_smiles):\n",
    "    patt = Chem.MolFromSmiles(patt_smiles)\n",
    "    results = list()\n",
    "    names = list()\n",
    "    formula = list()\n",
    "\n",
    "    for mol in suppl:\n",
    "        if mol.HasSubstructMatch(patt):\n",
    "            results.append(mol)\n",
    "            names.append(mol.GetProp('Compound Name'))\n",
    "            formula.append(mol.GetProp('Formula'))\n",
    "    \n",
    "    print(f'{len(results)} match') if (len(results) == 1) else print(f'{len(results)} matches')\n",
    "    \n",
    "    return results, names, formula"
   ]
  },
  {
   "cell_type": "code",
   "execution_count": 12,
   "metadata": {},
   "outputs": [
    {
     "name": "stdout",
     "output_type": "stream",
     "text": [
      "3 matches\n"
     ]
    },
    {
     "data": {
      "image/png": "[encoded data removed]",
      "text/plain": [
       "<PIL.Image.Image image mode=RGBA size=800x200 at 0x7FB7C9EF0190>"
      ]
     },
     "execution_count": 12,
     "metadata": {},
     "output_type": "execute_result"
    }
   ],
   "source": [
    "# C(=O)O\n",
    "\n",
    "results, _, _ = search_substruct('C(=O)O')\n",
    "\n",
    "Draw.MolsToGridImage([_ for _ in results], molsPerRow=4)"
   ]
  },
  {
   "cell_type": "code",
   "execution_count": 13,
   "metadata": {},
   "outputs": [
    {
     "name": "stdout",
     "output_type": "stream",
     "text": [
      "1 match\n"
     ]
    },
    {
     "data": {
      "image/png": "[encoded data removed]",
      "text/plain": [
       "<PIL.Image.Image image mode=RGBA size=800x200 at 0x7FB7C9C186D0>"
      ]
     },
     "execution_count": 13,
     "metadata": {},
     "output_type": "execute_result"
    }
   ],
   "source": [
    "# Iodide\n",
    "\n",
    "results, names, _ = search_substruct('I')\n",
    "\n",
    "Draw.MolsToGridImage([_ for _ in results], molsPerRow=4, legends=names)"
   ]
  },
  {
   "cell_type": "code",
   "execution_count": 14,
   "metadata": {},
   "outputs": [
    {
     "name": "stdout",
     "output_type": "stream",
     "text": [
      "2 matches\n"
     ]
    },
    {
     "data": {
      "image/png": "[encoded data removed]",
      "text/plain": [
       "<PIL.Image.Image image mode=RGBA size=200x400 at 0x7FB7C9F01650>"
      ]
     },
     "execution_count": 14,
     "metadata": {},
     "output_type": "execute_result"
    }
   ],
   "source": [
    "# Bromine\n",
    "\n",
    "results, names, formula = search_substruct('Br')\n",
    "legend = list()\n",
    "\n",
    "for n in range(len(names)):\n",
    "    legend.append(f'{formula[n]}; {names[n]}')\n",
    "\n",
    "Draw.MolsToGridImage([_ for _ in results], molsPerRow=1, legends=legend)"
   ]
  },
  {
   "cell_type": "code",
   "execution_count": 15,
   "metadata": {},
   "outputs": [
    {
     "name": "stdout",
     "output_type": "stream",
     "text": [
      "16 matches\n",
      "\n",
      "Molecule with highest number of atoms and substruct \"Cl\": 3-nitro-1,2,4,7,8-pentachlorodibenzo-1,4-dioxin,\n",
      "22 atoms\n"
     ]
    },
    {
     "data": {
      "image/png": "[encoded data removed]",
      "text/plain": [
       "<PIL.Image.Image image mode=RGBA size=300x300 at 0x7FB7C9C18F90>"
      ]
     },
     "execution_count": 15,
     "metadata": {},
     "output_type": "execute_result"
    }
   ],
   "source": [
    "# Chlorine\n",
    "\n",
    "results, _, _ = search_substruct('Cl')\n",
    "\n",
    "num_atoms = dict()\n",
    "\n",
    "for n, mol in enumerate(results):\n",
    "    num_atoms[str(mol.GetProp('Compound Name'))] = [mol.GetNumAtoms(), n]\n",
    "\n",
    "max_atoms = max(num_atoms, key=lambda key: num_atoms[key])\n",
    "print('\\nMolecule with highest number of atoms and substruct \"Cl\": ' + max_atoms + \n",
    "      f',\\n{num_atoms[max_atoms][0]} atoms')\n",
    "\n",
    "biggest_mol_cl = results[num_atoms[max_atoms][1]]\n",
    "\n",
    "Draw.MolToImage(biggest_mol_cl, legend=biggest_mol_cl.GetProp('Formula'))"
   ]
  },
  {
   "cell_type": "code",
   "execution_count": null,
   "metadata": {},
   "outputs": [],
   "source": []
  }
 ],
 "metadata": {
  "kernelspec": {
   "display_name": "Hands On AI 2",
   "language": "python",
   "name": "handsonai2"
  },
  "language_info": {
   "codemirror_mode": {
    "name": "ipython",
    "version": 3
   },
   "file_extension": ".py",
   "mimetype": "text/x-python",
   "name": "python",
   "nbconvert_exporter": "python",
   "pygments_lexer": "ipython3",
   "version": "3.7.7"
  }
 },
 "nbformat": 4,
 "nbformat_minor": 4
}
