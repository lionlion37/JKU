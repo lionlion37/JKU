{
 "cells": [
  {
   "cell_type": "markdown",
   "metadata": {},
   "source": [
    "| <p style=\"text-align: left;\">Name</p>               | Matr.Nr. | <p style=\"text-align: right;\">Date</p> |\n",
    "| --------------------------------------------------- | -------- | ------------------------------------- |\n",
    "| <p style=\"text-align: left\">Lion DUNGL</p> | 01553060 | 05.05.2020                            |"
   ]
  },
  {
   "cell_type": "markdown",
   "metadata": {},
   "source": [
    "<h1 style=\"color:rgb(0,120,170)\">Hands-on AI II</h1>\n",
    "<h2 style=\"color:rgb(0,120,170)\">Unit 6 -- Introduction to Natural Language Processing I </h2>"
   ]
  },
  {
   "cell_type": "markdown",
   "metadata": {},
   "source": [
    "<b>Authors</b>: Rekabsaz, Brandstetter <br>\n",
    "<b>Date</b>: 29-04-2020\n",
    "\n",
    "This file is part of the \"Hands-on AI II\" lecture material. The following copyright statement applies to all code within this file.\n",
    "\n",
    "<b>Copyright statement:</b><br>\n",
    "This  material,  no  matter  whether  in  printed  or  electronic  form,  may  be  used  for personal  and non-commercial educational use only.  Any reproduction of this manuscript, no matter whether as a whole or in parts, no matter whether in printed or in electronic form, requires explicit prior acceptance of the authors."
   ]
  },
  {
   "cell_type": "markdown",
   "metadata": {},
   "source": [
    "# Exercise 0\n",
    "\n",
    "- Import the same modules as discussed in the lecture notebook.\n",
    "- Check if your model versions are correct.\n",
    "- Install the resources of <code>spacy</code> package for English language."
   ]
  },
  {
   "cell_type": "code",
   "execution_count": 1,
   "metadata": {},
   "outputs": [],
   "source": [
    "import u6_utils as u6\n",
    "\n",
    "import numpy as np\n",
    "import torch\n",
    "import torch.utils.data\n",
    "import torch.nn as nn\n",
    "import matplotlib.pyplot as plt\n",
    "import sys\n",
    "\n",
    "import pandas as pd\n",
    "import numpy as np\n",
    "import itertools\n",
    "import spacy\n",
    "import gensim\n",
    "import sklearn\n",
    "\n",
    "from gensim.corpora.dictionary import Dictionary\n",
    "from gensim.models import TfidfModel\n",
    "from gensim.models import KeyedVectors\n",
    "from gensim.test.utils import datapath\n",
    "\n",
    "from sklearn.svm import SVC\n",
    "from sklearn.naive_bayes import GaussianNB\n",
    "from sklearn.dummy import DummyClassifier\n",
    "from sklearn.tree import DecisionTreeClassifier\n",
    "from sklearn.linear_model import LogisticRegression\n",
    "from sklearn.ensemble import VotingClassifier, RandomForestClassifier\n",
    "from sklearn.neighbors import KNeighborsClassifier\n",
    "from sklearn.manifold import TSNE"
   ]
  },
  {
   "cell_type": "code",
   "execution_count": 2,
   "metadata": {},
   "outputs": [
    {
     "name": "stdout",
     "output_type": "stream",
     "text": [
      "Installed Python version: 3.7 (✓)\n",
      "Installed numpy version: 1.17.2 (✓)\n",
      "Installed matplotlib version: 3.0.2 (✓)\n",
      "Installed PyTorch version: 1.4.0 (✓)\n",
      "Installed Pandas version: 1.0.1 (✓)\n",
      "Installed sklearn version: 0.22.2.post1 (✓)\n",
      "Installed spacy version: 2.2.1 (✓)\n",
      "Installed gensim version: 3.8.3 (✓)\n"
     ]
    }
   ],
   "source": [
    "u6.check_module_versions()"
   ]
  },
  {
   "cell_type": "code",
   "execution_count": 3,
   "metadata": {},
   "outputs": [
    {
     "name": "stdout",
     "output_type": "stream",
     "text": [
      "Requirement already satisfied: en_core_web_sm==2.2.0 from https://github.com/explosion/spacy-models/releases/download/en_core_web_sm-2.2.0/en_core_web_sm-2.2.0.tar.gz#egg=en_core_web_sm==2.2.0 in /home/lidungl/.local/lib/python3.7/site-packages (2.2.0)\n",
      "Requirement already satisfied: spacy>=2.2.0 in /home/lidungl/.local/lib/python3.7/site-packages (from en_core_web_sm==2.2.0) (2.2.1)\n",
      "Requirement already satisfied: thinc<7.2.0,>=7.1.1 in /home/lidungl/.local/lib/python3.7/site-packages (from spacy>=2.2.0->en_core_web_sm==2.2.0) (7.1.1)\n",
      "Requirement already satisfied: blis<0.5.0,>=0.4.0 in /home/lidungl/.local/lib/python3.7/site-packages (from spacy>=2.2.0->en_core_web_sm==2.2.0) (0.4.1)\n",
      "Requirement already satisfied: cymem<2.1.0,>=2.0.2 in /home/lidungl/.local/lib/python3.7/site-packages (from spacy>=2.2.0->en_core_web_sm==2.2.0) (2.0.2)\n",
      "Requirement already satisfied: requests<3.0.0,>=2.13.0 in /usr/lib/python3/dist-packages (from spacy>=2.2.0->en_core_web_sm==2.2.0) (2.21.0)\n",
      "Requirement already satisfied: plac<1.0.0,>=0.9.6 in /home/lidungl/.local/lib/python3.7/site-packages (from spacy>=2.2.0->en_core_web_sm==2.2.0) (0.9.6)\n",
      "Requirement already satisfied: srsly<1.1.0,>=0.1.0 in /home/lidungl/.local/lib/python3.7/site-packages (from spacy>=2.2.0->en_core_web_sm==2.2.0) (0.1.0)\n",
      "Requirement already satisfied: preshed<3.1.0,>=3.0.2 in /home/lidungl/.local/lib/python3.7/site-packages (from spacy>=2.2.0->en_core_web_sm==2.2.0) (3.0.2)\n",
      "Requirement already satisfied: wasabi<1.1.0,>=0.2.0 in /home/lidungl/.local/lib/python3.7/site-packages (from spacy>=2.2.0->en_core_web_sm==2.2.0) (0.2.2)\n",
      "Requirement already satisfied: numpy>=1.15.0 in /home/lidungl/.local/lib/python3.7/site-packages (from spacy>=2.2.0->en_core_web_sm==2.2.0) (1.17.2)\n",
      "Requirement already satisfied: murmurhash<1.1.0,>=0.28.0 in /home/lidungl/.local/lib/python3.7/site-packages (from spacy>=2.2.0->en_core_web_sm==2.2.0) (1.0.2)\n",
      "Requirement already satisfied: tqdm<5.0.0,>=4.10.0 in /home/lidungl/.local/lib/python3.7/site-packages (from thinc<7.2.0,>=7.1.1->spacy>=2.2.0->en_core_web_sm==2.2.0) (4.36.1)\n",
      "\u001b[38;5;2m✔ Download and installation successful\u001b[0m\n",
      "You can now load the model via spacy.load('en_core_web_sm')\n",
      "\u001b[38;5;2m✔ Linking successful\u001b[0m\n",
      "/home/lidungl/.local/lib/python3.7/site-packages/en_core_web_sm -->\n",
      "/home/lidungl/.local/lib/python3.7/site-packages/spacy/data/en\n",
      "You can now load the model via spacy.load('en')\n"
     ]
    }
   ],
   "source": [
    "!python3 -m spacy download en"
   ]
  },
  {
   "cell_type": "markdown",
   "metadata": {},
   "source": [
    "<h3 style=\"color:rgb(0,120,170)\">Parameters</h3>"
   ]
  },
  {
   "cell_type": "code",
   "execution_count": 4,
   "metadata": {},
   "outputs": [],
   "source": [
    "DATA_PATH = 'resources/thedeep.data.txt'\n",
    "LABELS_PATH = 'resources/thedeep.labels.txt'\n",
    "\n",
    "TEST_SPLIT = 0.1\n",
    "MAX_NB_WORDS=20000"
   ]
  },
  {
   "cell_type": "markdown",
   "metadata": {},
   "source": [
    "<h3 style=\"color:rgb(0,120,170)\">Loading Data</h3>\n",
    "Loading they CSV formatted data"
   ]
  },
  {
   "cell_type": "code",
   "execution_count": 5,
   "metadata": {
    "scrolled": true
   },
   "outputs": [
    {
     "data": {
      "text/html": [
       "<div>\n",
       "<style scoped>\n",
       "    .dataframe tbody tr th:only-of-type {\n",
       "        vertical-align: middle;\n",
       "    }\n",
       "\n",
       "    .dataframe tbody tr th {\n",
       "        vertical-align: top;\n",
       "    }\n",
       "\n",
       "    .dataframe thead th {\n",
       "        text-align: right;\n",
       "    }\n",
       "</style>\n",
       "<table border=\"1\" class=\"dataframe\">\n",
       "  <thead>\n",
       "    <tr style=\"text-align: right;\">\n",
       "      <th></th>\n",
       "      <th>text</th>\n",
       "      <th>label</th>\n",
       "    </tr>\n",
       "    <tr>\n",
       "      <th>sentence_id</th>\n",
       "      <th></th>\n",
       "      <th></th>\n",
       "    </tr>\n",
       "  </thead>\n",
       "  <tbody>\n",
       "    <tr>\n",
       "      <th>0</th>\n",
       "      <td>However, some northern areas experienced a lat...</td>\n",
       "      <td>3</td>\n",
       "    </tr>\n",
       "    <tr>\n",
       "      <th>1</th>\n",
       "      <td>In Haiti, since the beginning of the outbreak ...</td>\n",
       "      <td>4</td>\n",
       "    </tr>\n",
       "    <tr>\n",
       "      <th>2</th>\n",
       "      <td>“More than a million children are out of prima...</td>\n",
       "      <td>2</td>\n",
       "    </tr>\n",
       "    <tr>\n",
       "      <th>3</th>\n",
       "      <td>[as of march]Food access remains extremely pro...</td>\n",
       "      <td>3</td>\n",
       "    </tr>\n",
       "    <tr>\n",
       "      <th>4</th>\n",
       "      <td>Swift, well-coordinated actions by different c...</td>\n",
       "      <td>10</td>\n",
       "    </tr>\n",
       "  </tbody>\n",
       "</table>\n",
       "</div>"
      ],
      "text/plain": [
       "                                                          text  label\n",
       "sentence_id                                                          \n",
       "0            However, some northern areas experienced a lat...      3\n",
       "1            In Haiti, since the beginning of the outbreak ...      4\n",
       "2            “More than a million children are out of prima...      2\n",
       "3            [as of march]Food access remains extremely pro...      3\n",
       "4            Swift, well-coordinated actions by different c...     10"
      ]
     },
     "execution_count": 5,
     "metadata": {},
     "output_type": "execute_result"
    }
   ],
   "source": [
    "df = pd.read_csv(DATA_PATH, sep=\",\", index_col=\"sentence_id\")\n",
    "df.head()"
   ]
  },
  {
   "cell_type": "markdown",
   "metadata": {},
   "source": [
    "# Exercise 1\n",
    "\n",
    "- Get the label captions from the file 'resources/thedeep.labels.txt'.\n",
    "- Reverse the label captions, i.e. that 'Agriculture' has the label 11 instead of the label 0.\n",
    "- Print the reversed label captions dictionary and work with the dictionary from now on."
   ]
  },
  {
   "cell_type": "code",
   "execution_count": 6,
   "metadata": {},
   "outputs": [],
   "source": [
    "labelcaptions = dict()\n",
    "with open(LABELS_PATH, 'r') as f:\n",
    "    for label in f:\n",
    "        lnum, lname = label.strip().split(',')\n",
    "        labelcaptions[lname] = 11 - int(lnum)"
   ]
  },
  {
   "cell_type": "code",
   "execution_count": 7,
   "metadata": {},
   "outputs": [
    {
     "name": "stdout",
     "output_type": "stream",
     "text": [
      "{'Agriculture': 11, 'Cross': 10, 'Education': 9, 'Food': 8, 'Health': 7, 'Livelihood': 6, 'Logistic': 5, 'NFI': 4, 'Nutrition': 3, 'Protection': 2, 'Shelter': 1, 'WASH': 0}\n"
     ]
    }
   ],
   "source": [
    "print(labelcaptions)"
   ]
  },
  {
   "cell_type": "markdown",
   "metadata": {},
   "source": [
    "<h3 style=\"color:rgb(0,120,170)\">Pre-processing</h3>\n",
    "Applying lemmatization, remove punctuations and finally tokenizes the text ... it takes some time!"
   ]
  },
  {
   "cell_type": "code",
   "execution_count": 8,
   "metadata": {},
   "outputs": [
    {
     "data": {
      "text/html": [
       "<div>\n",
       "<style scoped>\n",
       "    .dataframe tbody tr th:only-of-type {\n",
       "        vertical-align: middle;\n",
       "    }\n",
       "\n",
       "    .dataframe tbody tr th {\n",
       "        vertical-align: top;\n",
       "    }\n",
       "\n",
       "    .dataframe thead th {\n",
       "        text-align: right;\n",
       "    }\n",
       "</style>\n",
       "<table border=\"1\" class=\"dataframe\">\n",
       "  <thead>\n",
       "    <tr style=\"text-align: right;\">\n",
       "      <th></th>\n",
       "      <th>text</th>\n",
       "      <th>label</th>\n",
       "      <th>text_preprocessed</th>\n",
       "    </tr>\n",
       "    <tr>\n",
       "      <th>sentence_id</th>\n",
       "      <th></th>\n",
       "      <th></th>\n",
       "      <th></th>\n",
       "    </tr>\n",
       "  </thead>\n",
       "  <tbody>\n",
       "    <tr>\n",
       "      <th>0</th>\n",
       "      <td>However, some northern areas experienced a lat...</td>\n",
       "      <td>3</td>\n",
       "      <td>[However, some, northern, areas, experienced, ...</td>\n",
       "    </tr>\n",
       "    <tr>\n",
       "      <th>1</th>\n",
       "      <td>In Haiti, since the beginning of the outbreak ...</td>\n",
       "      <td>4</td>\n",
       "      <td>[In, Haiti, since, the, beginning, of, the, ou...</td>\n",
       "    </tr>\n",
       "    <tr>\n",
       "      <th>2</th>\n",
       "      <td>“More than a million children are out of prima...</td>\n",
       "      <td>2</td>\n",
       "      <td>[More, than, a, million, children, are, out, o...</td>\n",
       "    </tr>\n",
       "    <tr>\n",
       "      <th>3</th>\n",
       "      <td>[as of march]Food access remains extremely pro...</td>\n",
       "      <td>3</td>\n",
       "      <td>[as, of, march]Food, access, remains, extremel...</td>\n",
       "    </tr>\n",
       "    <tr>\n",
       "      <th>4</th>\n",
       "      <td>Swift, well-coordinated actions by different c...</td>\n",
       "      <td>10</td>\n",
       "      <td>[Swift, well, coordinated, actions, by, differ...</td>\n",
       "    </tr>\n",
       "  </tbody>\n",
       "</table>\n",
       "</div>"
      ],
      "text/plain": [
       "                                                          text  label  \\\n",
       "sentence_id                                                             \n",
       "0            However, some northern areas experienced a lat...      3   \n",
       "1            In Haiti, since the beginning of the outbreak ...      4   \n",
       "2            “More than a million children are out of prima...      2   \n",
       "3            [as of march]Food access remains extremely pro...      3   \n",
       "4            Swift, well-coordinated actions by different c...     10   \n",
       "\n",
       "                                             text_preprocessed  \n",
       "sentence_id                                                     \n",
       "0            [However, some, northern, areas, experienced, ...  \n",
       "1            [In, Haiti, since, the, beginning, of, the, ou...  \n",
       "2            [More, than, a, million, children, are, out, o...  \n",
       "3            [as, of, march]Food, access, remains, extremel...  \n",
       "4            [Swift, well, coordinated, actions, by, differ...  "
      ]
     },
     "execution_count": 8,
     "metadata": {},
     "output_type": "execute_result"
    }
   ],
   "source": [
    "nlp = spacy.load('en')\n",
    "\n",
    "df['text_preprocessed'] = df.text.apply(lambda x: [token for token in nlp(x) if not token.is_punct])\n",
    "df.head()"
   ]
  },
  {
   "cell_type": "markdown",
   "metadata": {},
   "source": [
    "<h3 style=\"color:rgb(0,120,170)\">Loading documents and labels in arrays.</h3> \n",
    "It will then be more convenient for data splitting and learning models."
   ]
  },
  {
   "cell_type": "code",
   "execution_count": 9,
   "metadata": {},
   "outputs": [
    {
     "name": "stdout",
     "output_type": "stream",
     "text": [
      "12000 data items\n"
     ]
    }
   ],
   "source": [
    "documents = []\n",
    "for row in df.text_preprocessed:\n",
    "    documents.append([token.lemma_ for token in row])\n",
    "labels = np.array(list(df['label'].values))\n",
    "print ('%d data items' % len(documents))\n",
    "\n",
    "df=None"
   ]
  },
  {
   "cell_type": "markdown",
   "metadata": {},
   "source": [
    "<h3 style=\"color:rgb(0,120,170)\">Splitting Data to Train/Validation/Test</h3>"
   ]
  },
  {
   "cell_type": "code",
   "execution_count": 10,
   "metadata": {},
   "outputs": [
    {
     "name": "stdout",
     "output_type": "stream",
     "text": [
      "Train/Validation/Test sizes : 9600 / 1200 / 1200\n"
     ]
    }
   ],
   "source": [
    "docs_train, docs_valtest, labels_train, labels_valtest = sklearn.model_selection.train_test_split(documents, labels, test_size=TEST_SPLIT*2, random_state=42)\n",
    "docs_val, docs_test, labels_val, labels_test = sklearn.model_selection.train_test_split(docs_valtest, labels_valtest, test_size=0.5, random_state=43)\n",
    "\n",
    "print (\"Train/Validation/Test sizes : %d / %d / %d\" % (len(docs_train), len(docs_val), len(docs_test)))\n",
    "\n",
    "documents=None\n",
    "labels=None"
   ]
  },
  {
   "cell_type": "markdown",
   "metadata": {},
   "source": [
    "# Exercise 2\n",
    "\n",
    "Looking at the distribution of word frequencies in the training dataset.\n",
    "\n",
    "- Plot 'Words ID' vs 'Words Count' to verify Zipf's law.\n",
    "- Plot 'Words ID' vs 'Words Count' in Log-Log scale.\n",
    "- Plot 'Words ID' vs 'Words Count' with only the X-axis in Log scale.\n",
    "- Plot 'Words ID' vs 'Words Count' with only th Y-axis in Log scale.\n",
    "- Count the number of different words.\n",
    "- What are the 10 most frequent words, how often do they occur?\n",
    "- What is the number of words with exactly one occurence?"
   ]
  },
  {
   "cell_type": "code",
   "execution_count": 11,
   "metadata": {},
   "outputs": [
    {
     "data": {
      "image/png": "[encoded data removed]",
      "text/plain": [
       "<Figure size 648x432 with 1 Axes>"
      ]
     },
     "metadata": {
      "needs_background": "light"
     },
     "output_type": "display_data"
    },
    {
     "data": {
      "image/png": "[encoded data removed]",
      "text/plain": [
       "<Figure size 648x432 with 1 Axes>"
      ]
     },
     "metadata": {
      "needs_background": "light"
     },
     "output_type": "display_data"
    },
    {
     "data": {
      "image/png": "[encoded data removed]",
      "text/plain": [
       "<Figure size 648x432 with 1 Axes>"
      ]
     },
     "metadata": {
      "needs_background": "light"
     },
     "output_type": "display_data"
    },
    {
     "data": {
      "image/png": "[encoded data removed]",
      "text/plain": [
       "<Figure size 648x432 with 1 Axes>"
      ]
     },
     "metadata": {
      "needs_background": "light"
     },
     "output_type": "display_data"
    },
    {
     "name": "stdout",
     "output_type": "stream",
     "text": [
      "Number of different Words: 25774\n",
      "Top 10 Words: ['the', 'of', 'and', 'in', 'be', 'to', 'have', '-PRON-', 'a', 'for']\n",
      "Number of occurrences of top 10 Words: [39174, 27927, 25444, 24258, 24207, 19578, 9598, 8543, 8111, 5326]\n",
      "Number of Words that only occur once: 11812\n"
     ]
    }
   ],
   "source": [
    "tokens_count = {}\n",
    "for doc in docs_train:\n",
    "    for token in doc:\n",
    "        if (token in tokens_count):\n",
    "            tokens_count[token] += 1\n",
    "        else:\n",
    "            tokens_count[token] = 1\n",
    "\n",
    "tokens_count = {k: v for k, v in sorted(tokens_count.items(), key=lambda item: item[1], reverse=True)}\n",
    "\n",
    "def plot_tokens(logaxis=None):\n",
    "    \n",
    "    plt.figure(figsize=(9, 6))\n",
    "    plt.plot(list(tokens_count.values()))\n",
    "    plt.xlabel('Words ID')\n",
    "    plt.ylabel('Words Count')\n",
    "    \n",
    "    if logaxis:\n",
    "        if logaxis == 'x' or logaxis == 'xy':\n",
    "            plt.xscale('log')\n",
    "        if logaxis == 'y' or logaxis == 'xy':\n",
    "            plt.yscale('log')\n",
    "    plt.show()\n",
    "    \n",
    "plot_tokens()\n",
    "plot_tokens('xy')\n",
    "plot_tokens('x')\n",
    "plot_tokens('y')\n",
    "\n",
    "num_one = 0\n",
    "for n in list(tokens_count.values()):\n",
    "    if n == 1:\n",
    "        num_one += 1\n",
    "        \n",
    "print(\"Number of different Words:\", len(tokens_count))\n",
    "print(\"Top 10 Words:\", list(tokens_count.keys())[0:10])\n",
    "print(\"Number of occurrences of top 10 Words:\", list(tokens_count.values())[0:10])\n",
    "print(\"Number of Words that only occur once:\", num_one)"
   ]
  },
  {
   "cell_type": "markdown",
   "metadata": {},
   "source": [
    "<h3 style=\"color:rgb(0,120,170)\">Creating a dictionary</h3>\n",
    "We create a dictionary by removing extremely frequent words and keeping the top <i>MAX_NB_WORDS=20000</i> words"
   ]
  },
  {
   "cell_type": "code",
   "execution_count": 12,
   "metadata": {},
   "outputs": [
    {
     "name": "stdout",
     "output_type": "stream",
     "text": [
      "Total 20000 unique tokens.\n"
     ]
    }
   ],
   "source": [
    "dic = Dictionary(docs_train)\n",
    "dic.filter_extremes(no_below=1, no_above=0.5, keep_n=MAX_NB_WORDS)\n",
    "dic.compactify()\n",
    "print(\"Total %s unique tokens.\" % len(dic))"
   ]
  },
  {
   "cell_type": "markdown",
   "metadata": {},
   "source": [
    "<h3 style=\"color:rgb(0,120,170)\">Feature vectors of documents</h3>\n",
    "Using the created dictionary, we first convert text documents to wordIDs and term counts."
   ]
  },
  {
   "cell_type": "code",
   "execution_count": 13,
   "metadata": {},
   "outputs": [],
   "source": [
    "docs_train_bow = [dic.doc2bow(_doc) for _doc in docs_train] \n",
    "docs_val_bow = [dic.doc2bow(_doc) for _doc in docs_val] \n",
    "docs_test_bow = [dic.doc2bow(_doc) for _doc in docs_test] "
   ]
  },
  {
   "cell_type": "markdown",
   "metadata": {},
   "source": [
    "# Exercise 3\n",
    "\n",
    "- Take a look at the bag-of-word dictionary of the training ('docs_train_bow'). How many words does the longest dictionary entry have? How many word does the shortest dictionary entry have?"
   ]
  },
  {
   "cell_type": "code",
   "execution_count": 14,
   "metadata": {},
   "outputs": [
    {
     "name": "stdout",
     "output_type": "stream",
     "text": [
      "Number of Words of longest dictionary: 641\n",
      "Number of Words of shortest dictionary: 4\n"
     ]
    }
   ],
   "source": [
    "len_list = [len(doc) for doc in docs_train_bow]\n",
    "\n",
    "print('Number of Words of longest dictionary:', max(len_list))\n",
    "print('Number of Words of shortest dictionary:', min(len_list))"
   ]
  },
  {
   "cell_type": "markdown",
   "metadata": {},
   "source": [
    "<h3 style=\"color:rgb(0,120,170)\">Creating TF-IDF vectors</h3>\n",
    "To create the TF_IDF vectors, we train the TfidfModel model using the bag-of-word representations of training data"
   ]
  },
  {
   "cell_type": "code",
   "execution_count": 15,
   "metadata": {},
   "outputs": [],
   "source": [
    "weight_model = TfidfModel(docs_train_bow)\n",
    "\n",
    "docs_train_tfidf=[]\n",
    "docs_val_tfidf=[]\n",
    "docs_test_tfidf=[]\n",
    "\n",
    "for _bow in docs_train_bow:\n",
    "    docs_train_tfidf.append(weight_model[_bow])\n",
    "for _bow in docs_val_bow:\n",
    "    docs_val_tfidf.append(weight_model[_bow])\n",
    "for _bow in docs_test_bow:\n",
    "    docs_test_tfidf.append(weight_model[_bow])"
   ]
  },
  {
   "cell_type": "markdown",
   "metadata": {},
   "source": [
    "<h3 style=\"color:rgb(0,120,170)\">Dimensionality Reduction</h3>\n",
    "Before training the models, we want to reduce the dimensionality of the TFIDF vector using the LSA method. <br>\n",
    "We sparsify the TFIDF vectors, train an SVD model for dimensionality reduction, and reduce the dimension of the vectors."
   ]
  },
  {
   "cell_type": "code",
   "execution_count": 16,
   "metadata": {},
   "outputs": [],
   "source": [
    "docs_train_tfidf_sparse = np.zeros((len(docs_train_tfidf), MAX_NB_WORDS))\n",
    "for doc_i, doc in enumerate(docs_train_tfidf):\n",
    "    for item in doc:\n",
    "        docs_train_tfidf_sparse[doc_i][item[0]] = item[1]\n",
    "        \n",
    "docs_val_tfidf_sparse = np.zeros((len(docs_val_tfidf), MAX_NB_WORDS))\n",
    "for doc_i, doc in enumerate(docs_val_tfidf):\n",
    "    for item in doc:\n",
    "        docs_val_tfidf_sparse[doc_i][item[0]] = item[1]\n",
    "        \n",
    "docs_test_tfidf_sparse = np.zeros((len(docs_test_tfidf), MAX_NB_WORDS))\n",
    "for doc_i, doc in enumerate(docs_test_tfidf):\n",
    "    for item in doc:\n",
    "        docs_test_tfidf_sparse[doc_i][item[0]] = item[1]\n",
    "        \n",
    "svd = sklearn.decomposition.TruncatedSVD(n_components=300)\n",
    "svd.fit(docs_train_tfidf_sparse)\n",
    "\n",
    "vecs_train = svd.transform(docs_train_tfidf_sparse)\n",
    "vecs_val = svd.transform(docs_val_tfidf_sparse)\n",
    "vecs_test = svd.transform(docs_test_tfidf_sparse)"
   ]
  },
  {
   "cell_type": "markdown",
   "metadata": {},
   "source": [
    "# Exercise 4\n",
    "\n",
    "- Train different models to predict the labels of the test dataset: NaiveBayes, $k$-nearest neighbors (with $k$=10), and RandomForest (with n_estimators=100).\n",
    "- Which classifier performs best?\n",
    "- Plot the accuracy for each of the classifier\n",
    "- Plot the per-class evaluation of the best classifier"
   ]
  },
  {
   "cell_type": "code",
   "execution_count": 17,
   "metadata": {},
   "outputs": [],
   "source": [
    "def train(x, y, modelname):\n",
    " \n",
    "    if modelname == 'NaiveBayes':\n",
    "        clf = GaussianNB()\n",
    "    elif modelname == 'kNN':\n",
    "        clf = KNeighborsClassifier(n_neighbors=10)\n",
    "    elif modelname == 'RandomForest':\n",
    "        clf = RandomForestClassifier(n_estimators=100, random_state=1)\n",
    "    \n",
    "    else:\n",
    "        print('No or false defintion of model!')\n",
    "    clf.fit(x, y)\n",
    "    \n",
    "    return clf"
   ]
  },
  {
   "cell_type": "code",
   "execution_count": 18,
   "metadata": {},
   "outputs": [
    {
     "name": "stdout",
     "output_type": "stream",
     "text": [
      "NaiveBayes\n",
      "[7 9 4 ... 3 2 9]\n",
      "kNN\n",
      "[7 4 4 ... 3 2 3]\n",
      "RandomForest\n",
      "[10  9  4 ...  3  2  9]\n",
      "Done!\n"
     ]
    }
   ],
   "source": [
    "modelnames = ['NaiveBayes','kNN','RandomForest']\n",
    "predictions = dict()\n",
    "\n",
    "for clf in modelnames:\n",
    "    print(clf)\n",
    "    model = train(vecs_train, labels_train, clf)\n",
    "    \n",
    "    predictions[clf] = model.predict(vecs_test)\n",
    "    print(predictions[clf])\n",
    "    \n",
    "print('Done!')"
   ]
  },
  {
   "cell_type": "code",
   "execution_count": 19,
   "metadata": {},
   "outputs": [
    {
     "name": "stdout",
     "output_type": "stream",
     "text": [
      "[('NaiveBayes', 0.4525), ('kNN', 0.49583333333333335), ('RandomForest', 0.6033333333333334)]\n"
     ]
    }
   ],
   "source": [
    "results={}\n",
    "\n",
    "for modelname in predictions:\n",
    "    results[modelname] = sklearn.metrics.classification_report(labels_test, predictions[modelname], output_dict=True)\n",
    "    \n",
    "accuracies = [(_modelname, results[_modelname]['accuracy']) for _modelname in modelnames]\n",
    "\n",
    "print(accuracies)"
   ]
  },
  {
   "cell_type": "markdown",
   "metadata": {},
   "source": [
    "# Answer\n",
    "The RandomForestClassifier performs the best with an accuracy of 60% on the testset."
   ]
  },
  {
   "cell_type": "code",
   "execution_count": 20,
   "metadata": {},
   "outputs": [
    {
     "data": {
      "image/png": "[encoded data removed]",
      "text/plain": [
       "<Figure size 576x432 with 1 Axes>"
      ]
     },
     "metadata": {
      "needs_background": "light"
     },
     "output_type": "display_data"
    }
   ],
   "source": [
    "EVAL_MEASURE = 'accuracy'\n",
    "\n",
    "fig = plt.figure(figsize=(8,6)) \n",
    "\n",
    "_data_plot = [results[_modelname][EVAL_MEASURE] for _modelname in modelnames]\n",
    "\n",
    "plt.bar(modelnames, _data_plot)\n",
    "    \n",
    "plt.ylabel(EVAL_MEASURE, fontsize=18)\n",
    "plt.tick_params(axis='both', which='major', labelsize=16)\n",
    "plt.tick_params(axis='both', which='minor', labelsize=12)\n",
    "plt.xticks(rotation=90)\n",
    "\n",
    "plt.show()"
   ]
  },
  {
   "cell_type": "code",
   "execution_count": 21,
   "metadata": {},
   "outputs": [
    {
     "data": {
      "image/png": "[encoded data removed]",
      "text/plain": [
       "<Figure size 576x432 with 1 Axes>"
      ]
     },
     "metadata": {
      "needs_background": "light"
     },
     "output_type": "display_data"
    }
   ],
   "source": [
    "EVAL_MEASURE = 'precision'\n",
    "\n",
    "MODEL_NAME = 'RandomForest'\n",
    "\n",
    "fig = plt.figure(figsize=(8,6)) \n",
    "\n",
    "_labelids=[x for x in results[MODEL_NAME].keys()][:12]\n",
    "_labeltexts=[]\n",
    "_res = []\n",
    "for _lid in _labelids:\n",
    "    for _ltext in labelcaptions:\n",
    "        if str(labelcaptions[_ltext])==_lid:\n",
    "            _labeltexts.append(_ltext)\n",
    "            \n",
    "    _res.append(results[MODEL_NAME][_lid][EVAL_MEASURE])\n",
    "\n",
    "plt.bar(_labeltexts, _res)\n",
    "    \n",
    "plt.title(\"Per Class Evaluation of %s\" % (MODEL_NAME), fontsize=15)\n",
    "plt.ylabel(\"%s\" % (EVAL_MEASURE), fontsize=15)\n",
    "plt.tick_params(axis='both', which='major', labelsize=16)\n",
    "plt.tick_params(axis='both', which='minor', labelsize=12)\n",
    "\n",
    "plt.xticks(rotation=90)\n",
    "plt.show()"
   ]
  }
 ],
 "metadata": {
  "kernelspec": {
   "display_name": "Python 3",
   "language": "python",
   "name": "python3"
  },
  "language_info": {
   "codemirror_mode": {
    "name": "ipython",
    "version": 3
   },
   "file_extension": ".py",
   "mimetype": "text/x-python",
   "name": "python",
   "nbconvert_exporter": "python",
   "pygments_lexer": "ipython3",
   "version": "3.7.5"
  }
 },
 "nbformat": 4,
 "nbformat_minor": 4
}
